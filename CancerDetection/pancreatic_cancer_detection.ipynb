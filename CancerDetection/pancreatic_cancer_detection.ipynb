{
 "cells": [
  {
   "cell_type": "markdown",
   "id": "342a0436",
   "metadata": {},
   "source": [
    "## Pancreatic Cancer Detection"
   ]
  },
  {
   "cell_type": "markdown",
   "id": "7f03e378",
   "metadata": {},
   "source": [
    "<b>Background</b>\n",
    "Pancreatic cancer is an extremely deadly type of cancer. Once diagnosed, the five-year survival rate is less than 10%. However, if pancreatic cancer is caught early, the odds of surviving are much better. Unfortunately, many cases of pancreatic cancer show no symptoms until the cancer has spread throughout the body. A diagnostic test to identify people with pancreatic cancer could be enormously helpful."
   ]
  },
  {
   "cell_type": "markdown",
   "id": "806359eb",
   "metadata": {},
   "source": [
    "<b>Prediction task</b>\n",
    "The goal in this dataset is predicting diagnosis, and more specifically, differentiating between 3 (pancreatic cancer) versus 2 (non-cancerous pancreas condition) and 1 (healthy). The dataset includes information on stage of pancreatic cancer, and diagnosis for non-cancerous patients, but remember—these won't be available to a predictive model. The goal, after all, is to predict the presence of disease before it's diagnosed, not after!"
   ]
  },
  {
   "cell_type": "markdown",
   "id": "db9e28d8",
   "metadata": {},
   "source": [
    "<b>Important note: </b> The columns “benign_sample_diagnosis” and “stage” should not be used for prediction, as the first column “benign_sample_diagnosis” is related to when the cancer is bening and the second to the stage of malignant cancer!"
   ]
  },
  {
   "cell_type": "markdown",
   "id": "d0c99d31",
   "metadata": {},
   "source": [
    "<b>Important note 2:</b> Since, there are three classes, class 3 (pancreatic cancer) versus class 2 (non-cancerous pancreas condition) and class 1 (healthy). I am going to make it a binary classification problem, where class 0 represents (classes 1 and 2) and class 1 represents (class 3)."
   ]
  },
  {
   "cell_type": "markdown",
   "id": "b562f3b0",
   "metadata": {},
   "source": [
    "### Importing Libraries"
   ]
  },
  {
   "cell_type": "code",
   "execution_count": 1,
   "id": "5762bc55",
   "metadata": {},
   "outputs": [],
   "source": [
    "import numpy as np # For numerical computing\n",
    "import pandas as pd # For data manipulation\n",
    "import matplotlib.pyplot as plt # For data visualization\n",
    "import seaborn as sns # For data visualization\n",
    "from sklearn.model_selection import train_test_split # For data train test split\n",
    "from sklearn.linear_model import LogisticRegression # Logistic regression algorithm\n",
    "from sklearn.tree import DecisionTreeClassifier # Decision tree algorithm\n",
    "from sklearn.metrics import accuracy_score, classification_report, confusion_matrix # Evaluation metrics"
   ]
  },
  {
   "cell_type": "markdown",
   "id": "f6a09f60",
   "metadata": {},
   "source": [
    "### Importing Data and Data Description"
   ]
  },
  {
   "cell_type": "code",
   "execution_count": 2,
   "id": "a2bbb095",
   "metadata": {},
   "outputs": [],
   "source": [
    "data = pd.read_csv(\"data/data.csv\")\n",
    "data_description = pd.read_csv(\"data/data-documentation-description.csv\")"
   ]
  },
  {
   "cell_type": "code",
   "execution_count": 3,
   "id": "30843748",
   "metadata": {},
   "outputs": [
    {
     "data": {
      "text/html": [
       "<div>\n",
       "<style scoped>\n",
       "    .dataframe tbody tr th:only-of-type {\n",
       "        vertical-align: middle;\n",
       "    }\n",
       "\n",
       "    .dataframe tbody tr th {\n",
       "        vertical-align: top;\n",
       "    }\n",
       "\n",
       "    .dataframe thead th {\n",
       "        text-align: right;\n",
       "    }\n",
       "</style>\n",
       "<table border=\"1\" class=\"dataframe\">\n",
       "  <thead>\n",
       "    <tr style=\"text-align: right;\">\n",
       "      <th></th>\n",
       "      <th>sample_id</th>\n",
       "      <th>patient_cohort</th>\n",
       "      <th>sample_origin</th>\n",
       "      <th>age</th>\n",
       "      <th>sex</th>\n",
       "      <th>diagnosis</th>\n",
       "      <th>stage</th>\n",
       "      <th>benign_sample_diagnosis</th>\n",
       "      <th>plasma_CA19_9</th>\n",
       "      <th>creatinine</th>\n",
       "      <th>LYVE1</th>\n",
       "      <th>REG1B</th>\n",
       "      <th>TFF1</th>\n",
       "      <th>REG1A</th>\n",
       "    </tr>\n",
       "  </thead>\n",
       "  <tbody>\n",
       "    <tr>\n",
       "      <th>0</th>\n",
       "      <td>S1</td>\n",
       "      <td>Cohort1</td>\n",
       "      <td>BPTB</td>\n",
       "      <td>33</td>\n",
       "      <td>F</td>\n",
       "      <td>1</td>\n",
       "      <td>NaN</td>\n",
       "      <td>NaN</td>\n",
       "      <td>11.7</td>\n",
       "      <td>1.83222</td>\n",
       "      <td>0.893219</td>\n",
       "      <td>52.94884</td>\n",
       "      <td>654.282174</td>\n",
       "      <td>1262.000</td>\n",
       "    </tr>\n",
       "    <tr>\n",
       "      <th>1</th>\n",
       "      <td>S10</td>\n",
       "      <td>Cohort1</td>\n",
       "      <td>BPTB</td>\n",
       "      <td>81</td>\n",
       "      <td>F</td>\n",
       "      <td>1</td>\n",
       "      <td>NaN</td>\n",
       "      <td>NaN</td>\n",
       "      <td>NaN</td>\n",
       "      <td>0.97266</td>\n",
       "      <td>2.037585</td>\n",
       "      <td>94.46703</td>\n",
       "      <td>209.488250</td>\n",
       "      <td>228.407</td>\n",
       "    </tr>\n",
       "    <tr>\n",
       "      <th>2</th>\n",
       "      <td>S100</td>\n",
       "      <td>Cohort2</td>\n",
       "      <td>BPTB</td>\n",
       "      <td>51</td>\n",
       "      <td>M</td>\n",
       "      <td>1</td>\n",
       "      <td>NaN</td>\n",
       "      <td>NaN</td>\n",
       "      <td>7.0</td>\n",
       "      <td>0.78039</td>\n",
       "      <td>0.145589</td>\n",
       "      <td>102.36600</td>\n",
       "      <td>461.141000</td>\n",
       "      <td>NaN</td>\n",
       "    </tr>\n",
       "    <tr>\n",
       "      <th>3</th>\n",
       "      <td>S101</td>\n",
       "      <td>Cohort2</td>\n",
       "      <td>BPTB</td>\n",
       "      <td>61</td>\n",
       "      <td>M</td>\n",
       "      <td>1</td>\n",
       "      <td>NaN</td>\n",
       "      <td>NaN</td>\n",
       "      <td>8.0</td>\n",
       "      <td>0.70122</td>\n",
       "      <td>0.002805</td>\n",
       "      <td>60.57900</td>\n",
       "      <td>142.950000</td>\n",
       "      <td>NaN</td>\n",
       "    </tr>\n",
       "    <tr>\n",
       "      <th>4</th>\n",
       "      <td>S102</td>\n",
       "      <td>Cohort2</td>\n",
       "      <td>BPTB</td>\n",
       "      <td>62</td>\n",
       "      <td>M</td>\n",
       "      <td>1</td>\n",
       "      <td>NaN</td>\n",
       "      <td>NaN</td>\n",
       "      <td>9.0</td>\n",
       "      <td>0.21489</td>\n",
       "      <td>0.000860</td>\n",
       "      <td>65.54000</td>\n",
       "      <td>41.088000</td>\n",
       "      <td>NaN</td>\n",
       "    </tr>\n",
       "  </tbody>\n",
       "</table>\n",
       "</div>"
      ],
      "text/plain": [
       "  sample_id patient_cohort sample_origin  age sex  diagnosis stage  \\\n",
       "0        S1        Cohort1          BPTB   33   F          1   NaN   \n",
       "1       S10        Cohort1          BPTB   81   F          1   NaN   \n",
       "2      S100        Cohort2          BPTB   51   M          1   NaN   \n",
       "3      S101        Cohort2          BPTB   61   M          1   NaN   \n",
       "4      S102        Cohort2          BPTB   62   M          1   NaN   \n",
       "\n",
       "  benign_sample_diagnosis  plasma_CA19_9  creatinine     LYVE1      REG1B  \\\n",
       "0                     NaN           11.7     1.83222  0.893219   52.94884   \n",
       "1                     NaN            NaN     0.97266  2.037585   94.46703   \n",
       "2                     NaN            7.0     0.78039  0.145589  102.36600   \n",
       "3                     NaN            8.0     0.70122  0.002805   60.57900   \n",
       "4                     NaN            9.0     0.21489  0.000860   65.54000   \n",
       "\n",
       "         TFF1     REG1A  \n",
       "0  654.282174  1262.000  \n",
       "1  209.488250   228.407  \n",
       "2  461.141000       NaN  \n",
       "3  142.950000       NaN  \n",
       "4   41.088000       NaN  "
      ]
     },
     "execution_count": 3,
     "metadata": {},
     "output_type": "execute_result"
    }
   ],
   "source": [
    "# Getting some rows from the data\n",
    "data.head()"
   ]
  },
  {
   "cell_type": "code",
   "execution_count": 4,
   "id": "0dbbd302",
   "metadata": {},
   "outputs": [
    {
     "data": {
      "text/html": [
       "<div>\n",
       "<style scoped>\n",
       "    .dataframe tbody tr th:only-of-type {\n",
       "        vertical-align: middle;\n",
       "    }\n",
       "\n",
       "    .dataframe tbody tr th {\n",
       "        vertical-align: top;\n",
       "    }\n",
       "\n",
       "    .dataframe thead th {\n",
       "        text-align: right;\n",
       "    }\n",
       "</style>\n",
       "<table border=\"1\" class=\"dataframe\">\n",
       "  <thead>\n",
       "    <tr style=\"text-align: right;\">\n",
       "      <th></th>\n",
       "      <th>Column name</th>\n",
       "      <th>Original column name</th>\n",
       "      <th>Details</th>\n",
       "    </tr>\n",
       "  </thead>\n",
       "  <tbody>\n",
       "    <tr>\n",
       "      <th>0</th>\n",
       "      <td>sample_id</td>\n",
       "      <td>Sample ID</td>\n",
       "      <td>Unique string identifying each subject</td>\n",
       "    </tr>\n",
       "    <tr>\n",
       "      <th>1</th>\n",
       "      <td>patient_cohort</td>\n",
       "      <td>Patient's Cohort</td>\n",
       "      <td>Cohort 1,  previously used samples; Cohort 2, ...</td>\n",
       "    </tr>\n",
       "    <tr>\n",
       "      <th>2</th>\n",
       "      <td>sample_origin</td>\n",
       "      <td>Sample Origin</td>\n",
       "      <td>BPTB: Barts Pancreas Tissue Bank, London, UK; ...</td>\n",
       "    </tr>\n",
       "    <tr>\n",
       "      <th>3</th>\n",
       "      <td>age</td>\n",
       "      <td>Age</td>\n",
       "      <td>Age in years</td>\n",
       "    </tr>\n",
       "    <tr>\n",
       "      <th>4</th>\n",
       "      <td>sex</td>\n",
       "      <td>Sex</td>\n",
       "      <td>M = male, F = female</td>\n",
       "    </tr>\n",
       "    <tr>\n",
       "      <th>5</th>\n",
       "      <td>diagnosis</td>\n",
       "      <td>Diagnosis (1=Control, 2=Benign, 3=PDAC)</td>\n",
       "      <td>1 = control (no pancreatic disease), 2 = benig...</td>\n",
       "    </tr>\n",
       "    <tr>\n",
       "      <th>6</th>\n",
       "      <td>stage</td>\n",
       "      <td>Stage</td>\n",
       "      <td>For those with pancratic cancer, what stage wa...</td>\n",
       "    </tr>\n",
       "    <tr>\n",
       "      <th>7</th>\n",
       "      <td>benign_sample_diagnosis</td>\n",
       "      <td>Benign Samples Diagnosis</td>\n",
       "      <td>For those with a benign, non-cancerous diagnos...</td>\n",
       "    </tr>\n",
       "    <tr>\n",
       "      <th>8</th>\n",
       "      <td>plasma_CA19_9</td>\n",
       "      <td>Plasma CA19-9 U/ml</td>\n",
       "      <td>Blood plasma levels of CA 19–9 monoclonal anti...</td>\n",
       "    </tr>\n",
       "    <tr>\n",
       "      <th>9</th>\n",
       "      <td>creatinine</td>\n",
       "      <td>Creatinine mg/ml</td>\n",
       "      <td>Urinary biomarker of kidney function</td>\n",
       "    </tr>\n",
       "    <tr>\n",
       "      <th>10</th>\n",
       "      <td>LYVE1</td>\n",
       "      <td>LYVE1 ng/ml</td>\n",
       "      <td>Urinary levels of Lymphatic vessel endothelial...</td>\n",
       "    </tr>\n",
       "    <tr>\n",
       "      <th>11</th>\n",
       "      <td>REG1B</td>\n",
       "      <td>REG1B ng/ml</td>\n",
       "      <td>Urinary levels of a protein that may be associ...</td>\n",
       "    </tr>\n",
       "    <tr>\n",
       "      <th>12</th>\n",
       "      <td>TFF1</td>\n",
       "      <td>TFF1 ng/ml</td>\n",
       "      <td>Urinary levels of Trefoil Factor 1, which may ...</td>\n",
       "    </tr>\n",
       "    <tr>\n",
       "      <th>13</th>\n",
       "      <td>REG1A</td>\n",
       "      <td>REG1A ng/ml</td>\n",
       "      <td>Urinary levels of a protein that may be associ...</td>\n",
       "    </tr>\n",
       "  </tbody>\n",
       "</table>\n",
       "</div>"
      ],
      "text/plain": [
       "                Column name                     Original column name  \\\n",
       "0                 sample_id                                Sample ID   \n",
       "1            patient_cohort                         Patient's Cohort   \n",
       "2             sample_origin                            Sample Origin   \n",
       "3                       age                                      Age   \n",
       "4                       sex                                      Sex   \n",
       "5                 diagnosis  Diagnosis (1=Control, 2=Benign, 3=PDAC)   \n",
       "6                     stage                                    Stage   \n",
       "7   benign_sample_diagnosis                 Benign Samples Diagnosis   \n",
       "8             plasma_CA19_9                       Plasma CA19-9 U/ml   \n",
       "9                creatinine                         Creatinine mg/ml   \n",
       "10                    LYVE1                              LYVE1 ng/ml   \n",
       "11                    REG1B                              REG1B ng/ml   \n",
       "12                     TFF1                               TFF1 ng/ml   \n",
       "13                    REG1A                              REG1A ng/ml   \n",
       "\n",
       "                                              Details  \n",
       "0              Unique string identifying each subject  \n",
       "1   Cohort 1,  previously used samples; Cohort 2, ...  \n",
       "2   BPTB: Barts Pancreas Tissue Bank, London, UK; ...  \n",
       "3                                        Age in years  \n",
       "4                                M = male, F = female  \n",
       "5   1 = control (no pancreatic disease), 2 = benig...  \n",
       "6   For those with pancratic cancer, what stage wa...  \n",
       "7   For those with a benign, non-cancerous diagnos...  \n",
       "8   Blood plasma levels of CA 19–9 monoclonal anti...  \n",
       "9                Urinary biomarker of kidney function  \n",
       "10  Urinary levels of Lymphatic vessel endothelial...  \n",
       "11  Urinary levels of a protein that may be associ...  \n",
       "12  Urinary levels of Trefoil Factor 1, which may ...  \n",
       "13  Urinary levels of a protein that may be associ...  "
      ]
     },
     "execution_count": 4,
     "metadata": {},
     "output_type": "execute_result"
    }
   ],
   "source": [
    "# Getting the description of data\n",
    "data_description"
   ]
  },
  {
   "cell_type": "code",
   "execution_count": 5,
   "id": "44ae017c",
   "metadata": {},
   "outputs": [
    {
     "data": {
      "text/plain": [
       "Index(['sample_id', 'patient_cohort', 'sample_origin', 'age', 'sex',\n",
       "       'diagnosis', 'stage', 'benign_sample_diagnosis', 'plasma_CA19_9',\n",
       "       'creatinine', 'LYVE1', 'REG1B', 'TFF1', 'REG1A'],\n",
       "      dtype='object')"
      ]
     },
     "execution_count": 5,
     "metadata": {},
     "output_type": "execute_result"
    }
   ],
   "source": [
    "data.columns"
   ]
  },
  {
   "cell_type": "code",
   "execution_count": 6,
   "id": "c0817852",
   "metadata": {
    "scrolled": true
   },
   "outputs": [
    {
     "data": {
      "text/html": [
       "<div>\n",
       "<style scoped>\n",
       "    .dataframe tbody tr th:only-of-type {\n",
       "        vertical-align: middle;\n",
       "    }\n",
       "\n",
       "    .dataframe tbody tr th {\n",
       "        vertical-align: top;\n",
       "    }\n",
       "\n",
       "    .dataframe thead th {\n",
       "        text-align: right;\n",
       "    }\n",
       "</style>\n",
       "<table border=\"1\" class=\"dataframe\">\n",
       "  <thead>\n",
       "    <tr style=\"text-align: right;\">\n",
       "      <th></th>\n",
       "      <th>age</th>\n",
       "      <th>diagnosis</th>\n",
       "      <th>plasma_CA19_9</th>\n",
       "      <th>creatinine</th>\n",
       "      <th>LYVE1</th>\n",
       "      <th>REG1B</th>\n",
       "      <th>TFF1</th>\n",
       "      <th>REG1A</th>\n",
       "    </tr>\n",
       "  </thead>\n",
       "  <tbody>\n",
       "    <tr>\n",
       "      <th>count</th>\n",
       "      <td>590.000000</td>\n",
       "      <td>590.000000</td>\n",
       "      <td>350.000000</td>\n",
       "      <td>590.000000</td>\n",
       "      <td>590.000000</td>\n",
       "      <td>590.000000</td>\n",
       "      <td>590.000000</td>\n",
       "      <td>306.000000</td>\n",
       "    </tr>\n",
       "    <tr>\n",
       "      <th>mean</th>\n",
       "      <td>59.079661</td>\n",
       "      <td>2.027119</td>\n",
       "      <td>654.002944</td>\n",
       "      <td>0.855383</td>\n",
       "      <td>3.063530</td>\n",
       "      <td>111.774090</td>\n",
       "      <td>597.868722</td>\n",
       "      <td>735.281222</td>\n",
       "    </tr>\n",
       "    <tr>\n",
       "      <th>std</th>\n",
       "      <td>13.109520</td>\n",
       "      <td>0.804873</td>\n",
       "      <td>2430.317642</td>\n",
       "      <td>0.639028</td>\n",
       "      <td>3.438796</td>\n",
       "      <td>196.267110</td>\n",
       "      <td>1010.477245</td>\n",
       "      <td>1477.247724</td>\n",
       "    </tr>\n",
       "    <tr>\n",
       "      <th>min</th>\n",
       "      <td>26.000000</td>\n",
       "      <td>1.000000</td>\n",
       "      <td>0.000000</td>\n",
       "      <td>0.056550</td>\n",
       "      <td>0.000129</td>\n",
       "      <td>0.001104</td>\n",
       "      <td>0.005293</td>\n",
       "      <td>0.000000</td>\n",
       "    </tr>\n",
       "    <tr>\n",
       "      <th>25%</th>\n",
       "      <td>50.000000</td>\n",
       "      <td>1.000000</td>\n",
       "      <td>8.000000</td>\n",
       "      <td>0.373230</td>\n",
       "      <td>0.167179</td>\n",
       "      <td>10.757216</td>\n",
       "      <td>43.961000</td>\n",
       "      <td>80.692000</td>\n",
       "    </tr>\n",
       "    <tr>\n",
       "      <th>50%</th>\n",
       "      <td>60.000000</td>\n",
       "      <td>2.000000</td>\n",
       "      <td>26.500000</td>\n",
       "      <td>0.723840</td>\n",
       "      <td>1.649862</td>\n",
       "      <td>34.303353</td>\n",
       "      <td>259.873974</td>\n",
       "      <td>208.538500</td>\n",
       "    </tr>\n",
       "    <tr>\n",
       "      <th>75%</th>\n",
       "      <td>69.000000</td>\n",
       "      <td>3.000000</td>\n",
       "      <td>294.000000</td>\n",
       "      <td>1.139482</td>\n",
       "      <td>5.205037</td>\n",
       "      <td>122.741013</td>\n",
       "      <td>742.736000</td>\n",
       "      <td>649.000000</td>\n",
       "    </tr>\n",
       "    <tr>\n",
       "      <th>max</th>\n",
       "      <td>89.000000</td>\n",
       "      <td>3.000000</td>\n",
       "      <td>31000.000000</td>\n",
       "      <td>4.116840</td>\n",
       "      <td>23.890323</td>\n",
       "      <td>1403.897600</td>\n",
       "      <td>13344.300000</td>\n",
       "      <td>13200.000000</td>\n",
       "    </tr>\n",
       "  </tbody>\n",
       "</table>\n",
       "</div>"
      ],
      "text/plain": [
       "              age   diagnosis  plasma_CA19_9  creatinine       LYVE1  \\\n",
       "count  590.000000  590.000000     350.000000  590.000000  590.000000   \n",
       "mean    59.079661    2.027119     654.002944    0.855383    3.063530   \n",
       "std     13.109520    0.804873    2430.317642    0.639028    3.438796   \n",
       "min     26.000000    1.000000       0.000000    0.056550    0.000129   \n",
       "25%     50.000000    1.000000       8.000000    0.373230    0.167179   \n",
       "50%     60.000000    2.000000      26.500000    0.723840    1.649862   \n",
       "75%     69.000000    3.000000     294.000000    1.139482    5.205037   \n",
       "max     89.000000    3.000000   31000.000000    4.116840   23.890323   \n",
       "\n",
       "             REG1B          TFF1         REG1A  \n",
       "count   590.000000    590.000000    306.000000  \n",
       "mean    111.774090    597.868722    735.281222  \n",
       "std     196.267110   1010.477245   1477.247724  \n",
       "min       0.001104      0.005293      0.000000  \n",
       "25%      10.757216     43.961000     80.692000  \n",
       "50%      34.303353    259.873974    208.538500  \n",
       "75%     122.741013    742.736000    649.000000  \n",
       "max    1403.897600  13344.300000  13200.000000  "
      ]
     },
     "execution_count": 6,
     "metadata": {},
     "output_type": "execute_result"
    }
   ],
   "source": [
    "data.describe()"
   ]
  },
  {
   "cell_type": "code",
   "execution_count": 7,
   "id": "b311df5e",
   "metadata": {},
   "outputs": [
    {
     "name": "stdout",
     "output_type": "stream",
     "text": [
      "<class 'pandas.core.frame.DataFrame'>\n",
      "RangeIndex: 590 entries, 0 to 589\n",
      "Data columns (total 14 columns):\n",
      " #   Column                   Non-Null Count  Dtype  \n",
      "---  ------                   --------------  -----  \n",
      " 0   sample_id                590 non-null    object \n",
      " 1   patient_cohort           590 non-null    object \n",
      " 2   sample_origin            590 non-null    object \n",
      " 3   age                      590 non-null    int64  \n",
      " 4   sex                      590 non-null    object \n",
      " 5   diagnosis                590 non-null    int64  \n",
      " 6   stage                    199 non-null    object \n",
      " 7   benign_sample_diagnosis  208 non-null    object \n",
      " 8   plasma_CA19_9            350 non-null    float64\n",
      " 9   creatinine               590 non-null    float64\n",
      " 10  LYVE1                    590 non-null    float64\n",
      " 11  REG1B                    590 non-null    float64\n",
      " 12  TFF1                     590 non-null    float64\n",
      " 13  REG1A                    306 non-null    float64\n",
      "dtypes: float64(6), int64(2), object(6)\n",
      "memory usage: 64.7+ KB\n"
     ]
    }
   ],
   "source": [
    "data.info()"
   ]
  },
  {
   "cell_type": "markdown",
   "id": "1594a7dd",
   "metadata": {},
   "source": [
    "## Data Preprocessing and Data Analysis"
   ]
  },
  {
   "cell_type": "markdown",
   "id": "750d54a6",
   "metadata": {},
   "source": [
    "### Handling Missing Values"
   ]
  },
  {
   "cell_type": "code",
   "execution_count": 8,
   "id": "30e9be20",
   "metadata": {},
   "outputs": [
    {
     "data": {
      "text/plain": [
       "sample_id                    0\n",
       "patient_cohort               0\n",
       "sample_origin                0\n",
       "age                          0\n",
       "sex                          0\n",
       "diagnosis                    0\n",
       "stage                      391\n",
       "benign_sample_diagnosis    382\n",
       "plasma_CA19_9              240\n",
       "creatinine                   0\n",
       "LYVE1                        0\n",
       "REG1B                        0\n",
       "TFF1                         0\n",
       "REG1A                      284\n",
       "dtype: int64"
      ]
     },
     "execution_count": 8,
     "metadata": {},
     "output_type": "execute_result"
    }
   ],
   "source": [
    "data.isna().sum()"
   ]
  },
  {
   "cell_type": "code",
   "execution_count": 9,
   "id": "9371cb2f",
   "metadata": {},
   "outputs": [
    {
     "data": {
      "text/plain": [
       "sample_id                   0.00\n",
       "patient_cohort              0.00\n",
       "sample_origin               0.00\n",
       "age                         0.00\n",
       "sex                         0.00\n",
       "diagnosis                   0.00\n",
       "stage                      66.27\n",
       "benign_sample_diagnosis    64.75\n",
       "plasma_CA19_9              40.68\n",
       "creatinine                  0.00\n",
       "LYVE1                       0.00\n",
       "REG1B                       0.00\n",
       "TFF1                        0.00\n",
       "REG1A                      48.14\n",
       "dtype: float64"
      ]
     },
     "execution_count": 9,
     "metadata": {},
     "output_type": "execute_result"
    }
   ],
   "source": [
    "# Ratio of missing values\n",
    "round(data.isna().sum()/len(data) * 100, 2)"
   ]
  },
  {
   "cell_type": "markdown",
   "id": "70c098c5",
   "metadata": {},
   "source": [
    "#### Column: REG1A"
   ]
  },
  {
   "cell_type": "code",
   "execution_count": 10,
   "id": "3f01b78d",
   "metadata": {},
   "outputs": [
    {
     "name": "stdout",
     "output_type": "stream",
     "text": [
      "   Column name Original column name                                                                                                                                                            Details\n",
      "13       REG1A          REG1A ng/ml  Urinary levels of a protein that may be associated with pancreas regeneration. Only assessed in 306 patients (one goal of the study was to assess REG1B vs REG1A)\n"
     ]
    }
   ],
   "source": [
    "print(data_description.loc[ data_description['Column name'] == 'REG1A'].to_string())"
   ]
  },
  {
   "cell_type": "code",
   "execution_count": 11,
   "id": "5a861b48",
   "metadata": {},
   "outputs": [
    {
     "data": {
      "text/plain": [
       "0.000        7\n",
       "137.000      2\n",
       "64.821       2\n",
       "1262.000     1\n",
       "494.080      1\n",
       "            ..\n",
       "50.007       1\n",
       "75.094       1\n",
       "519.132      1\n",
       "431.409      1\n",
       "13200.000    1\n",
       "Name: REG1A, Length: 298, dtype: int64"
      ]
     },
     "execution_count": 11,
     "metadata": {},
     "output_type": "execute_result"
    }
   ],
   "source": [
    "data.REG1A.value_counts()"
   ]
  },
  {
   "cell_type": "code",
   "execution_count": 12,
   "id": "a2fea0f9",
   "metadata": {},
   "outputs": [
    {
     "data": {
      "image/png": "[encoded data removed]",
      "text/plain": [
       "<Figure size 640x480 with 1 Axes>"
      ]
     },
     "metadata": {},
     "output_type": "display_data"
    }
   ],
   "source": [
    "sns.histplot(data.REG1A, kde = True, bins = 100)\n",
    "plt.show()"
   ]
  },
  {
   "cell_type": "code",
   "execution_count": 13,
   "id": "47a0074b",
   "metadata": {},
   "outputs": [
    {
     "data": {
      "text/plain": [
       "(735.2812222222221, 208.5385)"
      ]
     },
     "execution_count": 13,
     "metadata": {},
     "output_type": "execute_result"
    }
   ],
   "source": [
    "np.mean(data.REG1A), np.nanmedian(data.REG1A)"
   ]
  },
  {
   "cell_type": "code",
   "execution_count": 14,
   "id": "90f4cd32",
   "metadata": {},
   "outputs": [
    {
     "data": {
      "text/plain": [
       "0.000        7\n",
       "137.000      2\n",
       "64.821       2\n",
       "1262.000     1\n",
       "494.080      1\n",
       "            ..\n",
       "50.007       1\n",
       "75.094       1\n",
       "519.132      1\n",
       "431.409      1\n",
       "13200.000    1\n",
       "Name: REG1A, Length: 298, dtype: int64"
      ]
     },
     "execution_count": 14,
     "metadata": {},
     "output_type": "execute_result"
    }
   ],
   "source": [
    "data.REG1A.value_counts()"
   ]
  },
  {
   "cell_type": "code",
   "execution_count": 15,
   "id": "61d02d19",
   "metadata": {},
   "outputs": [],
   "source": [
    "data['REG1A'].fillna(value = np.nanmedian(data['REG1A']), inplace=True)"
   ]
  },
  {
   "cell_type": "code",
   "execution_count": 16,
   "id": "ef03e100",
   "metadata": {},
   "outputs": [
    {
     "data": {
      "image/png": "[encoded data removed]",
      "text/plain": [
       "<Figure size 640x480 with 1 Axes>"
      ]
     },
     "metadata": {},
     "output_type": "display_data"
    }
   ],
   "source": [
    "sns.histplot(data.REG1A, kde = True, bins = 100)\n",
    "plt.show()"
   ]
  },
  {
   "cell_type": "markdown",
   "id": "21b9e534",
   "metadata": {},
   "source": [
    "#### Column: plasma_CA19_9"
   ]
  },
  {
   "cell_type": "code",
   "execution_count": 17,
   "id": "f81f9153",
   "metadata": {},
   "outputs": [
    {
     "name": "stdout",
     "output_type": "stream",
     "text": [
      "     Column name Original column name                                                                                                                                                                                                                                                                         Details\n",
      "8  plasma_CA19_9   Plasma CA19-9 U/ml  Blood plasma levels of CA 19–9 monoclonal antibody that is often elevated in patients with pancreatic cancer. Only assessed in 350 patients (one goal of the study was to compare various CA 19-9 cutpoints from a blood sample to the model developed using urinary samples).\n"
     ]
    }
   ],
   "source": [
    "print(data_description.loc[ data_description['Column name'] == 'plasma_CA19_9'].to_string())"
   ]
  },
  {
   "cell_type": "code",
   "execution_count": 18,
   "id": "a7b8174a",
   "metadata": {},
   "outputs": [
    {
     "data": {
      "text/plain": [
       "11.0      8\n",
       "9.0       8\n",
       "7.0       6\n",
       "10.0      5\n",
       "4.0       5\n",
       "         ..\n",
       "263.0     1\n",
       "1913.0    1\n",
       "72.0      1\n",
       "32.0      1\n",
       "1488.0    1\n",
       "Name: plasma_CA19_9, Length: 266, dtype: int64"
      ]
     },
     "execution_count": 18,
     "metadata": {},
     "output_type": "execute_result"
    }
   ],
   "source": [
    "data.plasma_CA19_9.value_counts()"
   ]
  },
  {
   "cell_type": "code",
   "execution_count": 19,
   "id": "a34dfad6",
   "metadata": {},
   "outputs": [
    {
     "data": {
      "image/png": "[encoded data removed]",
      "text/plain": [
       "<Figure size 640x480 with 1 Axes>"
      ]
     },
     "metadata": {},
     "output_type": "display_data"
    }
   ],
   "source": [
    "sns.histplot(data.plasma_CA19_9, kde = True, bins = 100)\n",
    "plt.show()"
   ]
  },
  {
   "cell_type": "code",
   "execution_count": 20,
   "id": "55f11561",
   "metadata": {
    "scrolled": true
   },
   "outputs": [
    {
     "name": "stderr",
     "output_type": "stream",
     "text": [
      "C:\\Users\\asus\\anaconda3\\lib\\site-packages\\seaborn\\_decorators.py:36: FutureWarning: Pass the following variable as a keyword arg: x. From version 0.12, the only valid positional argument will be `data`, and passing other arguments without an explicit keyword will result in an error or misinterpretation.\n",
      "  warnings.warn(\n"
     ]
    },
    {
     "data": {
      "image/png": "[encoded data removed]",
      "text/plain": [
       "<Figure size 640x480 with 1 Axes>"
      ]
     },
     "metadata": {},
     "output_type": "display_data"
    }
   ],
   "source": [
    "sns.boxplot(data.plasma_CA19_9)\n",
    "plt.show()"
   ]
  },
  {
   "cell_type": "code",
   "execution_count": 21,
   "id": "76c3b765",
   "metadata": {},
   "outputs": [
    {
     "data": {
      "text/plain": [
       "(654.0029437763428, 26.5)"
      ]
     },
     "execution_count": 21,
     "metadata": {},
     "output_type": "execute_result"
    }
   ],
   "source": [
    "np.mean(data.plasma_CA19_9), np.nanmedian(data.plasma_CA19_9) "
   ]
  },
  {
   "cell_type": "code",
   "execution_count": 22,
   "id": "c49c346f",
   "metadata": {},
   "outputs": [
    {
     "data": {
      "text/plain": [
       "11.0      8\n",
       "9.0       8\n",
       "7.0       6\n",
       "10.0      5\n",
       "4.0       5\n",
       "         ..\n",
       "263.0     1\n",
       "1913.0    1\n",
       "72.0      1\n",
       "32.0      1\n",
       "1488.0    1\n",
       "Name: plasma_CA19_9, Length: 266, dtype: int64"
      ]
     },
     "execution_count": 22,
     "metadata": {},
     "output_type": "execute_result"
    }
   ],
   "source": [
    "data.plasma_CA19_9.value_counts()"
   ]
  },
  {
   "cell_type": "code",
   "execution_count": 23,
   "id": "4519b57a",
   "metadata": {},
   "outputs": [],
   "source": [
    "data['plasma_CA19_9'].fillna(value = np.nanmedian(data['plasma_CA19_9']), inplace=True)"
   ]
  },
  {
   "cell_type": "code",
   "execution_count": 24,
   "id": "69fa717b",
   "metadata": {},
   "outputs": [
    {
     "data": {
      "image/png": "[encoded data removed]",
      "text/plain": [
       "<Figure size 640x480 with 1 Axes>"
      ]
     },
     "metadata": {},
     "output_type": "display_data"
    }
   ],
   "source": [
    "sns.histplot(data.plasma_CA19_9, kde = True, bins = 100)\n",
    "plt.show()"
   ]
  },
  {
   "cell_type": "code",
   "execution_count": 25,
   "id": "9c54469d",
   "metadata": {
    "scrolled": true
   },
   "outputs": [
    {
     "name": "stderr",
     "output_type": "stream",
     "text": [
      "C:\\Users\\asus\\anaconda3\\lib\\site-packages\\seaborn\\_decorators.py:36: FutureWarning: Pass the following variable as a keyword arg: x. From version 0.12, the only valid positional argument will be `data`, and passing other arguments without an explicit keyword will result in an error or misinterpretation.\n",
      "  warnings.warn(\n"
     ]
    },
    {
     "data": {
      "image/png": "[encoded data removed]",
      "text/plain": [
       "<Figure size 640x480 with 1 Axes>"
      ]
     },
     "metadata": {},
     "output_type": "display_data"
    }
   ],
   "source": [
    "sns.boxplot(data.plasma_CA19_9)\n",
    "plt.show()"
   ]
  },
  {
   "cell_type": "code",
   "execution_count": 26,
   "id": "73b24ad0",
   "metadata": {},
   "outputs": [
    {
     "data": {
      "text/html": [
       "<div>\n",
       "<style scoped>\n",
       "    .dataframe tbody tr th:only-of-type {\n",
       "        vertical-align: middle;\n",
       "    }\n",
       "\n",
       "    .dataframe tbody tr th {\n",
       "        vertical-align: top;\n",
       "    }\n",
       "\n",
       "    .dataframe thead th {\n",
       "        text-align: right;\n",
       "    }\n",
       "</style>\n",
       "<table border=\"1\" class=\"dataframe\">\n",
       "  <thead>\n",
       "    <tr style=\"text-align: right;\">\n",
       "      <th></th>\n",
       "      <th>sample_id</th>\n",
       "      <th>patient_cohort</th>\n",
       "      <th>sample_origin</th>\n",
       "      <th>age</th>\n",
       "      <th>sex</th>\n",
       "      <th>diagnosis</th>\n",
       "      <th>stage</th>\n",
       "      <th>benign_sample_diagnosis</th>\n",
       "      <th>plasma_CA19_9</th>\n",
       "      <th>creatinine</th>\n",
       "      <th>LYVE1</th>\n",
       "      <th>REG1B</th>\n",
       "      <th>TFF1</th>\n",
       "      <th>REG1A</th>\n",
       "    </tr>\n",
       "  </thead>\n",
       "  <tbody>\n",
       "    <tr>\n",
       "      <th>0</th>\n",
       "      <td>S1</td>\n",
       "      <td>Cohort1</td>\n",
       "      <td>BPTB</td>\n",
       "      <td>33</td>\n",
       "      <td>F</td>\n",
       "      <td>1</td>\n",
       "      <td>NaN</td>\n",
       "      <td>NaN</td>\n",
       "      <td>11.7</td>\n",
       "      <td>1.83222</td>\n",
       "      <td>0.893219</td>\n",
       "      <td>52.94884</td>\n",
       "      <td>654.282174</td>\n",
       "      <td>1262.0000</td>\n",
       "    </tr>\n",
       "    <tr>\n",
       "      <th>1</th>\n",
       "      <td>S10</td>\n",
       "      <td>Cohort1</td>\n",
       "      <td>BPTB</td>\n",
       "      <td>81</td>\n",
       "      <td>F</td>\n",
       "      <td>1</td>\n",
       "      <td>NaN</td>\n",
       "      <td>NaN</td>\n",
       "      <td>26.5</td>\n",
       "      <td>0.97266</td>\n",
       "      <td>2.037585</td>\n",
       "      <td>94.46703</td>\n",
       "      <td>209.488250</td>\n",
       "      <td>228.4070</td>\n",
       "    </tr>\n",
       "    <tr>\n",
       "      <th>2</th>\n",
       "      <td>S100</td>\n",
       "      <td>Cohort2</td>\n",
       "      <td>BPTB</td>\n",
       "      <td>51</td>\n",
       "      <td>M</td>\n",
       "      <td>1</td>\n",
       "      <td>NaN</td>\n",
       "      <td>NaN</td>\n",
       "      <td>7.0</td>\n",
       "      <td>0.78039</td>\n",
       "      <td>0.145589</td>\n",
       "      <td>102.36600</td>\n",
       "      <td>461.141000</td>\n",
       "      <td>208.5385</td>\n",
       "    </tr>\n",
       "    <tr>\n",
       "      <th>3</th>\n",
       "      <td>S101</td>\n",
       "      <td>Cohort2</td>\n",
       "      <td>BPTB</td>\n",
       "      <td>61</td>\n",
       "      <td>M</td>\n",
       "      <td>1</td>\n",
       "      <td>NaN</td>\n",
       "      <td>NaN</td>\n",
       "      <td>8.0</td>\n",
       "      <td>0.70122</td>\n",
       "      <td>0.002805</td>\n",
       "      <td>60.57900</td>\n",
       "      <td>142.950000</td>\n",
       "      <td>208.5385</td>\n",
       "    </tr>\n",
       "    <tr>\n",
       "      <th>4</th>\n",
       "      <td>S102</td>\n",
       "      <td>Cohort2</td>\n",
       "      <td>BPTB</td>\n",
       "      <td>62</td>\n",
       "      <td>M</td>\n",
       "      <td>1</td>\n",
       "      <td>NaN</td>\n",
       "      <td>NaN</td>\n",
       "      <td>9.0</td>\n",
       "      <td>0.21489</td>\n",
       "      <td>0.000860</td>\n",
       "      <td>65.54000</td>\n",
       "      <td>41.088000</td>\n",
       "      <td>208.5385</td>\n",
       "    </tr>\n",
       "  </tbody>\n",
       "</table>\n",
       "</div>"
      ],
      "text/plain": [
       "  sample_id patient_cohort sample_origin  age sex  diagnosis stage  \\\n",
       "0        S1        Cohort1          BPTB   33   F          1   NaN   \n",
       "1       S10        Cohort1          BPTB   81   F          1   NaN   \n",
       "2      S100        Cohort2          BPTB   51   M          1   NaN   \n",
       "3      S101        Cohort2          BPTB   61   M          1   NaN   \n",
       "4      S102        Cohort2          BPTB   62   M          1   NaN   \n",
       "\n",
       "  benign_sample_diagnosis  plasma_CA19_9  creatinine     LYVE1      REG1B  \\\n",
       "0                     NaN           11.7     1.83222  0.893219   52.94884   \n",
       "1                     NaN           26.5     0.97266  2.037585   94.46703   \n",
       "2                     NaN            7.0     0.78039  0.145589  102.36600   \n",
       "3                     NaN            8.0     0.70122  0.002805   60.57900   \n",
       "4                     NaN            9.0     0.21489  0.000860   65.54000   \n",
       "\n",
       "         TFF1      REG1A  \n",
       "0  654.282174  1262.0000  \n",
       "1  209.488250   228.4070  \n",
       "2  461.141000   208.5385  \n",
       "3  142.950000   208.5385  \n",
       "4   41.088000   208.5385  "
      ]
     },
     "execution_count": 26,
     "metadata": {},
     "output_type": "execute_result"
    }
   ],
   "source": [
    "data.head()"
   ]
  },
  {
   "cell_type": "code",
   "execution_count": 27,
   "id": "1951480f",
   "metadata": {},
   "outputs": [
    {
     "data": {
      "text/plain": [
       "sample_id                    0\n",
       "patient_cohort               0\n",
       "sample_origin                0\n",
       "age                          0\n",
       "sex                          0\n",
       "diagnosis                    0\n",
       "stage                      391\n",
       "benign_sample_diagnosis    382\n",
       "plasma_CA19_9                0\n",
       "creatinine                   0\n",
       "LYVE1                        0\n",
       "REG1B                        0\n",
       "TFF1                         0\n",
       "REG1A                        0\n",
       "dtype: int64"
      ]
     },
     "execution_count": 27,
     "metadata": {},
     "output_type": "execute_result"
    }
   ],
   "source": [
    "data.isna().sum()"
   ]
  },
  {
   "cell_type": "markdown",
   "id": "0d50577f",
   "metadata": {},
   "source": [
    "#### Column: benign_sample_diagnosis"
   ]
  },
  {
   "cell_type": "code",
   "execution_count": 28,
   "id": "fd8017fa",
   "metadata": {},
   "outputs": [],
   "source": [
    "# print(data_description.loc[ data_description['Column name'] == 'benign_sample_diagnosis'].to_string())"
   ]
  },
  {
   "cell_type": "code",
   "execution_count": 29,
   "id": "b2fd9553",
   "metadata": {
    "scrolled": true
   },
   "outputs": [
    {
     "data": {
      "text/plain": [
       "Pancreatitis                                                    41\n",
       "Pancreatitis (Chronic)                                          35\n",
       "Gallstones                                                      21\n",
       "Pancreatitis (Alcohol-Chronic)                                  11\n",
       "Cholecystitis                                                    9\n",
       "Serous cystadenoma - NOS                                         7\n",
       "Choledocholiathiasis                                             6\n",
       "Abdominal Pain                                                   6\n",
       "Pancreatitis (Idiopathic)                                        4\n",
       "Pancreatitis (Alcohol-Chronic-Pseuodcyst)                        4\n",
       "Pancreatitis (Gallstone)                                         4\n",
       "Pancreatitis (Pseudocyst)                                        4\n",
       "Premalignant lesions-Mucinous cystadenoma-NOS                    3\n",
       "Pancreatitis (Autoimmune)                                        3\n",
       "Serous microcystic adenoma                                       3\n",
       "Cholecystitis (Chronic)                                          3\n",
       "Gallstones - Incidental                                          3\n",
       "Premalignant lesions-Villous adenoma-NOS                         2\n",
       "Pancreatitis (Chronic-Pseudocyst)                                2\n",
       "Gallstones                                                       2\n",
       "Cholecystitis (Chronic) Cholelithiasis                           2\n",
       "Premalignant lesions-Adenoma-NOS                                 2\n",
       "Gallbladder polyps                                               2\n",
       "Premalignant lesions-Tubulovillous adenoma-NOS                   1\n",
       "Pancreatitis (Hypertriglyceridemia)                              1\n",
       "Pancreato-jejunostomy Anastomoses Stricture                      1\n",
       "Pancreatitis (Chronic) Choledocholithiasis                       1\n",
       "Pancreatitis (Hereditary-Chronic)                                1\n",
       "Pancreatitis (Gallstone-Pseudocyst)                              1\n",
       "Pancreatitis (Gallstone-Alcohol-Pseudocyst)                      1\n",
       "Premalignant lesions-Mucinous cystadenocarcinoma-noninvasive     1\n",
       "Premalignant lesions-Tubular adenoma-NOS                         1\n",
       "Pancreatitis (Idiopathic)                                        1\n",
       "Pancreatitis (Acute)                                             1\n",
       "Pancreatitis (Chronic) (Later became PDAC)                       1\n",
       "Pancreatitis (Alcohol)                                           1\n",
       "Cholecystitis                                                    1\n",
       "Cholecystitis (Chronic) Cholesterolsis                           1\n",
       "Choledochal Cyst                                                 1\n",
       "Choledocholiathiasis                                             1\n",
       "Cholelithiasis with adenomyomatous hyperplasia                   1\n",
       "Duodenal Stricture                                               1\n",
       "Duodenitis                                                       1\n",
       "Gallbladder Porcelain                                            1\n",
       "Gastritis                                                        1\n",
       "Gastritis and Reflux                                             1\n",
       "Ill defined lesion in uncinate process                           1\n",
       "Ischaemic Common Bile Duct Stricture                             1\n",
       "Pancreatitis                                                     1\n",
       "Pancreatitis (Abscess)                                           1\n",
       "Biliary Stricture (Secondary to Stent)                           1\n",
       "Simple benign liver cyst                                         1\n",
       "Name: benign_sample_diagnosis, dtype: int64"
      ]
     },
     "execution_count": 29,
     "metadata": {},
     "output_type": "execute_result"
    }
   ],
   "source": [
    "data['benign_sample_diagnosis'].value_counts()"
   ]
  },
  {
   "cell_type": "code",
   "execution_count": 30,
   "id": "1d0726c2",
   "metadata": {},
   "outputs": [
    {
     "data": {
      "text/html": [
       "<div>\n",
       "<style scoped>\n",
       "    .dataframe tbody tr th:only-of-type {\n",
       "        vertical-align: middle;\n",
       "    }\n",
       "\n",
       "    .dataframe tbody tr th {\n",
       "        vertical-align: top;\n",
       "    }\n",
       "\n",
       "    .dataframe thead th {\n",
       "        text-align: right;\n",
       "    }\n",
       "</style>\n",
       "<table border=\"1\" class=\"dataframe\">\n",
       "  <thead>\n",
       "    <tr style=\"text-align: right;\">\n",
       "      <th></th>\n",
       "      <th>sample_id</th>\n",
       "      <th>patient_cohort</th>\n",
       "      <th>sample_origin</th>\n",
       "      <th>age</th>\n",
       "      <th>sex</th>\n",
       "      <th>diagnosis</th>\n",
       "      <th>stage</th>\n",
       "      <th>benign_sample_diagnosis</th>\n",
       "      <th>plasma_CA19_9</th>\n",
       "      <th>creatinine</th>\n",
       "      <th>LYVE1</th>\n",
       "      <th>REG1B</th>\n",
       "      <th>TFF1</th>\n",
       "      <th>REG1A</th>\n",
       "    </tr>\n",
       "  </thead>\n",
       "  <tbody>\n",
       "    <tr>\n",
       "      <th>183</th>\n",
       "      <td>S271</td>\n",
       "      <td>Cohort2</td>\n",
       "      <td>BPTB</td>\n",
       "      <td>32</td>\n",
       "      <td>F</td>\n",
       "      <td>2</td>\n",
       "      <td>NaN</td>\n",
       "      <td>Abdominal Pain</td>\n",
       "      <td>12.0</td>\n",
       "      <td>1.16493</td>\n",
       "      <td>5.417692</td>\n",
       "      <td>21.135</td>\n",
       "      <td>445.72500</td>\n",
       "      <td>208.5385</td>\n",
       "    </tr>\n",
       "    <tr>\n",
       "      <th>184</th>\n",
       "      <td>S299</td>\n",
       "      <td>Cohort2</td>\n",
       "      <td>BPTB</td>\n",
       "      <td>59</td>\n",
       "      <td>F</td>\n",
       "      <td>2</td>\n",
       "      <td>NaN</td>\n",
       "      <td>Abdominal Pain</td>\n",
       "      <td>26.5</td>\n",
       "      <td>0.41847</td>\n",
       "      <td>0.526248</td>\n",
       "      <td>24.111</td>\n",
       "      <td>4.09000</td>\n",
       "      <td>208.5385</td>\n",
       "    </tr>\n",
       "    <tr>\n",
       "      <th>185</th>\n",
       "      <td>S308</td>\n",
       "      <td>Cohort2</td>\n",
       "      <td>BPTB</td>\n",
       "      <td>65</td>\n",
       "      <td>F</td>\n",
       "      <td>2</td>\n",
       "      <td>NaN</td>\n",
       "      <td>Abdominal Pain</td>\n",
       "      <td>26.5</td>\n",
       "      <td>0.36192</td>\n",
       "      <td>2.343091</td>\n",
       "      <td>12.957</td>\n",
       "      <td>0.02823</td>\n",
       "      <td>208.5385</td>\n",
       "    </tr>\n",
       "    <tr>\n",
       "      <th>186</th>\n",
       "      <td>S314</td>\n",
       "      <td>Cohort2</td>\n",
       "      <td>BPTB</td>\n",
       "      <td>39</td>\n",
       "      <td>F</td>\n",
       "      <td>2</td>\n",
       "      <td>NaN</td>\n",
       "      <td>Abdominal Pain</td>\n",
       "      <td>26.5</td>\n",
       "      <td>0.89349</td>\n",
       "      <td>0.736352</td>\n",
       "      <td>21.550</td>\n",
       "      <td>105.94300</td>\n",
       "      <td>208.5385</td>\n",
       "    </tr>\n",
       "    <tr>\n",
       "      <th>187</th>\n",
       "      <td>S315</td>\n",
       "      <td>Cohort2</td>\n",
       "      <td>BPTB</td>\n",
       "      <td>65</td>\n",
       "      <td>F</td>\n",
       "      <td>2</td>\n",
       "      <td>NaN</td>\n",
       "      <td>Abdominal Pain</td>\n",
       "      <td>13.0</td>\n",
       "      <td>0.37323</td>\n",
       "      <td>0.228904</td>\n",
       "      <td>13.977</td>\n",
       "      <td>7.36700</td>\n",
       "      <td>208.5385</td>\n",
       "    </tr>\n",
       "    <tr>\n",
       "      <th>...</th>\n",
       "      <td>...</td>\n",
       "      <td>...</td>\n",
       "      <td>...</td>\n",
       "      <td>...</td>\n",
       "      <td>...</td>\n",
       "      <td>...</td>\n",
       "      <td>...</td>\n",
       "      <td>...</td>\n",
       "      <td>...</td>\n",
       "      <td>...</td>\n",
       "      <td>...</td>\n",
       "      <td>...</td>\n",
       "      <td>...</td>\n",
       "      <td>...</td>\n",
       "    </tr>\n",
       "    <tr>\n",
       "      <th>386</th>\n",
       "      <td>S360</td>\n",
       "      <td>Cohort2</td>\n",
       "      <td>BPTB</td>\n",
       "      <td>49</td>\n",
       "      <td>F</td>\n",
       "      <td>2</td>\n",
       "      <td>NaN</td>\n",
       "      <td>Serous cystadenoma - NOS</td>\n",
       "      <td>20.0</td>\n",
       "      <td>0.71253</td>\n",
       "      <td>0.632433</td>\n",
       "      <td>22.602</td>\n",
       "      <td>494.58800</td>\n",
       "      <td>208.5385</td>\n",
       "    </tr>\n",
       "    <tr>\n",
       "      <th>387</th>\n",
       "      <td>S259</td>\n",
       "      <td>Cohort2</td>\n",
       "      <td>BPTB</td>\n",
       "      <td>53</td>\n",
       "      <td>F</td>\n",
       "      <td>2</td>\n",
       "      <td>NaN</td>\n",
       "      <td>Serous microcystic adenoma</td>\n",
       "      <td>21.0</td>\n",
       "      <td>0.45240</td>\n",
       "      <td>0.963804</td>\n",
       "      <td>21.320</td>\n",
       "      <td>78.29200</td>\n",
       "      <td>208.5385</td>\n",
       "    </tr>\n",
       "    <tr>\n",
       "      <th>388</th>\n",
       "      <td>S300</td>\n",
       "      <td>Cohort2</td>\n",
       "      <td>BPTB</td>\n",
       "      <td>74</td>\n",
       "      <td>F</td>\n",
       "      <td>2</td>\n",
       "      <td>NaN</td>\n",
       "      <td>Serous microcystic adenoma</td>\n",
       "      <td>13.0</td>\n",
       "      <td>0.12441</td>\n",
       "      <td>0.000498</td>\n",
       "      <td>1.295</td>\n",
       "      <td>42.66700</td>\n",
       "      <td>208.5385</td>\n",
       "    </tr>\n",
       "    <tr>\n",
       "      <th>389</th>\n",
       "      <td>S302</td>\n",
       "      <td>Cohort2</td>\n",
       "      <td>BPTB</td>\n",
       "      <td>69</td>\n",
       "      <td>M</td>\n",
       "      <td>2</td>\n",
       "      <td>NaN</td>\n",
       "      <td>Serous microcystic adenoma</td>\n",
       "      <td>26.5</td>\n",
       "      <td>0.13572</td>\n",
       "      <td>0.000543</td>\n",
       "      <td>19.427</td>\n",
       "      <td>2.57800</td>\n",
       "      <td>208.5385</td>\n",
       "    </tr>\n",
       "    <tr>\n",
       "      <th>390</th>\n",
       "      <td>S288</td>\n",
       "      <td>Cohort2</td>\n",
       "      <td>BPTB</td>\n",
       "      <td>63</td>\n",
       "      <td>F</td>\n",
       "      <td>2</td>\n",
       "      <td>NaN</td>\n",
       "      <td>Simple benign liver cyst</td>\n",
       "      <td>26.5</td>\n",
       "      <td>0.58812</td>\n",
       "      <td>0.928816</td>\n",
       "      <td>29.334</td>\n",
       "      <td>1.87700</td>\n",
       "      <td>208.5385</td>\n",
       "    </tr>\n",
       "  </tbody>\n",
       "</table>\n",
       "<p>208 rows × 14 columns</p>\n",
       "</div>"
      ],
      "text/plain": [
       "    sample_id patient_cohort sample_origin  age sex  diagnosis stage  \\\n",
       "183      S271        Cohort2          BPTB   32   F          2   NaN   \n",
       "184      S299        Cohort2          BPTB   59   F          2   NaN   \n",
       "185      S308        Cohort2          BPTB   65   F          2   NaN   \n",
       "186      S314        Cohort2          BPTB   39   F          2   NaN   \n",
       "187      S315        Cohort2          BPTB   65   F          2   NaN   \n",
       "..        ...            ...           ...  ...  ..        ...   ...   \n",
       "386      S360        Cohort2          BPTB   49   F          2   NaN   \n",
       "387      S259        Cohort2          BPTB   53   F          2   NaN   \n",
       "388      S300        Cohort2          BPTB   74   F          2   NaN   \n",
       "389      S302        Cohort2          BPTB   69   M          2   NaN   \n",
       "390      S288        Cohort2          BPTB   63   F          2   NaN   \n",
       "\n",
       "        benign_sample_diagnosis  plasma_CA19_9  creatinine     LYVE1   REG1B  \\\n",
       "183             Abdominal Pain            12.0     1.16493  5.417692  21.135   \n",
       "184             Abdominal Pain            26.5     0.41847  0.526248  24.111   \n",
       "185             Abdominal Pain            26.5     0.36192  2.343091  12.957   \n",
       "186             Abdominal Pain            26.5     0.89349  0.736352  21.550   \n",
       "187             Abdominal Pain            13.0     0.37323  0.228904  13.977   \n",
       "..                          ...            ...         ...       ...     ...   \n",
       "386    Serous cystadenoma - NOS           20.0     0.71253  0.632433  22.602   \n",
       "387  Serous microcystic adenoma           21.0     0.45240  0.963804  21.320   \n",
       "388  Serous microcystic adenoma           13.0     0.12441  0.000498   1.295   \n",
       "389  Serous microcystic adenoma           26.5     0.13572  0.000543  19.427   \n",
       "390    Simple benign liver cyst           26.5     0.58812  0.928816  29.334   \n",
       "\n",
       "          TFF1     REG1A  \n",
       "183  445.72500  208.5385  \n",
       "184    4.09000  208.5385  \n",
       "185    0.02823  208.5385  \n",
       "186  105.94300  208.5385  \n",
       "187    7.36700  208.5385  \n",
       "..         ...       ...  \n",
       "386  494.58800  208.5385  \n",
       "387   78.29200  208.5385  \n",
       "388   42.66700  208.5385  \n",
       "389    2.57800  208.5385  \n",
       "390    1.87700  208.5385  \n",
       "\n",
       "[208 rows x 14 columns]"
      ]
     },
     "execution_count": 30,
     "metadata": {},
     "output_type": "execute_result"
    }
   ],
   "source": [
    "data.loc[ (data.benign_sample_diagnosis.isna() == False) ]"
   ]
  },
  {
   "cell_type": "code",
   "execution_count": 31,
   "id": "acd19b9a",
   "metadata": {},
   "outputs": [
    {
     "data": {
      "text/plain": [
       "2    208\n",
       "Name: diagnosis, dtype: int64"
      ]
     },
     "execution_count": 31,
     "metadata": {},
     "output_type": "execute_result"
    }
   ],
   "source": [
    "data.loc[ (data.benign_sample_diagnosis.isna() == False), 'diagnosis'].value_counts()"
   ]
  },
  {
   "cell_type": "markdown",
   "id": "1cf0e267",
   "metadata": {},
   "source": [
    "#### Column: stage"
   ]
  },
  {
   "cell_type": "code",
   "execution_count": 32,
   "id": "f9b3619b",
   "metadata": {},
   "outputs": [
    {
     "name": "stdout",
     "output_type": "stream",
     "text": [
      "  Column name Original column name                                                                                Details\n",
      "6       stage                Stage  For those with pancratic cancer, what stage was it? One of IA, IB, IIA, IIIB, III, IV\n"
     ]
    }
   ],
   "source": [
    "print(data_description.loc[ data_description['Column name'] == 'stage'].to_string())"
   ]
  },
  {
   "cell_type": "code",
   "execution_count": 33,
   "id": "4f2b5acc",
   "metadata": {},
   "outputs": [
    {
     "data": {
      "text/plain": [
       "III    76\n",
       "IIB    68\n",
       "IV     21\n",
       "IB     12\n",
       "IIA    11\n",
       "II      7\n",
       "IA      3\n",
       "I       1\n",
       "Name: stage, dtype: int64"
      ]
     },
     "execution_count": 33,
     "metadata": {},
     "output_type": "execute_result"
    }
   ],
   "source": [
    "data.stage.value_counts()"
   ]
  },
  {
   "cell_type": "code",
   "execution_count": 34,
   "id": "6030e4fa",
   "metadata": {},
   "outputs": [
    {
     "data": {
      "text/plain": [
       "3    199\n",
       "Name: diagnosis, dtype: int64"
      ]
     },
     "execution_count": 34,
     "metadata": {},
     "output_type": "execute_result"
    }
   ],
   "source": [
    "data.loc[ (data.stage.isna() == False), 'diagnosis'].value_counts()"
   ]
  },
  {
   "cell_type": "code",
   "execution_count": 35,
   "id": "405cb956",
   "metadata": {},
   "outputs": [],
   "source": [
    "# We consider dropping these columns, since we are not going to use them!\n",
    "data.drop(columns = ['benign_sample_diagnosis','stage'], inplace = True)"
   ]
  },
  {
   "cell_type": "code",
   "execution_count": 36,
   "id": "f19d7c65",
   "metadata": {},
   "outputs": [
    {
     "data": {
      "text/plain": [
       "sample_id         0\n",
       "patient_cohort    0\n",
       "sample_origin     0\n",
       "age               0\n",
       "sex               0\n",
       "diagnosis         0\n",
       "plasma_CA19_9     0\n",
       "creatinine        0\n",
       "LYVE1             0\n",
       "REG1B             0\n",
       "TFF1              0\n",
       "REG1A             0\n",
       "dtype: int64"
      ]
     },
     "execution_count": 36,
     "metadata": {},
     "output_type": "execute_result"
    }
   ],
   "source": [
    "data.isna().sum()\n",
    "# data.head()"
   ]
  },
  {
   "cell_type": "code",
   "execution_count": 37,
   "id": "3fc65d7d",
   "metadata": {},
   "outputs": [
    {
     "data": {
      "text/plain": [
       "0        S1\n",
       "1       S10\n",
       "2      S100\n",
       "3      S101\n",
       "4      S102\n",
       "       ... \n",
       "585    S549\n",
       "586    S558\n",
       "587    S560\n",
       "588    S583\n",
       "589    S590\n",
       "Name: sample_id, Length: 590, dtype: object"
      ]
     },
     "execution_count": 37,
     "metadata": {},
     "output_type": "execute_result"
    }
   ],
   "source": [
    "# Dropping sample_id column, since we are not going to use for the prediction task\n",
    "data.sample_id"
   ]
  },
  {
   "cell_type": "code",
   "execution_count": 38,
   "id": "24bf1838",
   "metadata": {},
   "outputs": [],
   "source": [
    "data.drop(columns = ['sample_id'], inplace=True)"
   ]
  },
  {
   "cell_type": "code",
   "execution_count": 39,
   "id": "4828af34",
   "metadata": {},
   "outputs": [
    {
     "data": {
      "text/html": [
       "<div>\n",
       "<style scoped>\n",
       "    .dataframe tbody tr th:only-of-type {\n",
       "        vertical-align: middle;\n",
       "    }\n",
       "\n",
       "    .dataframe tbody tr th {\n",
       "        vertical-align: top;\n",
       "    }\n",
       "\n",
       "    .dataframe thead th {\n",
       "        text-align: right;\n",
       "    }\n",
       "</style>\n",
       "<table border=\"1\" class=\"dataframe\">\n",
       "  <thead>\n",
       "    <tr style=\"text-align: right;\">\n",
       "      <th></th>\n",
       "      <th>patient_cohort</th>\n",
       "      <th>sample_origin</th>\n",
       "      <th>age</th>\n",
       "      <th>sex</th>\n",
       "      <th>diagnosis</th>\n",
       "      <th>plasma_CA19_9</th>\n",
       "      <th>creatinine</th>\n",
       "      <th>LYVE1</th>\n",
       "      <th>REG1B</th>\n",
       "      <th>TFF1</th>\n",
       "      <th>REG1A</th>\n",
       "    </tr>\n",
       "  </thead>\n",
       "  <tbody>\n",
       "    <tr>\n",
       "      <th>0</th>\n",
       "      <td>Cohort1</td>\n",
       "      <td>BPTB</td>\n",
       "      <td>33</td>\n",
       "      <td>F</td>\n",
       "      <td>1</td>\n",
       "      <td>11.7</td>\n",
       "      <td>1.83222</td>\n",
       "      <td>0.893219</td>\n",
       "      <td>52.94884</td>\n",
       "      <td>654.282174</td>\n",
       "      <td>1262.0000</td>\n",
       "    </tr>\n",
       "    <tr>\n",
       "      <th>1</th>\n",
       "      <td>Cohort1</td>\n",
       "      <td>BPTB</td>\n",
       "      <td>81</td>\n",
       "      <td>F</td>\n",
       "      <td>1</td>\n",
       "      <td>26.5</td>\n",
       "      <td>0.97266</td>\n",
       "      <td>2.037585</td>\n",
       "      <td>94.46703</td>\n",
       "      <td>209.488250</td>\n",
       "      <td>228.4070</td>\n",
       "    </tr>\n",
       "    <tr>\n",
       "      <th>2</th>\n",
       "      <td>Cohort2</td>\n",
       "      <td>BPTB</td>\n",
       "      <td>51</td>\n",
       "      <td>M</td>\n",
       "      <td>1</td>\n",
       "      <td>7.0</td>\n",
       "      <td>0.78039</td>\n",
       "      <td>0.145589</td>\n",
       "      <td>102.36600</td>\n",
       "      <td>461.141000</td>\n",
       "      <td>208.5385</td>\n",
       "    </tr>\n",
       "    <tr>\n",
       "      <th>3</th>\n",
       "      <td>Cohort2</td>\n",
       "      <td>BPTB</td>\n",
       "      <td>61</td>\n",
       "      <td>M</td>\n",
       "      <td>1</td>\n",
       "      <td>8.0</td>\n",
       "      <td>0.70122</td>\n",
       "      <td>0.002805</td>\n",
       "      <td>60.57900</td>\n",
       "      <td>142.950000</td>\n",
       "      <td>208.5385</td>\n",
       "    </tr>\n",
       "    <tr>\n",
       "      <th>4</th>\n",
       "      <td>Cohort2</td>\n",
       "      <td>BPTB</td>\n",
       "      <td>62</td>\n",
       "      <td>M</td>\n",
       "      <td>1</td>\n",
       "      <td>9.0</td>\n",
       "      <td>0.21489</td>\n",
       "      <td>0.000860</td>\n",
       "      <td>65.54000</td>\n",
       "      <td>41.088000</td>\n",
       "      <td>208.5385</td>\n",
       "    </tr>\n",
       "  </tbody>\n",
       "</table>\n",
       "</div>"
      ],
      "text/plain": [
       "  patient_cohort sample_origin  age sex  diagnosis  plasma_CA19_9  creatinine  \\\n",
       "0        Cohort1          BPTB   33   F          1           11.7     1.83222   \n",
       "1        Cohort1          BPTB   81   F          1           26.5     0.97266   \n",
       "2        Cohort2          BPTB   51   M          1            7.0     0.78039   \n",
       "3        Cohort2          BPTB   61   M          1            8.0     0.70122   \n",
       "4        Cohort2          BPTB   62   M          1            9.0     0.21489   \n",
       "\n",
       "      LYVE1      REG1B        TFF1      REG1A  \n",
       "0  0.893219   52.94884  654.282174  1262.0000  \n",
       "1  2.037585   94.46703  209.488250   228.4070  \n",
       "2  0.145589  102.36600  461.141000   208.5385  \n",
       "3  0.002805   60.57900  142.950000   208.5385  \n",
       "4  0.000860   65.54000   41.088000   208.5385  "
      ]
     },
     "execution_count": 39,
     "metadata": {},
     "output_type": "execute_result"
    }
   ],
   "source": [
    "data.head()"
   ]
  },
  {
   "cell_type": "code",
   "execution_count": 40,
   "id": "9067c14c",
   "metadata": {},
   "outputs": [
    {
     "name": "stdout",
     "output_type": "stream",
     "text": [
      "Data saved successfully to updated_data.csv\n"
     ]
    }
   ],
   "source": [
    "cleaned_file = \"updated_data.csv\"\n",
    "data.to_csv(cleaned_file, index = True)\n",
    "print(\"Data saved successfully to\", cleaned_file)"
   ]
  },
  {
   "cell_type": "markdown",
   "id": "0d1f2c3f",
   "metadata": {},
   "source": [
    "### Exploratory Data Analysis (EDA)"
   ]
  },
  {
   "cell_type": "markdown",
   "id": "05544de1",
   "metadata": {},
   "source": [
    "### Univariate Analysis"
   ]
  },
  {
   "cell_type": "code",
   "execution_count": 41,
   "id": "d8eeff1b",
   "metadata": {},
   "outputs": [
    {
     "data": {
      "text/plain": [
       "Index(['patient_cohort', 'sample_origin', 'age', 'sex', 'diagnosis',\n",
       "       'plasma_CA19_9', 'creatinine', 'LYVE1', 'REG1B', 'TFF1', 'REG1A'],\n",
       "      dtype='object')"
      ]
     },
     "execution_count": 41,
     "metadata": {},
     "output_type": "execute_result"
    }
   ],
   "source": [
    "data.columns"
   ]
  },
  {
   "cell_type": "markdown",
   "id": "22064816",
   "metadata": {},
   "source": [
    "#### Column: patient_cohort"
   ]
  },
  {
   "cell_type": "code",
   "execution_count": 42,
   "id": "d849c851",
   "metadata": {
    "scrolled": true
   },
   "outputs": [
    {
     "name": "stdout",
     "output_type": "stream",
     "text": [
      "      Column name Original column name                                                            Details\n",
      "1  patient_cohort     Patient's Cohort  Cohort 1,  previously used samples; Cohort 2, newly added samples\n"
     ]
    }
   ],
   "source": [
    "print(data_description.loc[ data_description['Column name'] == 'patient_cohort'].to_string())"
   ]
  },
  {
   "cell_type": "code",
   "execution_count": 43,
   "id": "64ecd730",
   "metadata": {},
   "outputs": [
    {
     "data": {
      "text/plain": [
       "Cohort1    332\n",
       "Cohort2    258\n",
       "Name: patient_cohort, dtype: int64"
      ]
     },
     "execution_count": 43,
     "metadata": {},
     "output_type": "execute_result"
    }
   ],
   "source": [
    "data['patient_cohort'].value_counts()"
   ]
  },
  {
   "cell_type": "markdown",
   "id": "ca269de2",
   "metadata": {},
   "source": [
    "#### Column: sample_origin"
   ]
  },
  {
   "cell_type": "code",
   "execution_count": 44,
   "id": "08a4cd69",
   "metadata": {},
   "outputs": [
    {
     "name": "stdout",
     "output_type": "stream",
     "text": [
      "     Column name Original column name                                                                                                                                                                       Details\n",
      "2  sample_origin        Sample Origin  BPTB: Barts Pancreas Tissue Bank, London, UK; ESP: Spanish National Cancer Research Centre, Madrid, Spain; LIV: Liverpool University, UK; UCL: University College London, UK\n"
     ]
    }
   ],
   "source": [
    "print(data_description.loc[ data_description['Column name'] == 'sample_origin'].to_string())"
   ]
  },
  {
   "cell_type": "code",
   "execution_count": 45,
   "id": "bc922bc6",
   "metadata": {},
   "outputs": [
    {
     "data": {
      "text/plain": [
       "BPTB    409\n",
       "LIV     132\n",
       "ESP      29\n",
       "UCL      20\n",
       "Name: sample_origin, dtype: int64"
      ]
     },
     "execution_count": 45,
     "metadata": {},
     "output_type": "execute_result"
    }
   ],
   "source": [
    "data['sample_origin'].value_counts()"
   ]
  },
  {
   "cell_type": "code",
   "execution_count": 46,
   "id": "eb394aac",
   "metadata": {},
   "outputs": [],
   "source": [
    "# I do not think \"sample_origin\" colum would be usefull for predicting the output! Therefore, I am dropping it :)\n",
    "data.drop(columns = ['sample_origin'], inplace=True)"
   ]
  },
  {
   "cell_type": "markdown",
   "id": "1fe52b17",
   "metadata": {},
   "source": [
    "#### Column: age"
   ]
  },
  {
   "cell_type": "code",
   "execution_count": 47,
   "id": "560ca01d",
   "metadata": {},
   "outputs": [
    {
     "data": {
      "image/png": "[encoded data removed]",
      "text/plain": [
       "<Figure size 640x480 with 1 Axes>"
      ]
     },
     "metadata": {},
     "output_type": "display_data"
    }
   ],
   "source": [
    "sns.histplot(data.age, kde = True)\n",
    "plt.show()"
   ]
  },
  {
   "cell_type": "code",
   "execution_count": 48,
   "id": "7f722701",
   "metadata": {},
   "outputs": [
    {
     "name": "stderr",
     "output_type": "stream",
     "text": [
      "C:\\Users\\asus\\anaconda3\\lib\\site-packages\\seaborn\\_decorators.py:36: FutureWarning: Pass the following variable as a keyword arg: x. From version 0.12, the only valid positional argument will be `data`, and passing other arguments without an explicit keyword will result in an error or misinterpretation.\n",
      "  warnings.warn(\n"
     ]
    },
    {
     "data": {
      "image/png": "[encoded data removed]",
      "text/plain": [
       "<Figure size 640x480 with 1 Axes>"
      ]
     },
     "metadata": {},
     "output_type": "display_data"
    }
   ],
   "source": [
    "sns.boxenplot(data.age)\n",
    "plt.show()"
   ]
  },
  {
   "cell_type": "code",
   "execution_count": 49,
   "id": "c93aa6ea",
   "metadata": {},
   "outputs": [
    {
     "data": {
      "text/plain": [
       "False    590\n",
       "Name: age, dtype: int64"
      ]
     },
     "execution_count": 49,
     "metadata": {},
     "output_type": "execute_result"
    }
   ],
   "source": [
    "# checking is their any na value\n",
    "hello = data.age.isna()\n",
    "hello.value_counts()"
   ]
  },
  {
   "cell_type": "markdown",
   "id": "139a66e7",
   "metadata": {},
   "source": [
    "#### Column: sex"
   ]
  },
  {
   "cell_type": "code",
   "execution_count": 50,
   "id": "56d44723",
   "metadata": {},
   "outputs": [
    {
     "data": {
      "text/plain": [
       "F    299\n",
       "M    291\n",
       "Name: sex, dtype: int64"
      ]
     },
     "execution_count": 50,
     "metadata": {},
     "output_type": "execute_result"
    }
   ],
   "source": [
    "data.sex.value_counts()"
   ]
  },
  {
   "cell_type": "markdown",
   "id": "75a7cfd8",
   "metadata": {},
   "source": [
    "#### Column: diagnosis"
   ]
  },
  {
   "cell_type": "code",
   "execution_count": 51,
   "id": "2c5c4c9f",
   "metadata": {},
   "outputs": [
    {
     "data": {
      "text/plain": [
       "2    208\n",
       "3    199\n",
       "1    183\n",
       "Name: diagnosis, dtype: int64"
      ]
     },
     "execution_count": 51,
     "metadata": {},
     "output_type": "execute_result"
    }
   ],
   "source": [
    "data.diagnosis.value_counts()"
   ]
  },
  {
   "cell_type": "markdown",
   "id": "3b86d52e",
   "metadata": {},
   "source": [
    "#### Column: plasma_CA19_9"
   ]
  },
  {
   "cell_type": "code",
   "execution_count": 52,
   "id": "3e72e63c",
   "metadata": {},
   "outputs": [
    {
     "data": {
      "text/plain": [
       "0        11.7\n",
       "1        26.5\n",
       "2         7.0\n",
       "3         8.0\n",
       "4         9.0\n",
       "        ...  \n",
       "585      26.5\n",
       "586      26.5\n",
       "587      26.5\n",
       "588      26.5\n",
       "589    1488.0\n",
       "Name: plasma_CA19_9, Length: 590, dtype: float64"
      ]
     },
     "execution_count": 52,
     "metadata": {},
     "output_type": "execute_result"
    }
   ],
   "source": [
    "data.plasma_CA19_9"
   ]
  },
  {
   "cell_type": "code",
   "execution_count": 53,
   "id": "ef904b40",
   "metadata": {},
   "outputs": [
    {
     "data": {
      "image/png": "[encoded data removed]",
      "text/plain": [
       "<Figure size 640x480 with 1 Axes>"
      ]
     },
     "metadata": {},
     "output_type": "display_data"
    }
   ],
   "source": [
    "sns.histplot(data.plasma_CA19_9, kde = True)\n",
    "plt.show()"
   ]
  },
  {
   "cell_type": "code",
   "execution_count": 54,
   "id": "85152283",
   "metadata": {},
   "outputs": [
    {
     "data": {
      "text/plain": [
       "26.5      240\n",
       "9.0         8\n",
       "11.0        8\n",
       "7.0         6\n",
       "4.0         5\n",
       "         ... \n",
       "263.0       1\n",
       "1913.0      1\n",
       "72.0        1\n",
       "32.0        1\n",
       "1488.0      1\n",
       "Name: plasma_CA19_9, Length: 267, dtype: int64"
      ]
     },
     "execution_count": 54,
     "metadata": {},
     "output_type": "execute_result"
    }
   ],
   "source": [
    "data.plasma_CA19_9.value_counts()"
   ]
  },
  {
   "cell_type": "code",
   "execution_count": 55,
   "id": "3f0055bd",
   "metadata": {},
   "outputs": [
    {
     "name": "stderr",
     "output_type": "stream",
     "text": [
      "C:\\Users\\asus\\anaconda3\\lib\\site-packages\\seaborn\\_decorators.py:36: FutureWarning: Pass the following variable as a keyword arg: x. From version 0.12, the only valid positional argument will be `data`, and passing other arguments without an explicit keyword will result in an error or misinterpretation.\n",
      "  warnings.warn(\n"
     ]
    },
    {
     "data": {
      "image/png": "[encoded data removed]",
      "text/plain": [
       "<Figure size 640x480 with 1 Axes>"
      ]
     },
     "metadata": {},
     "output_type": "display_data"
    }
   ],
   "source": [
    "sns.boxplot(data.plasma_CA19_9)\n",
    "plt.show()"
   ]
  },
  {
   "cell_type": "markdown",
   "id": "b87d89fe",
   "metadata": {},
   "source": [
    "#### Column: creatinine"
   ]
  },
  {
   "cell_type": "code",
   "execution_count": 56,
   "id": "894678cf",
   "metadata": {},
   "outputs": [
    {
     "data": {
      "text/plain": [
       "0      1.83222\n",
       "1      0.97266\n",
       "2      0.78039\n",
       "3      0.70122\n",
       "4      0.21489\n",
       "        ...   \n",
       "585    0.52026\n",
       "586    0.85956\n",
       "587    1.36851\n",
       "588    1.33458\n",
       "589    1.50423\n",
       "Name: creatinine, Length: 590, dtype: float64"
      ]
     },
     "execution_count": 56,
     "metadata": {},
     "output_type": "execute_result"
    }
   ],
   "source": [
    "data.creatinine"
   ]
  },
  {
   "cell_type": "code",
   "execution_count": 57,
   "id": "e7c6cba8",
   "metadata": {},
   "outputs": [
    {
     "data": {
      "image/png": "[encoded data removed]",
      "text/plain": [
       "<Figure size 640x480 with 1 Axes>"
      ]
     },
     "metadata": {},
     "output_type": "display_data"
    }
   ],
   "source": [
    "sns.histplot(data.creatinine, kde = True)\n",
    "plt.show()"
   ]
  },
  {
   "cell_type": "code",
   "execution_count": 58,
   "id": "be7a5200",
   "metadata": {},
   "outputs": [
    {
     "name": "stderr",
     "output_type": "stream",
     "text": [
      "C:\\Users\\asus\\anaconda3\\lib\\site-packages\\seaborn\\_decorators.py:36: FutureWarning: Pass the following variable as a keyword arg: x. From version 0.12, the only valid positional argument will be `data`, and passing other arguments without an explicit keyword will result in an error or misinterpretation.\n",
      "  warnings.warn(\n"
     ]
    },
    {
     "data": {
      "image/png": "[encoded data removed]",
      "text/plain": [
       "<Figure size 640x480 with 1 Axes>"
      ]
     },
     "metadata": {},
     "output_type": "display_data"
    }
   ],
   "source": [
    "sns.boxplot(data.creatinine)\n",
    "plt.show()"
   ]
  },
  {
   "cell_type": "markdown",
   "id": "56c5c29c",
   "metadata": {},
   "source": [
    "#### Columns: LYVE1, REG1B, TFF1, REG1A"
   ]
  },
  {
   "cell_type": "code",
   "execution_count": 59,
   "id": "a1c230c7",
   "metadata": {},
   "outputs": [
    {
     "data": {
      "text/html": [
       "<div>\n",
       "<style scoped>\n",
       "    .dataframe tbody tr th:only-of-type {\n",
       "        vertical-align: middle;\n",
       "    }\n",
       "\n",
       "    .dataframe tbody tr th {\n",
       "        vertical-align: top;\n",
       "    }\n",
       "\n",
       "    .dataframe thead th {\n",
       "        text-align: right;\n",
       "    }\n",
       "</style>\n",
       "<table border=\"1\" class=\"dataframe\">\n",
       "  <thead>\n",
       "    <tr style=\"text-align: right;\">\n",
       "      <th></th>\n",
       "      <th>LYVE1</th>\n",
       "      <th>REG1B</th>\n",
       "      <th>TFF1</th>\n",
       "      <th>REG1A</th>\n",
       "    </tr>\n",
       "  </thead>\n",
       "  <tbody>\n",
       "    <tr>\n",
       "      <th>0</th>\n",
       "      <td>0.893219</td>\n",
       "      <td>52.948840</td>\n",
       "      <td>654.282174</td>\n",
       "      <td>1262.0000</td>\n",
       "    </tr>\n",
       "    <tr>\n",
       "      <th>1</th>\n",
       "      <td>2.037585</td>\n",
       "      <td>94.467030</td>\n",
       "      <td>209.488250</td>\n",
       "      <td>228.4070</td>\n",
       "    </tr>\n",
       "    <tr>\n",
       "      <th>2</th>\n",
       "      <td>0.145589</td>\n",
       "      <td>102.366000</td>\n",
       "      <td>461.141000</td>\n",
       "      <td>208.5385</td>\n",
       "    </tr>\n",
       "    <tr>\n",
       "      <th>3</th>\n",
       "      <td>0.002805</td>\n",
       "      <td>60.579000</td>\n",
       "      <td>142.950000</td>\n",
       "      <td>208.5385</td>\n",
       "    </tr>\n",
       "    <tr>\n",
       "      <th>4</th>\n",
       "      <td>0.000860</td>\n",
       "      <td>65.540000</td>\n",
       "      <td>41.088000</td>\n",
       "      <td>208.5385</td>\n",
       "    </tr>\n",
       "    <tr>\n",
       "      <th>...</th>\n",
       "      <td>...</td>\n",
       "      <td>...</td>\n",
       "      <td>...</td>\n",
       "      <td>...</td>\n",
       "    </tr>\n",
       "    <tr>\n",
       "      <th>585</th>\n",
       "      <td>7.058209</td>\n",
       "      <td>156.241000</td>\n",
       "      <td>525.178000</td>\n",
       "      <td>208.5385</td>\n",
       "    </tr>\n",
       "    <tr>\n",
       "      <th>586</th>\n",
       "      <td>8.341207</td>\n",
       "      <td>16.915000</td>\n",
       "      <td>245.947000</td>\n",
       "      <td>208.5385</td>\n",
       "    </tr>\n",
       "    <tr>\n",
       "      <th>587</th>\n",
       "      <td>7.674707</td>\n",
       "      <td>289.701000</td>\n",
       "      <td>537.286000</td>\n",
       "      <td>208.5385</td>\n",
       "    </tr>\n",
       "    <tr>\n",
       "      <th>588</th>\n",
       "      <td>8.206777</td>\n",
       "      <td>205.930000</td>\n",
       "      <td>722.523000</td>\n",
       "      <td>208.5385</td>\n",
       "    </tr>\n",
       "    <tr>\n",
       "      <th>589</th>\n",
       "      <td>8.200958</td>\n",
       "      <td>411.938275</td>\n",
       "      <td>2021.321078</td>\n",
       "      <td>13200.0000</td>\n",
       "    </tr>\n",
       "  </tbody>\n",
       "</table>\n",
       "<p>590 rows × 4 columns</p>\n",
       "</div>"
      ],
      "text/plain": [
       "        LYVE1       REG1B         TFF1       REG1A\n",
       "0    0.893219   52.948840   654.282174   1262.0000\n",
       "1    2.037585   94.467030   209.488250    228.4070\n",
       "2    0.145589  102.366000   461.141000    208.5385\n",
       "3    0.002805   60.579000   142.950000    208.5385\n",
       "4    0.000860   65.540000    41.088000    208.5385\n",
       "..        ...         ...          ...         ...\n",
       "585  7.058209  156.241000   525.178000    208.5385\n",
       "586  8.341207   16.915000   245.947000    208.5385\n",
       "587  7.674707  289.701000   537.286000    208.5385\n",
       "588  8.206777  205.930000   722.523000    208.5385\n",
       "589  8.200958  411.938275  2021.321078  13200.0000\n",
       "\n",
       "[590 rows x 4 columns]"
      ]
     },
     "execution_count": 59,
     "metadata": {},
     "output_type": "execute_result"
    }
   ],
   "source": [
    "data[['LYVE1', 'REG1B', 'TFF1','REG1A']]"
   ]
  },
  {
   "cell_type": "code",
   "execution_count": 60,
   "id": "be93affc",
   "metadata": {},
   "outputs": [
    {
     "name": "stdout",
     "output_type": "stream",
     "text": [
      "Histogram plot and Box plot:  LYVE1\n"
     ]
    },
    {
     "data": {
      "image/png": "[encoded data removed]",
      "text/plain": [
       "<Figure size 2000x800 with 2 Axes>"
      ]
     },
     "metadata": {},
     "output_type": "display_data"
    },
    {
     "name": "stdout",
     "output_type": "stream",
     "text": [
      "Histogram plot and Box plot:  REG1B\n"
     ]
    },
    {
     "data": {
      "image/png": "[encoded data removed]",
      "text/plain": [
       "<Figure size 2000x800 with 2 Axes>"
      ]
     },
     "metadata": {},
     "output_type": "display_data"
    },
    {
     "name": "stdout",
     "output_type": "stream",
     "text": [
      "Histogram plot and Box plot:  TFF1\n"
     ]
    },
    {
     "data": {
      "image/png": "[encoded data removed]",
      "text/plain": [
       "<Figure size 2000x800 with 2 Axes>"
      ]
     },
     "metadata": {},
     "output_type": "display_data"
    },
    {
     "name": "stdout",
     "output_type": "stream",
     "text": [
      "Histogram plot and Box plot:  REG1A\n"
     ]
    },
    {
     "data": {
      "image/png": "[encoded data removed]",
      "text/plain": [
       "<Figure size 2000x800 with 2 Axes>"
      ]
     },
     "metadata": {},
     "output_type": "display_data"
    }
   ],
   "source": [
    "# A for loop to create histogram and boxplot plots for each of the remaining columns\n",
    "for col in ['LYVE1', 'REG1B', 'TFF1','REG1A']:\n",
    "    print(\"Histogram plot and Box plot: \", col)\n",
    "    fig, (ax1, ax2) = plt.subplots(1,2, figsize=(20,8))\n",
    "    sns.histplot(data[col], ax=ax1, bins = 15)\n",
    "    sns.boxplot(x = data[col], ax = ax2)\n",
    "    plt.show()"
   ]
  },
  {
   "cell_type": "markdown",
   "id": "ab2ec575",
   "metadata": {},
   "source": [
    "### Bivariate Analysis"
   ]
  },
  {
   "cell_type": "code",
   "execution_count": 61,
   "id": "c1267b91",
   "metadata": {},
   "outputs": [
    {
     "data": {
      "text/plain": [
       "Index(['patient_cohort', 'age', 'sex', 'diagnosis', 'plasma_CA19_9',\n",
       "       'creatinine', 'LYVE1', 'REG1B', 'TFF1', 'REG1A'],\n",
       "      dtype='object')"
      ]
     },
     "execution_count": 61,
     "metadata": {},
     "output_type": "execute_result"
    }
   ],
   "source": [
    "data.columns"
   ]
  },
  {
   "cell_type": "code",
   "execution_count": 62,
   "id": "881fa64e",
   "metadata": {
    "scrolled": true
   },
   "outputs": [
    {
     "data": {
      "text/html": [
       "<div>\n",
       "<style scoped>\n",
       "    .dataframe tbody tr th:only-of-type {\n",
       "        vertical-align: middle;\n",
       "    }\n",
       "\n",
       "    .dataframe tbody tr th {\n",
       "        vertical-align: top;\n",
       "    }\n",
       "\n",
       "    .dataframe thead th {\n",
       "        text-align: right;\n",
       "    }\n",
       "</style>\n",
       "<table border=\"1\" class=\"dataframe\">\n",
       "  <thead>\n",
       "    <tr style=\"text-align: right;\">\n",
       "      <th></th>\n",
       "      <th>patient_cohort</th>\n",
       "      <th>age</th>\n",
       "      <th>sex</th>\n",
       "      <th>diagnosis</th>\n",
       "      <th>plasma_CA19_9</th>\n",
       "      <th>creatinine</th>\n",
       "      <th>LYVE1</th>\n",
       "      <th>REG1B</th>\n",
       "      <th>TFF1</th>\n",
       "      <th>REG1A</th>\n",
       "    </tr>\n",
       "  </thead>\n",
       "  <tbody>\n",
       "    <tr>\n",
       "      <th>379</th>\n",
       "      <td>Cohort2</td>\n",
       "      <td>59</td>\n",
       "      <td>F</td>\n",
       "      <td>2</td>\n",
       "      <td>6.000000</td>\n",
       "      <td>0.33930</td>\n",
       "      <td>1.115925</td>\n",
       "      <td>21.7720</td>\n",
       "      <td>74.864000</td>\n",
       "      <td>208.5385</td>\n",
       "    </tr>\n",
       "    <tr>\n",
       "      <th>322</th>\n",
       "      <td>Cohort1</td>\n",
       "      <td>48</td>\n",
       "      <td>M</td>\n",
       "      <td>2</td>\n",
       "      <td>26.500000</td>\n",
       "      <td>1.30065</td>\n",
       "      <td>3.067997</td>\n",
       "      <td>459.0579</td>\n",
       "      <td>653.255000</td>\n",
       "      <td>5471.5930</td>\n",
       "    </tr>\n",
       "    <tr>\n",
       "      <th>8</th>\n",
       "      <td>Cohort2</td>\n",
       "      <td>59</td>\n",
       "      <td>F</td>\n",
       "      <td>1</td>\n",
       "      <td>26.500000</td>\n",
       "      <td>0.48633</td>\n",
       "      <td>0.001945</td>\n",
       "      <td>7.0210</td>\n",
       "      <td>26.782000</td>\n",
       "      <td>208.5385</td>\n",
       "    </tr>\n",
       "    <tr>\n",
       "      <th>182</th>\n",
       "      <td>Cohort2</td>\n",
       "      <td>76</td>\n",
       "      <td>F</td>\n",
       "      <td>1</td>\n",
       "      <td>8.000000</td>\n",
       "      <td>0.56550</td>\n",
       "      <td>0.002262</td>\n",
       "      <td>24.3170</td>\n",
       "      <td>62.488000</td>\n",
       "      <td>208.5385</td>\n",
       "    </tr>\n",
       "    <tr>\n",
       "      <th>52</th>\n",
       "      <td>Cohort2</td>\n",
       "      <td>63</td>\n",
       "      <td>F</td>\n",
       "      <td>1</td>\n",
       "      <td>2.059078</td>\n",
       "      <td>0.32799</td>\n",
       "      <td>0.001312</td>\n",
       "      <td>219.8605</td>\n",
       "      <td>0.025583</td>\n",
       "      <td>208.5385</td>\n",
       "    </tr>\n",
       "  </tbody>\n",
       "</table>\n",
       "</div>"
      ],
      "text/plain": [
       "    patient_cohort  age sex  diagnosis  plasma_CA19_9  creatinine     LYVE1  \\\n",
       "379        Cohort2   59   F          2       6.000000     0.33930  1.115925   \n",
       "322        Cohort1   48   M          2      26.500000     1.30065  3.067997   \n",
       "8          Cohort2   59   F          1      26.500000     0.48633  0.001945   \n",
       "182        Cohort2   76   F          1       8.000000     0.56550  0.002262   \n",
       "52         Cohort2   63   F          1       2.059078     0.32799  0.001312   \n",
       "\n",
       "        REG1B        TFF1      REG1A  \n",
       "379   21.7720   74.864000   208.5385  \n",
       "322  459.0579  653.255000  5471.5930  \n",
       "8      7.0210   26.782000   208.5385  \n",
       "182   24.3170   62.488000   208.5385  \n",
       "52   219.8605    0.025583   208.5385  "
      ]
     },
     "execution_count": 62,
     "metadata": {},
     "output_type": "execute_result"
    }
   ],
   "source": [
    "data.sample(5)"
   ]
  },
  {
   "cell_type": "code",
   "execution_count": 63,
   "id": "c2bf8794",
   "metadata": {},
   "outputs": [],
   "source": [
    "categorical_cols = ['patient_cohort', 'sex', 'diagnosis']"
   ]
  },
  {
   "cell_type": "code",
   "execution_count": 64,
   "id": "0ccbeab0",
   "metadata": {},
   "outputs": [],
   "source": [
    "numerical_cols = ['age', 'plasma_CA19_9', 'creatinine', 'LYVE1', 'REG1B', 'TFF1', 'REG1A']"
   ]
  },
  {
   "cell_type": "markdown",
   "id": "32b79f13",
   "metadata": {},
   "source": [
    "## Feature Engineering"
   ]
  },
  {
   "cell_type": "markdown",
   "id": "54bd10b1",
   "metadata": {},
   "source": [
    "#### Encoding Categorical Variables"
   ]
  },
  {
   "cell_type": "code",
   "execution_count": 65,
   "id": "d20498b0",
   "metadata": {},
   "outputs": [
    {
     "data": {
      "text/html": [
       "<div>\n",
       "<style scoped>\n",
       "    .dataframe tbody tr th:only-of-type {\n",
       "        vertical-align: middle;\n",
       "    }\n",
       "\n",
       "    .dataframe tbody tr th {\n",
       "        vertical-align: top;\n",
       "    }\n",
       "\n",
       "    .dataframe thead th {\n",
       "        text-align: right;\n",
       "    }\n",
       "</style>\n",
       "<table border=\"1\" class=\"dataframe\">\n",
       "  <thead>\n",
       "    <tr style=\"text-align: right;\">\n",
       "      <th></th>\n",
       "      <th>patient_cohort</th>\n",
       "      <th>sex</th>\n",
       "      <th>diagnosis</th>\n",
       "    </tr>\n",
       "  </thead>\n",
       "  <tbody>\n",
       "    <tr>\n",
       "      <th>0</th>\n",
       "      <td>Cohort1</td>\n",
       "      <td>F</td>\n",
       "      <td>1</td>\n",
       "    </tr>\n",
       "    <tr>\n",
       "      <th>1</th>\n",
       "      <td>Cohort1</td>\n",
       "      <td>F</td>\n",
       "      <td>1</td>\n",
       "    </tr>\n",
       "    <tr>\n",
       "      <th>2</th>\n",
       "      <td>Cohort2</td>\n",
       "      <td>M</td>\n",
       "      <td>1</td>\n",
       "    </tr>\n",
       "    <tr>\n",
       "      <th>3</th>\n",
       "      <td>Cohort2</td>\n",
       "      <td>M</td>\n",
       "      <td>1</td>\n",
       "    </tr>\n",
       "    <tr>\n",
       "      <th>4</th>\n",
       "      <td>Cohort2</td>\n",
       "      <td>M</td>\n",
       "      <td>1</td>\n",
       "    </tr>\n",
       "    <tr>\n",
       "      <th>...</th>\n",
       "      <td>...</td>\n",
       "      <td>...</td>\n",
       "      <td>...</td>\n",
       "    </tr>\n",
       "    <tr>\n",
       "      <th>585</th>\n",
       "      <td>Cohort2</td>\n",
       "      <td>M</td>\n",
       "      <td>3</td>\n",
       "    </tr>\n",
       "    <tr>\n",
       "      <th>586</th>\n",
       "      <td>Cohort2</td>\n",
       "      <td>F</td>\n",
       "      <td>3</td>\n",
       "    </tr>\n",
       "    <tr>\n",
       "      <th>587</th>\n",
       "      <td>Cohort2</td>\n",
       "      <td>M</td>\n",
       "      <td>3</td>\n",
       "    </tr>\n",
       "    <tr>\n",
       "      <th>588</th>\n",
       "      <td>Cohort2</td>\n",
       "      <td>F</td>\n",
       "      <td>3</td>\n",
       "    </tr>\n",
       "    <tr>\n",
       "      <th>589</th>\n",
       "      <td>Cohort1</td>\n",
       "      <td>M</td>\n",
       "      <td>3</td>\n",
       "    </tr>\n",
       "  </tbody>\n",
       "</table>\n",
       "<p>590 rows × 3 columns</p>\n",
       "</div>"
      ],
      "text/plain": [
       "    patient_cohort sex  diagnosis\n",
       "0          Cohort1   F          1\n",
       "1          Cohort1   F          1\n",
       "2          Cohort2   M          1\n",
       "3          Cohort2   M          1\n",
       "4          Cohort2   M          1\n",
       "..             ...  ..        ...\n",
       "585        Cohort2   M          3\n",
       "586        Cohort2   F          3\n",
       "587        Cohort2   M          3\n",
       "588        Cohort2   F          3\n",
       "589        Cohort1   M          3\n",
       "\n",
       "[590 rows x 3 columns]"
      ]
     },
     "execution_count": 65,
     "metadata": {},
     "output_type": "execute_result"
    }
   ],
   "source": [
    "data[categorical_cols]"
   ]
  },
  {
   "cell_type": "code",
   "execution_count": 66,
   "id": "76468e5b",
   "metadata": {},
   "outputs": [
    {
     "data": {
      "text/html": [
       "<div>\n",
       "<style scoped>\n",
       "    .dataframe tbody tr th:only-of-type {\n",
       "        vertical-align: middle;\n",
       "    }\n",
       "\n",
       "    .dataframe tbody tr th {\n",
       "        vertical-align: top;\n",
       "    }\n",
       "\n",
       "    .dataframe thead th {\n",
       "        text-align: right;\n",
       "    }\n",
       "</style>\n",
       "<table border=\"1\" class=\"dataframe\">\n",
       "  <thead>\n",
       "    <tr style=\"text-align: right;\">\n",
       "      <th></th>\n",
       "      <th>Cohort2</th>\n",
       "    </tr>\n",
       "  </thead>\n",
       "  <tbody>\n",
       "    <tr>\n",
       "      <th>0</th>\n",
       "      <td>0</td>\n",
       "    </tr>\n",
       "    <tr>\n",
       "      <th>1</th>\n",
       "      <td>0</td>\n",
       "    </tr>\n",
       "    <tr>\n",
       "      <th>2</th>\n",
       "      <td>1</td>\n",
       "    </tr>\n",
       "    <tr>\n",
       "      <th>3</th>\n",
       "      <td>1</td>\n",
       "    </tr>\n",
       "    <tr>\n",
       "      <th>4</th>\n",
       "      <td>1</td>\n",
       "    </tr>\n",
       "    <tr>\n",
       "      <th>...</th>\n",
       "      <td>...</td>\n",
       "    </tr>\n",
       "    <tr>\n",
       "      <th>585</th>\n",
       "      <td>1</td>\n",
       "    </tr>\n",
       "    <tr>\n",
       "      <th>586</th>\n",
       "      <td>1</td>\n",
       "    </tr>\n",
       "    <tr>\n",
       "      <th>587</th>\n",
       "      <td>1</td>\n",
       "    </tr>\n",
       "    <tr>\n",
       "      <th>588</th>\n",
       "      <td>1</td>\n",
       "    </tr>\n",
       "    <tr>\n",
       "      <th>589</th>\n",
       "      <td>0</td>\n",
       "    </tr>\n",
       "  </tbody>\n",
       "</table>\n",
       "<p>590 rows × 1 columns</p>\n",
       "</div>"
      ],
      "text/plain": [
       "     Cohort2\n",
       "0          0\n",
       "1          0\n",
       "2          1\n",
       "3          1\n",
       "4          1\n",
       "..       ...\n",
       "585        1\n",
       "586        1\n",
       "587        1\n",
       "588        1\n",
       "589        0\n",
       "\n",
       "[590 rows x 1 columns]"
      ]
     },
     "execution_count": 66,
     "metadata": {},
     "output_type": "execute_result"
    }
   ],
   "source": [
    "pd.get_dummies(data['patient_cohort'], drop_first=True)"
   ]
  },
  {
   "cell_type": "code",
   "execution_count": 67,
   "id": "ca9dbf8f",
   "metadata": {},
   "outputs": [],
   "source": [
    "data['patient_cohort_1?'] = pd.get_dummies(data['patient_cohort'], drop_first=True, dtype='int')\n",
    "data.drop(columns = ['patient_cohort'], inplace=True)"
   ]
  },
  {
   "cell_type": "code",
   "execution_count": 68,
   "id": "0f68e164",
   "metadata": {},
   "outputs": [
    {
     "data": {
      "text/html": [
       "<div>\n",
       "<style scoped>\n",
       "    .dataframe tbody tr th:only-of-type {\n",
       "        vertical-align: middle;\n",
       "    }\n",
       "\n",
       "    .dataframe tbody tr th {\n",
       "        vertical-align: top;\n",
       "    }\n",
       "\n",
       "    .dataframe thead th {\n",
       "        text-align: right;\n",
       "    }\n",
       "</style>\n",
       "<table border=\"1\" class=\"dataframe\">\n",
       "  <thead>\n",
       "    <tr style=\"text-align: right;\">\n",
       "      <th></th>\n",
       "      <th>age</th>\n",
       "      <th>sex</th>\n",
       "      <th>diagnosis</th>\n",
       "      <th>plasma_CA19_9</th>\n",
       "      <th>creatinine</th>\n",
       "      <th>LYVE1</th>\n",
       "      <th>REG1B</th>\n",
       "      <th>TFF1</th>\n",
       "      <th>REG1A</th>\n",
       "      <th>patient_cohort_1?</th>\n",
       "    </tr>\n",
       "  </thead>\n",
       "  <tbody>\n",
       "    <tr>\n",
       "      <th>0</th>\n",
       "      <td>33</td>\n",
       "      <td>F</td>\n",
       "      <td>1</td>\n",
       "      <td>11.7</td>\n",
       "      <td>1.83222</td>\n",
       "      <td>0.893219</td>\n",
       "      <td>52.94884</td>\n",
       "      <td>654.282174</td>\n",
       "      <td>1262.0000</td>\n",
       "      <td>0</td>\n",
       "    </tr>\n",
       "    <tr>\n",
       "      <th>1</th>\n",
       "      <td>81</td>\n",
       "      <td>F</td>\n",
       "      <td>1</td>\n",
       "      <td>26.5</td>\n",
       "      <td>0.97266</td>\n",
       "      <td>2.037585</td>\n",
       "      <td>94.46703</td>\n",
       "      <td>209.488250</td>\n",
       "      <td>228.4070</td>\n",
       "      <td>0</td>\n",
       "    </tr>\n",
       "    <tr>\n",
       "      <th>2</th>\n",
       "      <td>51</td>\n",
       "      <td>M</td>\n",
       "      <td>1</td>\n",
       "      <td>7.0</td>\n",
       "      <td>0.78039</td>\n",
       "      <td>0.145589</td>\n",
       "      <td>102.36600</td>\n",
       "      <td>461.141000</td>\n",
       "      <td>208.5385</td>\n",
       "      <td>1</td>\n",
       "    </tr>\n",
       "    <tr>\n",
       "      <th>3</th>\n",
       "      <td>61</td>\n",
       "      <td>M</td>\n",
       "      <td>1</td>\n",
       "      <td>8.0</td>\n",
       "      <td>0.70122</td>\n",
       "      <td>0.002805</td>\n",
       "      <td>60.57900</td>\n",
       "      <td>142.950000</td>\n",
       "      <td>208.5385</td>\n",
       "      <td>1</td>\n",
       "    </tr>\n",
       "    <tr>\n",
       "      <th>4</th>\n",
       "      <td>62</td>\n",
       "      <td>M</td>\n",
       "      <td>1</td>\n",
       "      <td>9.0</td>\n",
       "      <td>0.21489</td>\n",
       "      <td>0.000860</td>\n",
       "      <td>65.54000</td>\n",
       "      <td>41.088000</td>\n",
       "      <td>208.5385</td>\n",
       "      <td>1</td>\n",
       "    </tr>\n",
       "  </tbody>\n",
       "</table>\n",
       "</div>"
      ],
      "text/plain": [
       "   age sex  diagnosis  plasma_CA19_9  creatinine     LYVE1      REG1B  \\\n",
       "0   33   F          1           11.7     1.83222  0.893219   52.94884   \n",
       "1   81   F          1           26.5     0.97266  2.037585   94.46703   \n",
       "2   51   M          1            7.0     0.78039  0.145589  102.36600   \n",
       "3   61   M          1            8.0     0.70122  0.002805   60.57900   \n",
       "4   62   M          1            9.0     0.21489  0.000860   65.54000   \n",
       "\n",
       "         TFF1      REG1A  patient_cohort_1?  \n",
       "0  654.282174  1262.0000                  0  \n",
       "1  209.488250   228.4070                  0  \n",
       "2  461.141000   208.5385                  1  \n",
       "3  142.950000   208.5385                  1  \n",
       "4   41.088000   208.5385                  1  "
      ]
     },
     "execution_count": 68,
     "metadata": {},
     "output_type": "execute_result"
    }
   ],
   "source": [
    "data.head()"
   ]
  },
  {
   "cell_type": "code",
   "execution_count": 69,
   "id": "bbeb8f16",
   "metadata": {},
   "outputs": [
    {
     "data": {
      "text/html": [
       "<div>\n",
       "<style scoped>\n",
       "    .dataframe tbody tr th:only-of-type {\n",
       "        vertical-align: middle;\n",
       "    }\n",
       "\n",
       "    .dataframe tbody tr th {\n",
       "        vertical-align: top;\n",
       "    }\n",
       "\n",
       "    .dataframe thead th {\n",
       "        text-align: right;\n",
       "    }\n",
       "</style>\n",
       "<table border=\"1\" class=\"dataframe\">\n",
       "  <thead>\n",
       "    <tr style=\"text-align: right;\">\n",
       "      <th></th>\n",
       "      <th>M</th>\n",
       "    </tr>\n",
       "  </thead>\n",
       "  <tbody>\n",
       "    <tr>\n",
       "      <th>0</th>\n",
       "      <td>0</td>\n",
       "    </tr>\n",
       "    <tr>\n",
       "      <th>1</th>\n",
       "      <td>0</td>\n",
       "    </tr>\n",
       "    <tr>\n",
       "      <th>2</th>\n",
       "      <td>1</td>\n",
       "    </tr>\n",
       "    <tr>\n",
       "      <th>3</th>\n",
       "      <td>1</td>\n",
       "    </tr>\n",
       "    <tr>\n",
       "      <th>4</th>\n",
       "      <td>1</td>\n",
       "    </tr>\n",
       "    <tr>\n",
       "      <th>...</th>\n",
       "      <td>...</td>\n",
       "    </tr>\n",
       "    <tr>\n",
       "      <th>585</th>\n",
       "      <td>1</td>\n",
       "    </tr>\n",
       "    <tr>\n",
       "      <th>586</th>\n",
       "      <td>0</td>\n",
       "    </tr>\n",
       "    <tr>\n",
       "      <th>587</th>\n",
       "      <td>1</td>\n",
       "    </tr>\n",
       "    <tr>\n",
       "      <th>588</th>\n",
       "      <td>0</td>\n",
       "    </tr>\n",
       "    <tr>\n",
       "      <th>589</th>\n",
       "      <td>1</td>\n",
       "    </tr>\n",
       "  </tbody>\n",
       "</table>\n",
       "<p>590 rows × 1 columns</p>\n",
       "</div>"
      ],
      "text/plain": [
       "     M\n",
       "0    0\n",
       "1    0\n",
       "2    1\n",
       "3    1\n",
       "4    1\n",
       "..  ..\n",
       "585  1\n",
       "586  0\n",
       "587  1\n",
       "588  0\n",
       "589  1\n",
       "\n",
       "[590 rows x 1 columns]"
      ]
     },
     "execution_count": 69,
     "metadata": {},
     "output_type": "execute_result"
    }
   ],
   "source": [
    "pd.get_dummies(data['sex'], drop_first=True)"
   ]
  },
  {
   "cell_type": "code",
   "execution_count": 70,
   "id": "4d7f6ba6",
   "metadata": {},
   "outputs": [],
   "source": [
    "data['is_male?'] = pd.get_dummies(data['sex'], drop_first=True, dtype = 'int')\n",
    "data.drop(columns = ['sex'], inplace=True)"
   ]
  },
  {
   "cell_type": "code",
   "execution_count": 71,
   "id": "6678ca18",
   "metadata": {},
   "outputs": [
    {
     "data": {
      "text/html": [
       "<div>\n",
       "<style scoped>\n",
       "    .dataframe tbody tr th:only-of-type {\n",
       "        vertical-align: middle;\n",
       "    }\n",
       "\n",
       "    .dataframe tbody tr th {\n",
       "        vertical-align: top;\n",
       "    }\n",
       "\n",
       "    .dataframe thead th {\n",
       "        text-align: right;\n",
       "    }\n",
       "</style>\n",
       "<table border=\"1\" class=\"dataframe\">\n",
       "  <thead>\n",
       "    <tr style=\"text-align: right;\">\n",
       "      <th></th>\n",
       "      <th>age</th>\n",
       "      <th>diagnosis</th>\n",
       "      <th>plasma_CA19_9</th>\n",
       "      <th>creatinine</th>\n",
       "      <th>LYVE1</th>\n",
       "      <th>REG1B</th>\n",
       "      <th>TFF1</th>\n",
       "      <th>REG1A</th>\n",
       "      <th>patient_cohort_1?</th>\n",
       "      <th>is_male?</th>\n",
       "    </tr>\n",
       "  </thead>\n",
       "  <tbody>\n",
       "    <tr>\n",
       "      <th>0</th>\n",
       "      <td>33</td>\n",
       "      <td>1</td>\n",
       "      <td>11.7</td>\n",
       "      <td>1.83222</td>\n",
       "      <td>0.893219</td>\n",
       "      <td>52.94884</td>\n",
       "      <td>654.282174</td>\n",
       "      <td>1262.0000</td>\n",
       "      <td>0</td>\n",
       "      <td>0</td>\n",
       "    </tr>\n",
       "    <tr>\n",
       "      <th>1</th>\n",
       "      <td>81</td>\n",
       "      <td>1</td>\n",
       "      <td>26.5</td>\n",
       "      <td>0.97266</td>\n",
       "      <td>2.037585</td>\n",
       "      <td>94.46703</td>\n",
       "      <td>209.488250</td>\n",
       "      <td>228.4070</td>\n",
       "      <td>0</td>\n",
       "      <td>0</td>\n",
       "    </tr>\n",
       "    <tr>\n",
       "      <th>2</th>\n",
       "      <td>51</td>\n",
       "      <td>1</td>\n",
       "      <td>7.0</td>\n",
       "      <td>0.78039</td>\n",
       "      <td>0.145589</td>\n",
       "      <td>102.36600</td>\n",
       "      <td>461.141000</td>\n",
       "      <td>208.5385</td>\n",
       "      <td>1</td>\n",
       "      <td>1</td>\n",
       "    </tr>\n",
       "    <tr>\n",
       "      <th>3</th>\n",
       "      <td>61</td>\n",
       "      <td>1</td>\n",
       "      <td>8.0</td>\n",
       "      <td>0.70122</td>\n",
       "      <td>0.002805</td>\n",
       "      <td>60.57900</td>\n",
       "      <td>142.950000</td>\n",
       "      <td>208.5385</td>\n",
       "      <td>1</td>\n",
       "      <td>1</td>\n",
       "    </tr>\n",
       "    <tr>\n",
       "      <th>4</th>\n",
       "      <td>62</td>\n",
       "      <td>1</td>\n",
       "      <td>9.0</td>\n",
       "      <td>0.21489</td>\n",
       "      <td>0.000860</td>\n",
       "      <td>65.54000</td>\n",
       "      <td>41.088000</td>\n",
       "      <td>208.5385</td>\n",
       "      <td>1</td>\n",
       "      <td>1</td>\n",
       "    </tr>\n",
       "  </tbody>\n",
       "</table>\n",
       "</div>"
      ],
      "text/plain": [
       "   age  diagnosis  plasma_CA19_9  creatinine     LYVE1      REG1B        TFF1  \\\n",
       "0   33          1           11.7     1.83222  0.893219   52.94884  654.282174   \n",
       "1   81          1           26.5     0.97266  2.037585   94.46703  209.488250   \n",
       "2   51          1            7.0     0.78039  0.145589  102.36600  461.141000   \n",
       "3   61          1            8.0     0.70122  0.002805   60.57900  142.950000   \n",
       "4   62          1            9.0     0.21489  0.000860   65.54000   41.088000   \n",
       "\n",
       "       REG1A  patient_cohort_1?  is_male?  \n",
       "0  1262.0000                  0         0  \n",
       "1   228.4070                  0         0  \n",
       "2   208.5385                  1         1  \n",
       "3   208.5385                  1         1  \n",
       "4   208.5385                  1         1  "
      ]
     },
     "execution_count": 71,
     "metadata": {},
     "output_type": "execute_result"
    }
   ],
   "source": [
    "data.head()"
   ]
  },
  {
   "cell_type": "markdown",
   "id": "3679151e",
   "metadata": {},
   "source": [
    "### Feature Scaling and Transformation"
   ]
  },
  {
   "cell_type": "markdown",
   "id": "3fd9bd27",
   "metadata": {},
   "source": [
    "From the EDA phase (univarite analysis), we can see that most of the numerical variables are skewed and have a lot of outliers. Therefore, I am applying log-transformation to these variables to \"somehow\" eliminate the skeweness and thus reduce the effect of outliers!"
   ]
  },
  {
   "cell_type": "code",
   "execution_count": 72,
   "id": "fb4a19b9",
   "metadata": {},
   "outputs": [
    {
     "data": {
      "text/html": [
       "<div>\n",
       "<style scoped>\n",
       "    .dataframe tbody tr th:only-of-type {\n",
       "        vertical-align: middle;\n",
       "    }\n",
       "\n",
       "    .dataframe tbody tr th {\n",
       "        vertical-align: top;\n",
       "    }\n",
       "\n",
       "    .dataframe thead th {\n",
       "        text-align: right;\n",
       "    }\n",
       "</style>\n",
       "<table border=\"1\" class=\"dataframe\">\n",
       "  <thead>\n",
       "    <tr style=\"text-align: right;\">\n",
       "      <th></th>\n",
       "      <th>age</th>\n",
       "      <th>plasma_CA19_9</th>\n",
       "      <th>creatinine</th>\n",
       "      <th>LYVE1</th>\n",
       "      <th>REG1B</th>\n",
       "      <th>TFF1</th>\n",
       "      <th>REG1A</th>\n",
       "    </tr>\n",
       "  </thead>\n",
       "  <tbody>\n",
       "    <tr>\n",
       "      <th>0</th>\n",
       "      <td>33</td>\n",
       "      <td>11.7</td>\n",
       "      <td>1.83222</td>\n",
       "      <td>0.893219</td>\n",
       "      <td>52.948840</td>\n",
       "      <td>654.282174</td>\n",
       "      <td>1262.0000</td>\n",
       "    </tr>\n",
       "    <tr>\n",
       "      <th>1</th>\n",
       "      <td>81</td>\n",
       "      <td>26.5</td>\n",
       "      <td>0.97266</td>\n",
       "      <td>2.037585</td>\n",
       "      <td>94.467030</td>\n",
       "      <td>209.488250</td>\n",
       "      <td>228.4070</td>\n",
       "    </tr>\n",
       "    <tr>\n",
       "      <th>2</th>\n",
       "      <td>51</td>\n",
       "      <td>7.0</td>\n",
       "      <td>0.78039</td>\n",
       "      <td>0.145589</td>\n",
       "      <td>102.366000</td>\n",
       "      <td>461.141000</td>\n",
       "      <td>208.5385</td>\n",
       "    </tr>\n",
       "    <tr>\n",
       "      <th>3</th>\n",
       "      <td>61</td>\n",
       "      <td>8.0</td>\n",
       "      <td>0.70122</td>\n",
       "      <td>0.002805</td>\n",
       "      <td>60.579000</td>\n",
       "      <td>142.950000</td>\n",
       "      <td>208.5385</td>\n",
       "    </tr>\n",
       "    <tr>\n",
       "      <th>4</th>\n",
       "      <td>62</td>\n",
       "      <td>9.0</td>\n",
       "      <td>0.21489</td>\n",
       "      <td>0.000860</td>\n",
       "      <td>65.540000</td>\n",
       "      <td>41.088000</td>\n",
       "      <td>208.5385</td>\n",
       "    </tr>\n",
       "    <tr>\n",
       "      <th>...</th>\n",
       "      <td>...</td>\n",
       "      <td>...</td>\n",
       "      <td>...</td>\n",
       "      <td>...</td>\n",
       "      <td>...</td>\n",
       "      <td>...</td>\n",
       "      <td>...</td>\n",
       "    </tr>\n",
       "    <tr>\n",
       "      <th>585</th>\n",
       "      <td>68</td>\n",
       "      <td>26.5</td>\n",
       "      <td>0.52026</td>\n",
       "      <td>7.058209</td>\n",
       "      <td>156.241000</td>\n",
       "      <td>525.178000</td>\n",
       "      <td>208.5385</td>\n",
       "    </tr>\n",
       "    <tr>\n",
       "      <th>586</th>\n",
       "      <td>71</td>\n",
       "      <td>26.5</td>\n",
       "      <td>0.85956</td>\n",
       "      <td>8.341207</td>\n",
       "      <td>16.915000</td>\n",
       "      <td>245.947000</td>\n",
       "      <td>208.5385</td>\n",
       "    </tr>\n",
       "    <tr>\n",
       "      <th>587</th>\n",
       "      <td>63</td>\n",
       "      <td>26.5</td>\n",
       "      <td>1.36851</td>\n",
       "      <td>7.674707</td>\n",
       "      <td>289.701000</td>\n",
       "      <td>537.286000</td>\n",
       "      <td>208.5385</td>\n",
       "    </tr>\n",
       "    <tr>\n",
       "      <th>588</th>\n",
       "      <td>75</td>\n",
       "      <td>26.5</td>\n",
       "      <td>1.33458</td>\n",
       "      <td>8.206777</td>\n",
       "      <td>205.930000</td>\n",
       "      <td>722.523000</td>\n",
       "      <td>208.5385</td>\n",
       "    </tr>\n",
       "    <tr>\n",
       "      <th>589</th>\n",
       "      <td>74</td>\n",
       "      <td>1488.0</td>\n",
       "      <td>1.50423</td>\n",
       "      <td>8.200958</td>\n",
       "      <td>411.938275</td>\n",
       "      <td>2021.321078</td>\n",
       "      <td>13200.0000</td>\n",
       "    </tr>\n",
       "  </tbody>\n",
       "</table>\n",
       "<p>590 rows × 7 columns</p>\n",
       "</div>"
      ],
      "text/plain": [
       "     age  plasma_CA19_9  creatinine     LYVE1       REG1B         TFF1  \\\n",
       "0     33           11.7     1.83222  0.893219   52.948840   654.282174   \n",
       "1     81           26.5     0.97266  2.037585   94.467030   209.488250   \n",
       "2     51            7.0     0.78039  0.145589  102.366000   461.141000   \n",
       "3     61            8.0     0.70122  0.002805   60.579000   142.950000   \n",
       "4     62            9.0     0.21489  0.000860   65.540000    41.088000   \n",
       "..   ...            ...         ...       ...         ...          ...   \n",
       "585   68           26.5     0.52026  7.058209  156.241000   525.178000   \n",
       "586   71           26.5     0.85956  8.341207   16.915000   245.947000   \n",
       "587   63           26.5     1.36851  7.674707  289.701000   537.286000   \n",
       "588   75           26.5     1.33458  8.206777  205.930000   722.523000   \n",
       "589   74         1488.0     1.50423  8.200958  411.938275  2021.321078   \n",
       "\n",
       "          REG1A  \n",
       "0     1262.0000  \n",
       "1      228.4070  \n",
       "2      208.5385  \n",
       "3      208.5385  \n",
       "4      208.5385  \n",
       "..          ...  \n",
       "585    208.5385  \n",
       "586    208.5385  \n",
       "587    208.5385  \n",
       "588    208.5385  \n",
       "589  13200.0000  \n",
       "\n",
       "[590 rows x 7 columns]"
      ]
     },
     "execution_count": 72,
     "metadata": {},
     "output_type": "execute_result"
    }
   ],
   "source": [
    "data[numerical_cols]"
   ]
  },
  {
   "cell_type": "code",
   "execution_count": 73,
   "id": "1548faba",
   "metadata": {},
   "outputs": [
    {
     "data": {
      "text/html": [
       "<div>\n",
       "<style scoped>\n",
       "    .dataframe tbody tr th:only-of-type {\n",
       "        vertical-align: middle;\n",
       "    }\n",
       "\n",
       "    .dataframe tbody tr th {\n",
       "        vertical-align: top;\n",
       "    }\n",
       "\n",
       "    .dataframe thead th {\n",
       "        text-align: right;\n",
       "    }\n",
       "</style>\n",
       "<table border=\"1\" class=\"dataframe\">\n",
       "  <thead>\n",
       "    <tr style=\"text-align: right;\">\n",
       "      <th></th>\n",
       "      <th>age</th>\n",
       "      <th>plasma_CA19_9</th>\n",
       "      <th>creatinine</th>\n",
       "      <th>LYVE1</th>\n",
       "      <th>REG1B</th>\n",
       "      <th>TFF1</th>\n",
       "      <th>REG1A</th>\n",
       "    </tr>\n",
       "  </thead>\n",
       "  <tbody>\n",
       "    <tr>\n",
       "      <th>count</th>\n",
       "      <td>590.000000</td>\n",
       "      <td>590.000000</td>\n",
       "      <td>590.000000</td>\n",
       "      <td>590.000000</td>\n",
       "      <td>590.000000</td>\n",
       "      <td>590.000000</td>\n",
       "      <td>590.000000</td>\n",
       "    </tr>\n",
       "    <tr>\n",
       "      <th>mean</th>\n",
       "      <td>59.079661</td>\n",
       "      <td>398.747509</td>\n",
       "      <td>0.855383</td>\n",
       "      <td>3.063530</td>\n",
       "      <td>111.774090</td>\n",
       "      <td>597.868722</td>\n",
       "      <td>481.730488</td>\n",
       "    </tr>\n",
       "    <tr>\n",
       "      <th>std</th>\n",
       "      <td>13.109520</td>\n",
       "      <td>1896.028213</td>\n",
       "      <td>0.639028</td>\n",
       "      <td>3.438796</td>\n",
       "      <td>196.267110</td>\n",
       "      <td>1010.477245</td>\n",
       "      <td>1095.179818</td>\n",
       "    </tr>\n",
       "    <tr>\n",
       "      <th>min</th>\n",
       "      <td>26.000000</td>\n",
       "      <td>0.000000</td>\n",
       "      <td>0.056550</td>\n",
       "      <td>0.000129</td>\n",
       "      <td>0.001104</td>\n",
       "      <td>0.005293</td>\n",
       "      <td>0.000000</td>\n",
       "    </tr>\n",
       "    <tr>\n",
       "      <th>25%</th>\n",
       "      <td>50.000000</td>\n",
       "      <td>17.000000</td>\n",
       "      <td>0.373230</td>\n",
       "      <td>0.167179</td>\n",
       "      <td>10.757216</td>\n",
       "      <td>43.961000</td>\n",
       "      <td>195.201000</td>\n",
       "    </tr>\n",
       "    <tr>\n",
       "      <th>50%</th>\n",
       "      <td>60.000000</td>\n",
       "      <td>26.500000</td>\n",
       "      <td>0.723840</td>\n",
       "      <td>1.649862</td>\n",
       "      <td>34.303353</td>\n",
       "      <td>259.873974</td>\n",
       "      <td>208.538500</td>\n",
       "    </tr>\n",
       "    <tr>\n",
       "      <th>75%</th>\n",
       "      <td>69.000000</td>\n",
       "      <td>41.750000</td>\n",
       "      <td>1.139482</td>\n",
       "      <td>5.205037</td>\n",
       "      <td>122.741013</td>\n",
       "      <td>742.736000</td>\n",
       "      <td>224.007000</td>\n",
       "    </tr>\n",
       "    <tr>\n",
       "      <th>max</th>\n",
       "      <td>89.000000</td>\n",
       "      <td>31000.000000</td>\n",
       "      <td>4.116840</td>\n",
       "      <td>23.890323</td>\n",
       "      <td>1403.897600</td>\n",
       "      <td>13344.300000</td>\n",
       "      <td>13200.000000</td>\n",
       "    </tr>\n",
       "  </tbody>\n",
       "</table>\n",
       "</div>"
      ],
      "text/plain": [
       "              age  plasma_CA19_9  creatinine       LYVE1        REG1B  \\\n",
       "count  590.000000     590.000000  590.000000  590.000000   590.000000   \n",
       "mean    59.079661     398.747509    0.855383    3.063530   111.774090   \n",
       "std     13.109520    1896.028213    0.639028    3.438796   196.267110   \n",
       "min     26.000000       0.000000    0.056550    0.000129     0.001104   \n",
       "25%     50.000000      17.000000    0.373230    0.167179    10.757216   \n",
       "50%     60.000000      26.500000    0.723840    1.649862    34.303353   \n",
       "75%     69.000000      41.750000    1.139482    5.205037   122.741013   \n",
       "max     89.000000   31000.000000    4.116840   23.890323  1403.897600   \n",
       "\n",
       "               TFF1         REG1A  \n",
       "count    590.000000    590.000000  \n",
       "mean     597.868722    481.730488  \n",
       "std     1010.477245   1095.179818  \n",
       "min        0.005293      0.000000  \n",
       "25%       43.961000    195.201000  \n",
       "50%      259.873974    208.538500  \n",
       "75%      742.736000    224.007000  \n",
       "max    13344.300000  13200.000000  "
      ]
     },
     "execution_count": 73,
     "metadata": {},
     "output_type": "execute_result"
    }
   ],
   "source": [
    "data[numerical_cols].describe()"
   ]
  },
  {
   "cell_type": "code",
   "execution_count": 74,
   "id": "e90c918b",
   "metadata": {},
   "outputs": [
    {
     "name": "stdout",
     "output_type": "stream",
     "text": [
      "Histogram plot and Box plot:  age\n"
     ]
    },
    {
     "data": {
      "image/png": "[encoded data removed]",
      "text/plain": [
       "<Figure size 2000x800 with 2 Axes>"
      ]
     },
     "metadata": {},
     "output_type": "display_data"
    },
    {
     "name": "stdout",
     "output_type": "stream",
     "text": [
      "Histogram plot and Box plot:  plasma_CA19_9\n"
     ]
    },
    {
     "data": {
      "image/png": "[encoded data removed]",
      "text/plain": [
       "<Figure size 2000x800 with 2 Axes>"
      ]
     },
     "metadata": {},
     "output_type": "display_data"
    },
    {
     "name": "stdout",
     "output_type": "stream",
     "text": [
      "Histogram plot and Box plot:  creatinine\n"
     ]
    },
    {
     "data": {
      "image/png": "[encoded data removed]",
      "text/plain": [
       "<Figure size 2000x800 with 2 Axes>"
      ]
     },
     "metadata": {},
     "output_type": "display_data"
    },
    {
     "name": "stdout",
     "output_type": "stream",
     "text": [
      "Histogram plot and Box plot:  LYVE1\n"
     ]
    },
    {
     "data": {
      "image/png": "[encoded data removed]",
      "text/plain": [
       "<Figure size 2000x800 with 2 Axes>"
      ]
     },
     "metadata": {},
     "output_type": "display_data"
    },
    {
     "name": "stdout",
     "output_type": "stream",
     "text": [
      "Histogram plot and Box plot:  REG1B\n"
     ]
    },
    {
     "data": {
      "image/png": "[encoded data removed]",
      "text/plain": [
       "<Figure size 2000x800 with 2 Axes>"
      ]
     },
     "metadata": {},
     "output_type": "display_data"
    },
    {
     "name": "stdout",
     "output_type": "stream",
     "text": [
      "Histogram plot and Box plot:  TFF1\n"
     ]
    },
    {
     "data": {
      "image/png": "[encoded data removed]",
      "text/plain": [
       "<Figure size 2000x800 with 2 Axes>"
      ]
     },
     "metadata": {},
     "output_type": "display_data"
    },
    {
     "name": "stdout",
     "output_type": "stream",
     "text": [
      "Histogram plot and Box plot:  REG1A\n"
     ]
    },
    {
     "data": {
      "image/png": "[encoded data removed]",
      "text/plain": [
       "<Figure size 2000x800 with 2 Axes>"
      ]
     },
     "metadata": {},
     "output_type": "display_data"
    }
   ],
   "source": [
    "# A for loop to create histogram and boxplot plots for each of the numerical columns\n",
    "for col in numerical_cols:\n",
    "    print(\"Histogram plot and Box plot: \", col)\n",
    "    fig, (ax1, ax2) = plt.subplots(1,2, figsize=(20,8))\n",
    "    sns.histplot(data[col], ax=ax1, bins = 15)\n",
    "    sns.boxplot(x = data[col], ax = ax2)\n",
    "    plt.show()"
   ]
  },
  {
   "cell_type": "code",
   "execution_count": 75,
   "id": "4f5314ea",
   "metadata": {},
   "outputs": [
    {
     "data": {
      "text/plain": [
       "['age', 'plasma_CA19_9', 'creatinine', 'LYVE1', 'REG1B', 'TFF1', 'REG1A']"
      ]
     },
     "execution_count": 75,
     "metadata": {},
     "output_type": "execute_result"
    }
   ],
   "source": [
    "numerical_cols"
   ]
  },
  {
   "cell_type": "code",
   "execution_count": 76,
   "id": "0b135c6e",
   "metadata": {},
   "outputs": [],
   "source": [
    "data[['plasma_CA19_9', 'creatinine', 'LYVE1', 'REG1B', 'TFF1', 'REG1A']] = np.log(\n",
    "    data[['plasma_CA19_9', 'creatinine', 'LYVE1', 'REG1B', 'TFF1', 'REG1A']] + 1)"
   ]
  },
  {
   "cell_type": "code",
   "execution_count": 77,
   "id": "e72c00f4",
   "metadata": {},
   "outputs": [
    {
     "data": {
      "text/html": [
       "<div>\n",
       "<style scoped>\n",
       "    .dataframe tbody tr th:only-of-type {\n",
       "        vertical-align: middle;\n",
       "    }\n",
       "\n",
       "    .dataframe tbody tr th {\n",
       "        vertical-align: top;\n",
       "    }\n",
       "\n",
       "    .dataframe thead th {\n",
       "        text-align: right;\n",
       "    }\n",
       "</style>\n",
       "<table border=\"1\" class=\"dataframe\">\n",
       "  <thead>\n",
       "    <tr style=\"text-align: right;\">\n",
       "      <th></th>\n",
       "      <th>age</th>\n",
       "      <th>plasma_CA19_9</th>\n",
       "      <th>creatinine</th>\n",
       "      <th>LYVE1</th>\n",
       "      <th>REG1B</th>\n",
       "      <th>TFF1</th>\n",
       "      <th>REG1A</th>\n",
       "    </tr>\n",
       "  </thead>\n",
       "  <tbody>\n",
       "    <tr>\n",
       "      <th>count</th>\n",
       "      <td>590.000000</td>\n",
       "      <td>590.000000</td>\n",
       "      <td>590.000000</td>\n",
       "      <td>590.000000</td>\n",
       "      <td>590.000000</td>\n",
       "      <td>590.000000</td>\n",
       "      <td>590.000000</td>\n",
       "    </tr>\n",
       "    <tr>\n",
       "      <th>mean</th>\n",
       "      <td>59.079661</td>\n",
       "      <td>3.651298</td>\n",
       "      <td>0.567379</td>\n",
       "      <td>1.054778</td>\n",
       "      <td>3.607996</td>\n",
       "      <td>4.979594</td>\n",
       "      <td>5.378932</td>\n",
       "    </tr>\n",
       "    <tr>\n",
       "      <th>std</th>\n",
       "      <td>13.109520</td>\n",
       "      <td>1.778027</td>\n",
       "      <td>0.309551</td>\n",
       "      <td>0.843309</td>\n",
       "      <td>1.574352</td>\n",
       "      <td>2.226808</td>\n",
       "      <td>1.197012</td>\n",
       "    </tr>\n",
       "    <tr>\n",
       "      <th>min</th>\n",
       "      <td>26.000000</td>\n",
       "      <td>0.000000</td>\n",
       "      <td>0.055009</td>\n",
       "      <td>0.000129</td>\n",
       "      <td>0.001104</td>\n",
       "      <td>0.005279</td>\n",
       "      <td>0.000000</td>\n",
       "    </tr>\n",
       "    <tr>\n",
       "      <th>25%</th>\n",
       "      <td>50.000000</td>\n",
       "      <td>2.890372</td>\n",
       "      <td>0.317166</td>\n",
       "      <td>0.154584</td>\n",
       "      <td>2.464467</td>\n",
       "      <td>3.805664</td>\n",
       "      <td>5.279135</td>\n",
       "    </tr>\n",
       "    <tr>\n",
       "      <th>50%</th>\n",
       "      <td>60.000000</td>\n",
       "      <td>3.314186</td>\n",
       "      <td>0.544554</td>\n",
       "      <td>0.974503</td>\n",
       "      <td>3.563973</td>\n",
       "      <td>5.563994</td>\n",
       "      <td>5.344907</td>\n",
       "    </tr>\n",
       "    <tr>\n",
       "      <th>75%</th>\n",
       "      <td>69.000000</td>\n",
       "      <td>3.755317</td>\n",
       "      <td>0.760561</td>\n",
       "      <td>1.825361</td>\n",
       "      <td>4.818184</td>\n",
       "      <td>6.611675</td>\n",
       "      <td>5.416119</td>\n",
       "    </tr>\n",
       "    <tr>\n",
       "      <th>max</th>\n",
       "      <td>89.000000</td>\n",
       "      <td>10.341775</td>\n",
       "      <td>1.632537</td>\n",
       "      <td>3.214479</td>\n",
       "      <td>7.247720</td>\n",
       "      <td>9.498920</td>\n",
       "      <td>9.488048</td>\n",
       "    </tr>\n",
       "  </tbody>\n",
       "</table>\n",
       "</div>"
      ],
      "text/plain": [
       "              age  plasma_CA19_9  creatinine       LYVE1       REG1B  \\\n",
       "count  590.000000     590.000000  590.000000  590.000000  590.000000   \n",
       "mean    59.079661       3.651298    0.567379    1.054778    3.607996   \n",
       "std     13.109520       1.778027    0.309551    0.843309    1.574352   \n",
       "min     26.000000       0.000000    0.055009    0.000129    0.001104   \n",
       "25%     50.000000       2.890372    0.317166    0.154584    2.464467   \n",
       "50%     60.000000       3.314186    0.544554    0.974503    3.563973   \n",
       "75%     69.000000       3.755317    0.760561    1.825361    4.818184   \n",
       "max     89.000000      10.341775    1.632537    3.214479    7.247720   \n",
       "\n",
       "             TFF1       REG1A  \n",
       "count  590.000000  590.000000  \n",
       "mean     4.979594    5.378932  \n",
       "std      2.226808    1.197012  \n",
       "min      0.005279    0.000000  \n",
       "25%      3.805664    5.279135  \n",
       "50%      5.563994    5.344907  \n",
       "75%      6.611675    5.416119  \n",
       "max      9.498920    9.488048  "
      ]
     },
     "execution_count": 77,
     "metadata": {},
     "output_type": "execute_result"
    }
   ],
   "source": [
    "data[numerical_cols].describe()"
   ]
  },
  {
   "cell_type": "code",
   "execution_count": 78,
   "id": "ae3325c8",
   "metadata": {},
   "outputs": [
    {
     "name": "stdout",
     "output_type": "stream",
     "text": [
      "Histogram plot and Box plot:  age\n"
     ]
    },
    {
     "data": {
      "image/png": "[encoded data removed]",
      "text/plain": [
       "<Figure size 2000x800 with 2 Axes>"
      ]
     },
     "metadata": {},
     "output_type": "display_data"
    },
    {
     "name": "stdout",
     "output_type": "stream",
     "text": [
      "Histogram plot and Box plot:  plasma_CA19_9\n"
     ]
    },
    {
     "data": {
      "image/png": "[encoded data removed]",
      "text/plain": [
       "<Figure size 2000x800 with 2 Axes>"
      ]
     },
     "metadata": {},
     "output_type": "display_data"
    },
    {
     "name": "stdout",
     "output_type": "stream",
     "text": [
      "Histogram plot and Box plot:  creatinine\n"
     ]
    },
    {
     "data": {
      "image/png": "[encoded data removed]",
      "text/plain": [
       "<Figure size 2000x800 with 2 Axes>"
      ]
     },
     "metadata": {},
     "output_type": "display_data"
    },
    {
     "name": "stdout",
     "output_type": "stream",
     "text": [
      "Histogram plot and Box plot:  LYVE1\n"
     ]
    },
    {
     "data": {
      "image/png": "[encoded data removed]",
      "text/plain": [
       "<Figure size 2000x800 with 2 Axes>"
      ]
     },
     "metadata": {},
     "output_type": "display_data"
    },
    {
     "name": "stdout",
     "output_type": "stream",
     "text": [
      "Histogram plot and Box plot:  REG1B\n"
     ]
    },
    {
     "data": {
      "image/png": "[encoded data removed]",
      "text/plain": [
       "<Figure size 2000x800 with 2 Axes>"
      ]
     },
     "metadata": {},
     "output_type": "display_data"
    },
    {
     "name": "stdout",
     "output_type": "stream",
     "text": [
      "Histogram plot and Box plot:  TFF1\n"
     ]
    },
    {
     "data": {
      "image/png": "[encoded data removed]",
      "text/plain": [
       "<Figure size 2000x800 with 2 Axes>"
      ]
     },
     "metadata": {},
     "output_type": "display_data"
    },
    {
     "name": "stdout",
     "output_type": "stream",
     "text": [
      "Histogram plot and Box plot:  REG1A\n"
     ]
    },
    {
     "data": {
      "image/png": "[encoded data removed]",
      "text/plain": [
       "<Figure size 2000x800 with 2 Axes>"
      ]
     },
     "metadata": {},
     "output_type": "display_data"
    }
   ],
   "source": [
    "# A for loop to create histogram and boxplot plots for each of the numerical columns\n",
    "for col in numerical_cols:\n",
    "    print(\"Histogram plot and Box plot: \", col)\n",
    "    fig, (ax1, ax2) = plt.subplots(1,2, figsize=(20,8))\n",
    "    sns.histplot(data[col], ax=ax1, bins = 15)\n",
    "    sns.boxplot(x = data[col], ax = ax2)\n",
    "    plt.show()"
   ]
  },
  {
   "cell_type": "code",
   "execution_count": 79,
   "id": "d5a10830",
   "metadata": {
    "scrolled": true
   },
   "outputs": [
    {
     "data": {
      "text/html": [
       "<div>\n",
       "<style scoped>\n",
       "    .dataframe tbody tr th:only-of-type {\n",
       "        vertical-align: middle;\n",
       "    }\n",
       "\n",
       "    .dataframe tbody tr th {\n",
       "        vertical-align: top;\n",
       "    }\n",
       "\n",
       "    .dataframe thead th {\n",
       "        text-align: right;\n",
       "    }\n",
       "</style>\n",
       "<table border=\"1\" class=\"dataframe\">\n",
       "  <thead>\n",
       "    <tr style=\"text-align: right;\">\n",
       "      <th></th>\n",
       "      <th>age</th>\n",
       "      <th>diagnosis</th>\n",
       "      <th>plasma_CA19_9</th>\n",
       "      <th>creatinine</th>\n",
       "      <th>LYVE1</th>\n",
       "      <th>REG1B</th>\n",
       "      <th>TFF1</th>\n",
       "      <th>REG1A</th>\n",
       "      <th>patient_cohort_1?</th>\n",
       "      <th>is_male?</th>\n",
       "    </tr>\n",
       "  </thead>\n",
       "  <tbody>\n",
       "    <tr>\n",
       "      <th>260</th>\n",
       "      <td>42</td>\n",
       "      <td>2</td>\n",
       "      <td>3.314186</td>\n",
       "      <td>0.185300</td>\n",
       "      <td>0.812778</td>\n",
       "      <td>2.967191</td>\n",
       "      <td>4.587082</td>\n",
       "      <td>4.577439</td>\n",
       "      <td>0</td>\n",
       "      <td>1</td>\n",
       "    </tr>\n",
       "    <tr>\n",
       "      <th>64</th>\n",
       "      <td>55</td>\n",
       "      <td>1</td>\n",
       "      <td>0.559561</td>\n",
       "      <td>0.373217</td>\n",
       "      <td>0.000647</td>\n",
       "      <td>2.061269</td>\n",
       "      <td>0.499046</td>\n",
       "      <td>5.344907</td>\n",
       "      <td>1</td>\n",
       "      <td>0</td>\n",
       "    </tr>\n",
       "    <tr>\n",
       "      <th>70</th>\n",
       "      <td>64</td>\n",
       "      <td>1</td>\n",
       "      <td>0.376471</td>\n",
       "      <td>0.117258</td>\n",
       "      <td>0.000498</td>\n",
       "      <td>2.019332</td>\n",
       "      <td>0.009657</td>\n",
       "      <td>5.344907</td>\n",
       "      <td>1</td>\n",
       "      <td>0</td>\n",
       "    </tr>\n",
       "    <tr>\n",
       "      <th>164</th>\n",
       "      <td>55</td>\n",
       "      <td>1</td>\n",
       "      <td>3.314186</td>\n",
       "      <td>0.185300</td>\n",
       "      <td>0.000814</td>\n",
       "      <td>1.238374</td>\n",
       "      <td>1.972969</td>\n",
       "      <td>5.344907</td>\n",
       "      <td>1</td>\n",
       "      <td>1</td>\n",
       "    </tr>\n",
       "    <tr>\n",
       "      <th>237</th>\n",
       "      <td>63</td>\n",
       "      <td>2</td>\n",
       "      <td>3.314186</td>\n",
       "      <td>0.620948</td>\n",
       "      <td>0.608192</td>\n",
       "      <td>0.714077</td>\n",
       "      <td>4.902436</td>\n",
       "      <td>3.230370</td>\n",
       "      <td>0</td>\n",
       "      <td>1</td>\n",
       "    </tr>\n",
       "    <tr>\n",
       "      <th>522</th>\n",
       "      <td>70</td>\n",
       "      <td>3</td>\n",
       "      <td>7.656810</td>\n",
       "      <td>0.940312</td>\n",
       "      <td>1.995831</td>\n",
       "      <td>6.670877</td>\n",
       "      <td>8.074520</td>\n",
       "      <td>8.204992</td>\n",
       "      <td>0</td>\n",
       "      <td>1</td>\n",
       "    </tr>\n",
       "    <tr>\n",
       "      <th>330</th>\n",
       "      <td>54</td>\n",
       "      <td>2</td>\n",
       "      <td>2.054124</td>\n",
       "      <td>0.313866</td>\n",
       "      <td>0.471308</td>\n",
       "      <td>3.519503</td>\n",
       "      <td>5.511151</td>\n",
       "      <td>5.092799</td>\n",
       "      <td>0</td>\n",
       "      <td>0</td>\n",
       "    </tr>\n",
       "    <tr>\n",
       "      <th>346</th>\n",
       "      <td>82</td>\n",
       "      <td>2</td>\n",
       "      <td>3.314186</td>\n",
       "      <td>0.210356</td>\n",
       "      <td>0.114822</td>\n",
       "      <td>0.726845</td>\n",
       "      <td>0.018096</td>\n",
       "      <td>3.012589</td>\n",
       "      <td>0</td>\n",
       "      <td>1</td>\n",
       "    </tr>\n",
       "    <tr>\n",
       "      <th>495</th>\n",
       "      <td>55</td>\n",
       "      <td>3</td>\n",
       "      <td>5.204007</td>\n",
       "      <td>0.411414</td>\n",
       "      <td>1.171205</td>\n",
       "      <td>3.225804</td>\n",
       "      <td>5.877229</td>\n",
       "      <td>4.426653</td>\n",
       "      <td>0</td>\n",
       "      <td>1</td>\n",
       "    </tr>\n",
       "    <tr>\n",
       "      <th>263</th>\n",
       "      <td>50</td>\n",
       "      <td>2</td>\n",
       "      <td>3.314186</td>\n",
       "      <td>0.175859</td>\n",
       "      <td>0.794549</td>\n",
       "      <td>4.745285</td>\n",
       "      <td>6.750605</td>\n",
       "      <td>5.798538</td>\n",
       "      <td>0</td>\n",
       "      <td>0</td>\n",
       "    </tr>\n",
       "  </tbody>\n",
       "</table>\n",
       "</div>"
      ],
      "text/plain": [
       "     age  diagnosis  plasma_CA19_9  creatinine     LYVE1     REG1B      TFF1  \\\n",
       "260   42          2       3.314186    0.185300  0.812778  2.967191  4.587082   \n",
       "64    55          1       0.559561    0.373217  0.000647  2.061269  0.499046   \n",
       "70    64          1       0.376471    0.117258  0.000498  2.019332  0.009657   \n",
       "164   55          1       3.314186    0.185300  0.000814  1.238374  1.972969   \n",
       "237   63          2       3.314186    0.620948  0.608192  0.714077  4.902436   \n",
       "522   70          3       7.656810    0.940312  1.995831  6.670877  8.074520   \n",
       "330   54          2       2.054124    0.313866  0.471308  3.519503  5.511151   \n",
       "346   82          2       3.314186    0.210356  0.114822  0.726845  0.018096   \n",
       "495   55          3       5.204007    0.411414  1.171205  3.225804  5.877229   \n",
       "263   50          2       3.314186    0.175859  0.794549  4.745285  6.750605   \n",
       "\n",
       "        REG1A  patient_cohort_1?  is_male?  \n",
       "260  4.577439                  0         1  \n",
       "64   5.344907                  1         0  \n",
       "70   5.344907                  1         0  \n",
       "164  5.344907                  1         1  \n",
       "237  3.230370                  0         1  \n",
       "522  8.204992                  0         1  \n",
       "330  5.092799                  0         0  \n",
       "346  3.012589                  0         1  \n",
       "495  4.426653                  0         1  \n",
       "263  5.798538                  0         0  "
      ]
     },
     "execution_count": 79,
     "metadata": {},
     "output_type": "execute_result"
    }
   ],
   "source": [
    "data.sample(10)"
   ]
  },
  {
   "cell_type": "code",
   "execution_count": 80,
   "id": "71bebd50",
   "metadata": {},
   "outputs": [
    {
     "data": {
      "text/html": [
       "<div>\n",
       "<style scoped>\n",
       "    .dataframe tbody tr th:only-of-type {\n",
       "        vertical-align: middle;\n",
       "    }\n",
       "\n",
       "    .dataframe tbody tr th {\n",
       "        vertical-align: top;\n",
       "    }\n",
       "\n",
       "    .dataframe thead th {\n",
       "        text-align: right;\n",
       "    }\n",
       "</style>\n",
       "<table border=\"1\" class=\"dataframe\">\n",
       "  <thead>\n",
       "    <tr style=\"text-align: right;\">\n",
       "      <th></th>\n",
       "      <th>age</th>\n",
       "      <th>diagnosis</th>\n",
       "      <th>plasma_CA19_9</th>\n",
       "      <th>creatinine</th>\n",
       "      <th>LYVE1</th>\n",
       "      <th>REG1B</th>\n",
       "      <th>TFF1</th>\n",
       "      <th>REG1A</th>\n",
       "      <th>patient_cohort_1?</th>\n",
       "      <th>is_male?</th>\n",
       "    </tr>\n",
       "  </thead>\n",
       "  <tbody>\n",
       "    <tr>\n",
       "      <th>count</th>\n",
       "      <td>590.000000</td>\n",
       "      <td>590.000000</td>\n",
       "      <td>590.000000</td>\n",
       "      <td>590.000000</td>\n",
       "      <td>590.000000</td>\n",
       "      <td>590.000000</td>\n",
       "      <td>590.000000</td>\n",
       "      <td>590.000000</td>\n",
       "      <td>590.000000</td>\n",
       "      <td>590.000000</td>\n",
       "    </tr>\n",
       "    <tr>\n",
       "      <th>mean</th>\n",
       "      <td>59.079661</td>\n",
       "      <td>2.027119</td>\n",
       "      <td>3.651298</td>\n",
       "      <td>0.567379</td>\n",
       "      <td>1.054778</td>\n",
       "      <td>3.607996</td>\n",
       "      <td>4.979594</td>\n",
       "      <td>5.378932</td>\n",
       "      <td>0.437288</td>\n",
       "      <td>0.493220</td>\n",
       "    </tr>\n",
       "    <tr>\n",
       "      <th>std</th>\n",
       "      <td>13.109520</td>\n",
       "      <td>0.804873</td>\n",
       "      <td>1.778027</td>\n",
       "      <td>0.309551</td>\n",
       "      <td>0.843309</td>\n",
       "      <td>1.574352</td>\n",
       "      <td>2.226808</td>\n",
       "      <td>1.197012</td>\n",
       "      <td>0.496473</td>\n",
       "      <td>0.500378</td>\n",
       "    </tr>\n",
       "    <tr>\n",
       "      <th>min</th>\n",
       "      <td>26.000000</td>\n",
       "      <td>1.000000</td>\n",
       "      <td>0.000000</td>\n",
       "      <td>0.055009</td>\n",
       "      <td>0.000129</td>\n",
       "      <td>0.001104</td>\n",
       "      <td>0.005279</td>\n",
       "      <td>0.000000</td>\n",
       "      <td>0.000000</td>\n",
       "      <td>0.000000</td>\n",
       "    </tr>\n",
       "    <tr>\n",
       "      <th>25%</th>\n",
       "      <td>50.000000</td>\n",
       "      <td>1.000000</td>\n",
       "      <td>2.890372</td>\n",
       "      <td>0.317166</td>\n",
       "      <td>0.154584</td>\n",
       "      <td>2.464467</td>\n",
       "      <td>3.805664</td>\n",
       "      <td>5.279135</td>\n",
       "      <td>0.000000</td>\n",
       "      <td>0.000000</td>\n",
       "    </tr>\n",
       "    <tr>\n",
       "      <th>50%</th>\n",
       "      <td>60.000000</td>\n",
       "      <td>2.000000</td>\n",
       "      <td>3.314186</td>\n",
       "      <td>0.544554</td>\n",
       "      <td>0.974503</td>\n",
       "      <td>3.563973</td>\n",
       "      <td>5.563994</td>\n",
       "      <td>5.344907</td>\n",
       "      <td>0.000000</td>\n",
       "      <td>0.000000</td>\n",
       "    </tr>\n",
       "    <tr>\n",
       "      <th>75%</th>\n",
       "      <td>69.000000</td>\n",
       "      <td>3.000000</td>\n",
       "      <td>3.755317</td>\n",
       "      <td>0.760561</td>\n",
       "      <td>1.825361</td>\n",
       "      <td>4.818184</td>\n",
       "      <td>6.611675</td>\n",
       "      <td>5.416119</td>\n",
       "      <td>1.000000</td>\n",
       "      <td>1.000000</td>\n",
       "    </tr>\n",
       "    <tr>\n",
       "      <th>max</th>\n",
       "      <td>89.000000</td>\n",
       "      <td>3.000000</td>\n",
       "      <td>10.341775</td>\n",
       "      <td>1.632537</td>\n",
       "      <td>3.214479</td>\n",
       "      <td>7.247720</td>\n",
       "      <td>9.498920</td>\n",
       "      <td>9.488048</td>\n",
       "      <td>1.000000</td>\n",
       "      <td>1.000000</td>\n",
       "    </tr>\n",
       "  </tbody>\n",
       "</table>\n",
       "</div>"
      ],
      "text/plain": [
       "              age   diagnosis  plasma_CA19_9  creatinine       LYVE1  \\\n",
       "count  590.000000  590.000000     590.000000  590.000000  590.000000   \n",
       "mean    59.079661    2.027119       3.651298    0.567379    1.054778   \n",
       "std     13.109520    0.804873       1.778027    0.309551    0.843309   \n",
       "min     26.000000    1.000000       0.000000    0.055009    0.000129   \n",
       "25%     50.000000    1.000000       2.890372    0.317166    0.154584   \n",
       "50%     60.000000    2.000000       3.314186    0.544554    0.974503   \n",
       "75%     69.000000    3.000000       3.755317    0.760561    1.825361   \n",
       "max     89.000000    3.000000      10.341775    1.632537    3.214479   \n",
       "\n",
       "            REG1B        TFF1       REG1A  patient_cohort_1?    is_male?  \n",
       "count  590.000000  590.000000  590.000000         590.000000  590.000000  \n",
       "mean     3.607996    4.979594    5.378932           0.437288    0.493220  \n",
       "std      1.574352    2.226808    1.197012           0.496473    0.500378  \n",
       "min      0.001104    0.005279    0.000000           0.000000    0.000000  \n",
       "25%      2.464467    3.805664    5.279135           0.000000    0.000000  \n",
       "50%      3.563973    5.563994    5.344907           0.000000    0.000000  \n",
       "75%      4.818184    6.611675    5.416119           1.000000    1.000000  \n",
       "max      7.247720    9.498920    9.488048           1.000000    1.000000  "
      ]
     },
     "execution_count": 80,
     "metadata": {},
     "output_type": "execute_result"
    }
   ],
   "source": [
    "data.describe()"
   ]
  },
  {
   "cell_type": "markdown",
   "id": "eaccde2d",
   "metadata": {},
   "source": [
    "## Machine Learning Modelling"
   ]
  },
  {
   "cell_type": "markdown",
   "id": "4cc99bcb",
   "metadata": {},
   "source": [
    "Multiclass classification to Binary Classification"
   ]
  },
  {
   "cell_type": "code",
   "execution_count": 81,
   "id": "83a3cdb0",
   "metadata": {},
   "outputs": [],
   "source": [
    "# The negative class (benign cancer)\n",
    "data.diagnosis.replace(to_replace=[1,2], value=0, inplace=True)\n",
    "# The positive class (malignant cancer)\n",
    "data.diagnosis.replace(to_replace=3, value=1, inplace=True)"
   ]
  },
  {
   "cell_type": "code",
   "execution_count": 82,
   "id": "e73f6395",
   "metadata": {},
   "outputs": [],
   "source": [
    "features = data.drop(\"diagnosis\", axis = 1) \n",
    "target = data.diagnosis"
   ]
  },
  {
   "cell_type": "code",
   "execution_count": 83,
   "id": "3894ed19",
   "metadata": {},
   "outputs": [
    {
     "data": {
      "text/html": [
       "<div>\n",
       "<style scoped>\n",
       "    .dataframe tbody tr th:only-of-type {\n",
       "        vertical-align: middle;\n",
       "    }\n",
       "\n",
       "    .dataframe tbody tr th {\n",
       "        vertical-align: top;\n",
       "    }\n",
       "\n",
       "    .dataframe thead th {\n",
       "        text-align: right;\n",
       "    }\n",
       "</style>\n",
       "<table border=\"1\" class=\"dataframe\">\n",
       "  <thead>\n",
       "    <tr style=\"text-align: right;\">\n",
       "      <th></th>\n",
       "      <th>age</th>\n",
       "      <th>plasma_CA19_9</th>\n",
       "      <th>creatinine</th>\n",
       "      <th>LYVE1</th>\n",
       "      <th>REG1B</th>\n",
       "      <th>TFF1</th>\n",
       "      <th>REG1A</th>\n",
       "      <th>patient_cohort_1?</th>\n",
       "      <th>is_male?</th>\n",
       "    </tr>\n",
       "  </thead>\n",
       "  <tbody>\n",
       "    <tr>\n",
       "      <th>0</th>\n",
       "      <td>33</td>\n",
       "      <td>2.541602</td>\n",
       "      <td>1.041061</td>\n",
       "      <td>0.638279</td>\n",
       "      <td>3.988036</td>\n",
       "      <td>6.485066</td>\n",
       "      <td>7.141245</td>\n",
       "      <td>0</td>\n",
       "      <td>0</td>\n",
       "    </tr>\n",
       "    <tr>\n",
       "      <th>1</th>\n",
       "      <td>81</td>\n",
       "      <td>3.314186</td>\n",
       "      <td>0.679383</td>\n",
       "      <td>1.111063</td>\n",
       "      <td>4.558781</td>\n",
       "      <td>5.349430</td>\n",
       "      <td>5.435498</td>\n",
       "      <td>0</td>\n",
       "      <td>0</td>\n",
       "    </tr>\n",
       "    <tr>\n",
       "      <th>2</th>\n",
       "      <td>51</td>\n",
       "      <td>2.079442</td>\n",
       "      <td>0.576832</td>\n",
       "      <td>0.135919</td>\n",
       "      <td>4.638276</td>\n",
       "      <td>6.135870</td>\n",
       "      <td>5.344907</td>\n",
       "      <td>1</td>\n",
       "      <td>1</td>\n",
       "    </tr>\n",
       "    <tr>\n",
       "      <th>3</th>\n",
       "      <td>61</td>\n",
       "      <td>2.197225</td>\n",
       "      <td>0.531346</td>\n",
       "      <td>0.002801</td>\n",
       "      <td>4.120321</td>\n",
       "      <td>4.969466</td>\n",
       "      <td>5.344907</td>\n",
       "      <td>1</td>\n",
       "      <td>1</td>\n",
       "    </tr>\n",
       "    <tr>\n",
       "      <th>4</th>\n",
       "      <td>62</td>\n",
       "      <td>2.302585</td>\n",
       "      <td>0.194654</td>\n",
       "      <td>0.000859</td>\n",
       "      <td>4.197803</td>\n",
       "      <td>3.739763</td>\n",
       "      <td>5.344907</td>\n",
       "      <td>1</td>\n",
       "      <td>1</td>\n",
       "    </tr>\n",
       "    <tr>\n",
       "      <th>...</th>\n",
       "      <td>...</td>\n",
       "      <td>...</td>\n",
       "      <td>...</td>\n",
       "      <td>...</td>\n",
       "      <td>...</td>\n",
       "      <td>...</td>\n",
       "      <td>...</td>\n",
       "      <td>...</td>\n",
       "      <td>...</td>\n",
       "    </tr>\n",
       "    <tr>\n",
       "      <th>585</th>\n",
       "      <td>68</td>\n",
       "      <td>3.314186</td>\n",
       "      <td>0.418881</td>\n",
       "      <td>2.086691</td>\n",
       "      <td>5.057780</td>\n",
       "      <td>6.265640</td>\n",
       "      <td>5.344907</td>\n",
       "      <td>1</td>\n",
       "      <td>1</td>\n",
       "    </tr>\n",
       "    <tr>\n",
       "      <th>586</th>\n",
       "      <td>71</td>\n",
       "      <td>3.314186</td>\n",
       "      <td>0.620340</td>\n",
       "      <td>2.234435</td>\n",
       "      <td>2.885638</td>\n",
       "      <td>5.509174</td>\n",
       "      <td>5.344907</td>\n",
       "      <td>1</td>\n",
       "      <td>0</td>\n",
       "    </tr>\n",
       "    <tr>\n",
       "      <th>587</th>\n",
       "      <td>63</td>\n",
       "      <td>3.314186</td>\n",
       "      <td>0.862261</td>\n",
       "      <td>2.160412</td>\n",
       "      <td>5.672295</td>\n",
       "      <td>6.288390</td>\n",
       "      <td>5.344907</td>\n",
       "      <td>1</td>\n",
       "      <td>1</td>\n",
       "    </tr>\n",
       "    <tr>\n",
       "      <th>588</th>\n",
       "      <td>75</td>\n",
       "      <td>3.314186</td>\n",
       "      <td>0.847832</td>\n",
       "      <td>2.219940</td>\n",
       "      <td>5.332381</td>\n",
       "      <td>6.584132</td>\n",
       "      <td>5.344907</td>\n",
       "      <td>1</td>\n",
       "      <td>0</td>\n",
       "    </tr>\n",
       "    <tr>\n",
       "      <th>589</th>\n",
       "      <td>74</td>\n",
       "      <td>7.305860</td>\n",
       "      <td>0.917981</td>\n",
       "      <td>2.219308</td>\n",
       "      <td>6.023298</td>\n",
       "      <td>7.612001</td>\n",
       "      <td>9.488048</td>\n",
       "      <td>0</td>\n",
       "      <td>1</td>\n",
       "    </tr>\n",
       "  </tbody>\n",
       "</table>\n",
       "<p>590 rows × 9 columns</p>\n",
       "</div>"
      ],
      "text/plain": [
       "     age  plasma_CA19_9  creatinine     LYVE1     REG1B      TFF1     REG1A  \\\n",
       "0     33       2.541602    1.041061  0.638279  3.988036  6.485066  7.141245   \n",
       "1     81       3.314186    0.679383  1.111063  4.558781  5.349430  5.435498   \n",
       "2     51       2.079442    0.576832  0.135919  4.638276  6.135870  5.344907   \n",
       "3     61       2.197225    0.531346  0.002801  4.120321  4.969466  5.344907   \n",
       "4     62       2.302585    0.194654  0.000859  4.197803  3.739763  5.344907   \n",
       "..   ...            ...         ...       ...       ...       ...       ...   \n",
       "585   68       3.314186    0.418881  2.086691  5.057780  6.265640  5.344907   \n",
       "586   71       3.314186    0.620340  2.234435  2.885638  5.509174  5.344907   \n",
       "587   63       3.314186    0.862261  2.160412  5.672295  6.288390  5.344907   \n",
       "588   75       3.314186    0.847832  2.219940  5.332381  6.584132  5.344907   \n",
       "589   74       7.305860    0.917981  2.219308  6.023298  7.612001  9.488048   \n",
       "\n",
       "     patient_cohort_1?  is_male?  \n",
       "0                    0         0  \n",
       "1                    0         0  \n",
       "2                    1         1  \n",
       "3                    1         1  \n",
       "4                    1         1  \n",
       "..                 ...       ...  \n",
       "585                  1         1  \n",
       "586                  1         0  \n",
       "587                  1         1  \n",
       "588                  1         0  \n",
       "589                  0         1  \n",
       "\n",
       "[590 rows x 9 columns]"
      ]
     },
     "execution_count": 83,
     "metadata": {},
     "output_type": "execute_result"
    }
   ],
   "source": [
    "features"
   ]
  },
  {
   "cell_type": "code",
   "execution_count": 84,
   "id": "d6895fc8",
   "metadata": {},
   "outputs": [
    {
     "data": {
      "text/html": [
       "<div>\n",
       "<style scoped>\n",
       "    .dataframe tbody tr th:only-of-type {\n",
       "        vertical-align: middle;\n",
       "    }\n",
       "\n",
       "    .dataframe tbody tr th {\n",
       "        vertical-align: top;\n",
       "    }\n",
       "\n",
       "    .dataframe thead th {\n",
       "        text-align: right;\n",
       "    }\n",
       "</style>\n",
       "<table border=\"1\" class=\"dataframe\">\n",
       "  <thead>\n",
       "    <tr style=\"text-align: right;\">\n",
       "      <th></th>\n",
       "      <th>age</th>\n",
       "      <th>plasma_CA19_9</th>\n",
       "      <th>creatinine</th>\n",
       "      <th>LYVE1</th>\n",
       "      <th>REG1B</th>\n",
       "      <th>TFF1</th>\n",
       "      <th>REG1A</th>\n",
       "      <th>patient_cohort_1?</th>\n",
       "      <th>is_male?</th>\n",
       "    </tr>\n",
       "  </thead>\n",
       "  <tbody>\n",
       "    <tr>\n",
       "      <th>count</th>\n",
       "      <td>590.000000</td>\n",
       "      <td>590.000000</td>\n",
       "      <td>590.000000</td>\n",
       "      <td>590.000000</td>\n",
       "      <td>590.000000</td>\n",
       "      <td>590.000000</td>\n",
       "      <td>590.000000</td>\n",
       "      <td>590.000000</td>\n",
       "      <td>590.000000</td>\n",
       "    </tr>\n",
       "    <tr>\n",
       "      <th>mean</th>\n",
       "      <td>59.079661</td>\n",
       "      <td>3.651298</td>\n",
       "      <td>0.567379</td>\n",
       "      <td>1.054778</td>\n",
       "      <td>3.607996</td>\n",
       "      <td>4.979594</td>\n",
       "      <td>5.378932</td>\n",
       "      <td>0.437288</td>\n",
       "      <td>0.493220</td>\n",
       "    </tr>\n",
       "    <tr>\n",
       "      <th>std</th>\n",
       "      <td>13.109520</td>\n",
       "      <td>1.778027</td>\n",
       "      <td>0.309551</td>\n",
       "      <td>0.843309</td>\n",
       "      <td>1.574352</td>\n",
       "      <td>2.226808</td>\n",
       "      <td>1.197012</td>\n",
       "      <td>0.496473</td>\n",
       "      <td>0.500378</td>\n",
       "    </tr>\n",
       "    <tr>\n",
       "      <th>min</th>\n",
       "      <td>26.000000</td>\n",
       "      <td>0.000000</td>\n",
       "      <td>0.055009</td>\n",
       "      <td>0.000129</td>\n",
       "      <td>0.001104</td>\n",
       "      <td>0.005279</td>\n",
       "      <td>0.000000</td>\n",
       "      <td>0.000000</td>\n",
       "      <td>0.000000</td>\n",
       "    </tr>\n",
       "    <tr>\n",
       "      <th>25%</th>\n",
       "      <td>50.000000</td>\n",
       "      <td>2.890372</td>\n",
       "      <td>0.317166</td>\n",
       "      <td>0.154584</td>\n",
       "      <td>2.464467</td>\n",
       "      <td>3.805664</td>\n",
       "      <td>5.279135</td>\n",
       "      <td>0.000000</td>\n",
       "      <td>0.000000</td>\n",
       "    </tr>\n",
       "    <tr>\n",
       "      <th>50%</th>\n",
       "      <td>60.000000</td>\n",
       "      <td>3.314186</td>\n",
       "      <td>0.544554</td>\n",
       "      <td>0.974503</td>\n",
       "      <td>3.563973</td>\n",
       "      <td>5.563994</td>\n",
       "      <td>5.344907</td>\n",
       "      <td>0.000000</td>\n",
       "      <td>0.000000</td>\n",
       "    </tr>\n",
       "    <tr>\n",
       "      <th>75%</th>\n",
       "      <td>69.000000</td>\n",
       "      <td>3.755317</td>\n",
       "      <td>0.760561</td>\n",
       "      <td>1.825361</td>\n",
       "      <td>4.818184</td>\n",
       "      <td>6.611675</td>\n",
       "      <td>5.416119</td>\n",
       "      <td>1.000000</td>\n",
       "      <td>1.000000</td>\n",
       "    </tr>\n",
       "    <tr>\n",
       "      <th>max</th>\n",
       "      <td>89.000000</td>\n",
       "      <td>10.341775</td>\n",
       "      <td>1.632537</td>\n",
       "      <td>3.214479</td>\n",
       "      <td>7.247720</td>\n",
       "      <td>9.498920</td>\n",
       "      <td>9.488048</td>\n",
       "      <td>1.000000</td>\n",
       "      <td>1.000000</td>\n",
       "    </tr>\n",
       "  </tbody>\n",
       "</table>\n",
       "</div>"
      ],
      "text/plain": [
       "              age  plasma_CA19_9  creatinine       LYVE1       REG1B  \\\n",
       "count  590.000000     590.000000  590.000000  590.000000  590.000000   \n",
       "mean    59.079661       3.651298    0.567379    1.054778    3.607996   \n",
       "std     13.109520       1.778027    0.309551    0.843309    1.574352   \n",
       "min     26.000000       0.000000    0.055009    0.000129    0.001104   \n",
       "25%     50.000000       2.890372    0.317166    0.154584    2.464467   \n",
       "50%     60.000000       3.314186    0.544554    0.974503    3.563973   \n",
       "75%     69.000000       3.755317    0.760561    1.825361    4.818184   \n",
       "max     89.000000      10.341775    1.632537    3.214479    7.247720   \n",
       "\n",
       "             TFF1       REG1A  patient_cohort_1?    is_male?  \n",
       "count  590.000000  590.000000         590.000000  590.000000  \n",
       "mean     4.979594    5.378932           0.437288    0.493220  \n",
       "std      2.226808    1.197012           0.496473    0.500378  \n",
       "min      0.005279    0.000000           0.000000    0.000000  \n",
       "25%      3.805664    5.279135           0.000000    0.000000  \n",
       "50%      5.563994    5.344907           0.000000    0.000000  \n",
       "75%      6.611675    5.416119           1.000000    1.000000  \n",
       "max      9.498920    9.488048           1.000000    1.000000  "
      ]
     },
     "execution_count": 84,
     "metadata": {},
     "output_type": "execute_result"
    }
   ],
   "source": [
    "features.describe()"
   ]
  },
  {
   "cell_type": "code",
   "execution_count": 85,
   "id": "7be2ced2",
   "metadata": {},
   "outputs": [
    {
     "data": {
      "text/plain": [
       "0      0\n",
       "1      0\n",
       "2      0\n",
       "3      0\n",
       "4      0\n",
       "      ..\n",
       "585    1\n",
       "586    1\n",
       "587    1\n",
       "588    1\n",
       "589    1\n",
       "Name: diagnosis, Length: 590, dtype: int64"
      ]
     },
     "execution_count": 85,
     "metadata": {},
     "output_type": "execute_result"
    }
   ],
   "source": [
    "target"
   ]
  },
  {
   "cell_type": "code",
   "execution_count": 86,
   "id": "97a84953",
   "metadata": {},
   "outputs": [],
   "source": [
    "X_train, X_test, y_train, y_test = train_test_split(features, target, test_size = 0.3, random_state=42)"
   ]
  },
  {
   "cell_type": "markdown",
   "id": "11a6b79a",
   "metadata": {},
   "source": [
    "#### Logistic Regression"
   ]
  },
  {
   "cell_type": "code",
   "execution_count": 87,
   "id": "f890cfe9",
   "metadata": {},
   "outputs": [],
   "source": [
    "mdl_LR = LogisticRegression(max_iter=30000)"
   ]
  },
  {
   "cell_type": "code",
   "execution_count": 88,
   "id": "9f8e3074",
   "metadata": {
    "scrolled": true
   },
   "outputs": [
    {
     "data": {
      "text/plain": [
       "LogisticRegression(max_iter=30000)"
      ]
     },
     "execution_count": 88,
     "metadata": {},
     "output_type": "execute_result"
    }
   ],
   "source": [
    "mdl_LR.fit(X_train, y_train)"
   ]
  },
  {
   "cell_type": "code",
   "execution_count": 89,
   "id": "d3c8497e",
   "metadata": {},
   "outputs": [],
   "source": [
    "y_pred_LR = mdl_LR.predict(X_test)"
   ]
  },
  {
   "cell_type": "code",
   "execution_count": 90,
   "id": "90d296aa",
   "metadata": {},
   "outputs": [],
   "source": [
    "# y_pred_LR"
   ]
  },
  {
   "cell_type": "code",
   "execution_count": 91,
   "id": "cc79b208",
   "metadata": {},
   "outputs": [
    {
     "data": {
      "text/plain": [
       "0.9096045197740112"
      ]
     },
     "execution_count": 91,
     "metadata": {},
     "output_type": "execute_result"
    }
   ],
   "source": [
    "accuracy_score(y_test, y_pred_LR)"
   ]
  },
  {
   "cell_type": "code",
   "execution_count": 92,
   "id": "c12b8aaa",
   "metadata": {},
   "outputs": [
    {
     "data": {
      "text/plain": [
       "<AxesSubplot:>"
      ]
     },
     "execution_count": 92,
     "metadata": {},
     "output_type": "execute_result"
    },
    {
     "data": {
      "image/png": "[encoded data removed]",
      "text/plain": [
       "<Figure size 640x480 with 2 Axes>"
      ]
     },
     "metadata": {},
     "output_type": "display_data"
    }
   ],
   "source": [
    "sns.heatmap(confusion_matrix(y_test, y_pred_LR), annot = True)"
   ]
  },
  {
   "cell_type": "code",
   "execution_count": 93,
   "id": "aab0a393",
   "metadata": {},
   "outputs": [
    {
     "name": "stdout",
     "output_type": "stream",
     "text": [
      "              precision    recall  f1-score   support\n",
      "\n",
      "           0       0.94      0.93      0.94       125\n",
      "           1       0.83      0.87      0.85        52\n",
      "\n",
      "    accuracy                           0.91       177\n",
      "   macro avg       0.89      0.90      0.89       177\n",
      "weighted avg       0.91      0.91      0.91       177\n",
      "\n"
     ]
    }
   ],
   "source": [
    "print(classification_report(y_test, y_pred_LR))"
   ]
  },
  {
   "cell_type": "markdown",
   "id": "29ef1f45",
   "metadata": {},
   "source": [
    "#### Decision Tree"
   ]
  },
  {
   "cell_type": "code",
   "execution_count": 94,
   "id": "b87b33aa",
   "metadata": {},
   "outputs": [],
   "source": [
    "mdl_DT = DecisionTreeClassifier()"
   ]
  },
  {
   "cell_type": "code",
   "execution_count": 95,
   "id": "2e30afc9",
   "metadata": {},
   "outputs": [
    {
     "data": {
      "text/plain": [
       "DecisionTreeClassifier()"
      ]
     },
     "execution_count": 95,
     "metadata": {},
     "output_type": "execute_result"
    }
   ],
   "source": [
    "mdl_DT.fit(X_train, y_train)"
   ]
  },
  {
   "cell_type": "code",
   "execution_count": 96,
   "id": "2e0687fb",
   "metadata": {},
   "outputs": [],
   "source": [
    "y_pred_DT = mdl_DT.predict(X_test)\n",
    "# y_pred_DT"
   ]
  },
  {
   "cell_type": "code",
   "execution_count": 97,
   "id": "05c3e382",
   "metadata": {},
   "outputs": [
    {
     "data": {
      "text/plain": [
       "0.8418079096045198"
      ]
     },
     "execution_count": 97,
     "metadata": {},
     "output_type": "execute_result"
    }
   ],
   "source": [
    "accuracy_score(y_test, y_pred_DT)"
   ]
  },
  {
   "cell_type": "code",
   "execution_count": 98,
   "id": "0c658b9e",
   "metadata": {},
   "outputs": [
    {
     "data": {
      "text/plain": [
       "<AxesSubplot:>"
      ]
     },
     "execution_count": 98,
     "metadata": {},
     "output_type": "execute_result"
    },
    {
     "data": {
      "image/png": "[encoded data removed]",
      "text/plain": [
       "<Figure size 640x480 with 2 Axes>"
      ]
     },
     "metadata": {},
     "output_type": "display_data"
    }
   ],
   "source": [
    "sns.heatmap(confusion_matrix(y_test, y_pred_DT), annot = True)"
   ]
  },
  {
   "cell_type": "code",
   "execution_count": 99,
   "id": "2e32d5bb",
   "metadata": {},
   "outputs": [
    {
     "name": "stdout",
     "output_type": "stream",
     "text": [
      "              precision    recall  f1-score   support\n",
      "\n",
      "           0       0.90      0.87      0.89       125\n",
      "           1       0.71      0.77      0.74        52\n",
      "\n",
      "    accuracy                           0.84       177\n",
      "   macro avg       0.81      0.82      0.81       177\n",
      "weighted avg       0.85      0.84      0.84       177\n",
      "\n"
     ]
    }
   ],
   "source": [
    "print(classification_report(y_test, y_pred_DT))"
   ]
  },
  {
   "cell_type": "markdown",
   "id": "4c7b8e7b",
   "metadata": {},
   "source": [
    "### Random forest"
   ]
  },
  {
   "cell_type": "code",
   "execution_count": 100,
   "id": "e35707b1",
   "metadata": {},
   "outputs": [],
   "source": [
    "from sklearn.ensemble import RandomForestClassifier"
   ]
  },
  {
   "cell_type": "code",
   "execution_count": 116,
   "id": "df272e27",
   "metadata": {},
   "outputs": [],
   "source": [
    "model_rf = RandomForestClassifier(n_estimators=1000, random_state=42)"
   ]
  },
  {
   "cell_type": "code",
   "execution_count": 117,
   "id": "71615ee2",
   "metadata": {},
   "outputs": [
    {
     "data": {
      "text/plain": [
       "RandomForestClassifier(n_estimators=1000, random_state=42)"
      ]
     },
     "execution_count": 117,
     "metadata": {},
     "output_type": "execute_result"
    }
   ],
   "source": [
    "model_rf.fit(X_train, y_train)"
   ]
  },
  {
   "cell_type": "code",
   "execution_count": 118,
   "id": "2b5324e3",
   "metadata": {},
   "outputs": [],
   "source": [
    "y_pred = model_rf.predict(X_test)\n",
    "# y_pred"
   ]
  },
  {
   "cell_type": "code",
   "execution_count": 119,
   "id": "dc92c6c5",
   "metadata": {},
   "outputs": [
    {
     "data": {
      "text/plain": [
       "0.9265536723163842"
      ]
     },
     "execution_count": 119,
     "metadata": {},
     "output_type": "execute_result"
    }
   ],
   "source": [
    "accuracy_score(y_test, y_pred)"
   ]
  },
  {
   "cell_type": "code",
   "execution_count": null,
   "id": "6428ab0d",
   "metadata": {},
   "outputs": [],
   "source": []
  },
  {
   "cell_type": "code",
   "execution_count": null,
   "id": "8016184a",
   "metadata": {},
   "outputs": [],
   "source": []
  },
  {
   "cell_type": "code",
   "execution_count": null,
   "id": "8c7200c2",
   "metadata": {},
   "outputs": [],
   "source": []
  },
  {
   "cell_type": "code",
   "execution_count": null,
   "id": "1829f3f9",
   "metadata": {},
   "outputs": [],
   "source": []
  }
 ],
 "metadata": {
  "kernelspec": {
   "display_name": "Python 3 (ipykernel)",
   "language": "python",
   "name": "python3"
  },
  "language_info": {
   "codemirror_mode": {
    "name": "ipython",
    "version": 3
   },
   "file_extension": ".py",
   "mimetype": "text/x-python",
   "name": "python",
   "nbconvert_exporter": "python",
   "pygments_lexer": "ipython3",
   "version": "3.9.13"
  }
 },
 "nbformat": 4,
 "nbformat_minor": 5
}
