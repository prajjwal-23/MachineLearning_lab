{
 "cells": [
  {
   "cell_type": "code",
   "execution_count": 1,
   "metadata": {},
   "outputs": [],
   "source": [
    "import numpy as np\n",
    "import pandas as pd"
   ]
  },
  {
   "cell_type": "code",
   "execution_count": 3,
   "metadata": {},
   "outputs": [],
   "source": [
    "data = pd.read_csv(\"data/data.csv\")\n",
    "data_description = pd.read_csv((\"./data/data-documentation-description.csv\"))"
   ]
  },
  {
   "cell_type": "code",
   "execution_count": 4,
   "metadata": {},
   "outputs": [
    {
     "data": {
      "text/html": [
       "<div>\n",
       "<style scoped>\n",
       "    .dataframe tbody tr th:only-of-type {\n",
       "        vertical-align: middle;\n",
       "    }\n",
       "\n",
       "    .dataframe tbody tr th {\n",
       "        vertical-align: top;\n",
       "    }\n",
       "\n",
       "    .dataframe thead th {\n",
       "        text-align: right;\n",
       "    }\n",
       "</style>\n",
       "<table border=\"1\" class=\"dataframe\">\n",
       "  <thead>\n",
       "    <tr style=\"text-align: right;\">\n",
       "      <th></th>\n",
       "      <th>sample_id</th>\n",
       "      <th>patient_cohort</th>\n",
       "      <th>sample_origin</th>\n",
       "      <th>age</th>\n",
       "      <th>sex</th>\n",
       "      <th>diagnosis</th>\n",
       "      <th>stage</th>\n",
       "      <th>benign_sample_diagnosis</th>\n",
       "      <th>plasma_CA19_9</th>\n",
       "      <th>creatinine</th>\n",
       "      <th>LYVE1</th>\n",
       "      <th>REG1B</th>\n",
       "      <th>TFF1</th>\n",
       "      <th>REG1A</th>\n",
       "    </tr>\n",
       "  </thead>\n",
       "  <tbody>\n",
       "    <tr>\n",
       "      <th>0</th>\n",
       "      <td>S1</td>\n",
       "      <td>Cohort1</td>\n",
       "      <td>BPTB</td>\n",
       "      <td>33</td>\n",
       "      <td>F</td>\n",
       "      <td>1</td>\n",
       "      <td>NaN</td>\n",
       "      <td>NaN</td>\n",
       "      <td>11.7</td>\n",
       "      <td>1.83222</td>\n",
       "      <td>0.893219</td>\n",
       "      <td>52.94884</td>\n",
       "      <td>654.282174</td>\n",
       "      <td>1262.000</td>\n",
       "    </tr>\n",
       "    <tr>\n",
       "      <th>1</th>\n",
       "      <td>S10</td>\n",
       "      <td>Cohort1</td>\n",
       "      <td>BPTB</td>\n",
       "      <td>81</td>\n",
       "      <td>F</td>\n",
       "      <td>1</td>\n",
       "      <td>NaN</td>\n",
       "      <td>NaN</td>\n",
       "      <td>NaN</td>\n",
       "      <td>0.97266</td>\n",
       "      <td>2.037585</td>\n",
       "      <td>94.46703</td>\n",
       "      <td>209.488250</td>\n",
       "      <td>228.407</td>\n",
       "    </tr>\n",
       "    <tr>\n",
       "      <th>2</th>\n",
       "      <td>S100</td>\n",
       "      <td>Cohort2</td>\n",
       "      <td>BPTB</td>\n",
       "      <td>51</td>\n",
       "      <td>M</td>\n",
       "      <td>1</td>\n",
       "      <td>NaN</td>\n",
       "      <td>NaN</td>\n",
       "      <td>7.0</td>\n",
       "      <td>0.78039</td>\n",
       "      <td>0.145589</td>\n",
       "      <td>102.36600</td>\n",
       "      <td>461.141000</td>\n",
       "      <td>NaN</td>\n",
       "    </tr>\n",
       "    <tr>\n",
       "      <th>3</th>\n",
       "      <td>S101</td>\n",
       "      <td>Cohort2</td>\n",
       "      <td>BPTB</td>\n",
       "      <td>61</td>\n",
       "      <td>M</td>\n",
       "      <td>1</td>\n",
       "      <td>NaN</td>\n",
       "      <td>NaN</td>\n",
       "      <td>8.0</td>\n",
       "      <td>0.70122</td>\n",
       "      <td>0.002805</td>\n",
       "      <td>60.57900</td>\n",
       "      <td>142.950000</td>\n",
       "      <td>NaN</td>\n",
       "    </tr>\n",
       "    <tr>\n",
       "      <th>4</th>\n",
       "      <td>S102</td>\n",
       "      <td>Cohort2</td>\n",
       "      <td>BPTB</td>\n",
       "      <td>62</td>\n",
       "      <td>M</td>\n",
       "      <td>1</td>\n",
       "      <td>NaN</td>\n",
       "      <td>NaN</td>\n",
       "      <td>9.0</td>\n",
       "      <td>0.21489</td>\n",
       "      <td>0.000860</td>\n",
       "      <td>65.54000</td>\n",
       "      <td>41.088000</td>\n",
       "      <td>NaN</td>\n",
       "    </tr>\n",
       "  </tbody>\n",
       "</table>\n",
       "</div>"
      ],
      "text/plain": [
       "  sample_id patient_cohort sample_origin  age sex  diagnosis stage  \\\n",
       "0        S1        Cohort1          BPTB   33   F          1   NaN   \n",
       "1       S10        Cohort1          BPTB   81   F          1   NaN   \n",
       "2      S100        Cohort2          BPTB   51   M          1   NaN   \n",
       "3      S101        Cohort2          BPTB   61   M          1   NaN   \n",
       "4      S102        Cohort2          BPTB   62   M          1   NaN   \n",
       "\n",
       "  benign_sample_diagnosis  plasma_CA19_9  creatinine     LYVE1      REG1B  \\\n",
       "0                     NaN           11.7     1.83222  0.893219   52.94884   \n",
       "1                     NaN            NaN     0.97266  2.037585   94.46703   \n",
       "2                     NaN            7.0     0.78039  0.145589  102.36600   \n",
       "3                     NaN            8.0     0.70122  0.002805   60.57900   \n",
       "4                     NaN            9.0     0.21489  0.000860   65.54000   \n",
       "\n",
       "         TFF1     REG1A  \n",
       "0  654.282174  1262.000  \n",
       "1  209.488250   228.407  \n",
       "2  461.141000       NaN  \n",
       "3  142.950000       NaN  \n",
       "4   41.088000       NaN  "
      ]
     },
     "execution_count": 4,
     "metadata": {},
     "output_type": "execute_result"
    }
   ],
   "source": [
    "# get top 5 rows from the data\n",
    "data.head()"
   ]
  },
  {
   "cell_type": "code",
   "execution_count": 5,
   "metadata": {},
   "outputs": [
    {
     "data": {
      "text/plain": [
       "Index(['sample_id', 'patient_cohort', 'sample_origin', 'age', 'sex',\n",
       "       'diagnosis', 'stage', 'benign_sample_diagnosis', 'plasma_CA19_9',\n",
       "       'creatinine', 'LYVE1', 'REG1B', 'TFF1', 'REG1A'],\n",
       "      dtype='object')"
      ]
     },
     "execution_count": 5,
     "metadata": {},
     "output_type": "execute_result"
    }
   ],
   "source": [
    "data.columns"
   ]
  },
  {
   "cell_type": "code",
   "execution_count": 6,
   "metadata": {},
   "outputs": [
    {
     "data": {
      "text/html": [
       "<div>\n",
       "<style scoped>\n",
       "    .dataframe tbody tr th:only-of-type {\n",
       "        vertical-align: middle;\n",
       "    }\n",
       "\n",
       "    .dataframe tbody tr th {\n",
       "        vertical-align: top;\n",
       "    }\n",
       "\n",
       "    .dataframe thead th {\n",
       "        text-align: right;\n",
       "    }\n",
       "</style>\n",
       "<table border=\"1\" class=\"dataframe\">\n",
       "  <thead>\n",
       "    <tr style=\"text-align: right;\">\n",
       "      <th></th>\n",
       "      <th>age</th>\n",
       "      <th>diagnosis</th>\n",
       "      <th>plasma_CA19_9</th>\n",
       "      <th>creatinine</th>\n",
       "      <th>LYVE1</th>\n",
       "      <th>REG1B</th>\n",
       "      <th>TFF1</th>\n",
       "      <th>REG1A</th>\n",
       "    </tr>\n",
       "  </thead>\n",
       "  <tbody>\n",
       "    <tr>\n",
       "      <th>count</th>\n",
       "      <td>590.000000</td>\n",
       "      <td>590.000000</td>\n",
       "      <td>350.000000</td>\n",
       "      <td>590.000000</td>\n",
       "      <td>590.000000</td>\n",
       "      <td>590.000000</td>\n",
       "      <td>590.000000</td>\n",
       "      <td>306.000000</td>\n",
       "    </tr>\n",
       "    <tr>\n",
       "      <th>mean</th>\n",
       "      <td>59.079661</td>\n",
       "      <td>2.027119</td>\n",
       "      <td>654.002944</td>\n",
       "      <td>0.855383</td>\n",
       "      <td>3.063530</td>\n",
       "      <td>111.774090</td>\n",
       "      <td>597.868722</td>\n",
       "      <td>735.281222</td>\n",
       "    </tr>\n",
       "    <tr>\n",
       "      <th>std</th>\n",
       "      <td>13.109520</td>\n",
       "      <td>0.804873</td>\n",
       "      <td>2430.317642</td>\n",
       "      <td>0.639028</td>\n",
       "      <td>3.438796</td>\n",
       "      <td>196.267110</td>\n",
       "      <td>1010.477245</td>\n",
       "      <td>1477.247724</td>\n",
       "    </tr>\n",
       "    <tr>\n",
       "      <th>min</th>\n",
       "      <td>26.000000</td>\n",
       "      <td>1.000000</td>\n",
       "      <td>0.000000</td>\n",
       "      <td>0.056550</td>\n",
       "      <td>0.000129</td>\n",
       "      <td>0.001104</td>\n",
       "      <td>0.005293</td>\n",
       "      <td>0.000000</td>\n",
       "    </tr>\n",
       "    <tr>\n",
       "      <th>25%</th>\n",
       "      <td>50.000000</td>\n",
       "      <td>1.000000</td>\n",
       "      <td>8.000000</td>\n",
       "      <td>0.373230</td>\n",
       "      <td>0.167179</td>\n",
       "      <td>10.757216</td>\n",
       "      <td>43.961000</td>\n",
       "      <td>80.692000</td>\n",
       "    </tr>\n",
       "    <tr>\n",
       "      <th>50%</th>\n",
       "      <td>60.000000</td>\n",
       "      <td>2.000000</td>\n",
       "      <td>26.500000</td>\n",
       "      <td>0.723840</td>\n",
       "      <td>1.649862</td>\n",
       "      <td>34.303353</td>\n",
       "      <td>259.873974</td>\n",
       "      <td>208.538500</td>\n",
       "    </tr>\n",
       "    <tr>\n",
       "      <th>75%</th>\n",
       "      <td>69.000000</td>\n",
       "      <td>3.000000</td>\n",
       "      <td>294.000000</td>\n",
       "      <td>1.139482</td>\n",
       "      <td>5.205037</td>\n",
       "      <td>122.741013</td>\n",
       "      <td>742.736000</td>\n",
       "      <td>649.000000</td>\n",
       "    </tr>\n",
       "    <tr>\n",
       "      <th>max</th>\n",
       "      <td>89.000000</td>\n",
       "      <td>3.000000</td>\n",
       "      <td>31000.000000</td>\n",
       "      <td>4.116840</td>\n",
       "      <td>23.890323</td>\n",
       "      <td>1403.897600</td>\n",
       "      <td>13344.300000</td>\n",
       "      <td>13200.000000</td>\n",
       "    </tr>\n",
       "  </tbody>\n",
       "</table>\n",
       "</div>"
      ],
      "text/plain": [
       "              age   diagnosis  plasma_CA19_9  creatinine       LYVE1  \\\n",
       "count  590.000000  590.000000     350.000000  590.000000  590.000000   \n",
       "mean    59.079661    2.027119     654.002944    0.855383    3.063530   \n",
       "std     13.109520    0.804873    2430.317642    0.639028    3.438796   \n",
       "min     26.000000    1.000000       0.000000    0.056550    0.000129   \n",
       "25%     50.000000    1.000000       8.000000    0.373230    0.167179   \n",
       "50%     60.000000    2.000000      26.500000    0.723840    1.649862   \n",
       "75%     69.000000    3.000000     294.000000    1.139482    5.205037   \n",
       "max     89.000000    3.000000   31000.000000    4.116840   23.890323   \n",
       "\n",
       "             REG1B          TFF1         REG1A  \n",
       "count   590.000000    590.000000    306.000000  \n",
       "mean    111.774090    597.868722    735.281222  \n",
       "std     196.267110   1010.477245   1477.247724  \n",
       "min       0.001104      0.005293      0.000000  \n",
       "25%      10.757216     43.961000     80.692000  \n",
       "50%      34.303353    259.873974    208.538500  \n",
       "75%     122.741013    742.736000    649.000000  \n",
       "max    1403.897600  13344.300000  13200.000000  "
      ]
     },
     "execution_count": 6,
     "metadata": {},
     "output_type": "execute_result"
    }
   ],
   "source": [
    "# it will give the description about the data\n",
    "data.describe()"
   ]
  },
  {
   "cell_type": "code",
   "execution_count": 7,
   "metadata": {},
   "outputs": [
    {
     "name": "stdout",
     "output_type": "stream",
     "text": [
      "<class 'pandas.core.frame.DataFrame'>\n",
      "RangeIndex: 590 entries, 0 to 589\n",
      "Data columns (total 14 columns):\n",
      " #   Column                   Non-Null Count  Dtype  \n",
      "---  ------                   --------------  -----  \n",
      " 0   sample_id                590 non-null    object \n",
      " 1   patient_cohort           590 non-null    object \n",
      " 2   sample_origin            590 non-null    object \n",
      " 3   age                      590 non-null    int64  \n",
      " 4   sex                      590 non-null    object \n",
      " 5   diagnosis                590 non-null    int64  \n",
      " 6   stage                    199 non-null    object \n",
      " 7   benign_sample_diagnosis  208 non-null    object \n",
      " 8   plasma_CA19_9            350 non-null    float64\n",
      " 9   creatinine               590 non-null    float64\n",
      " 10  LYVE1                    590 non-null    float64\n",
      " 11  REG1B                    590 non-null    float64\n",
      " 12  TFF1                     590 non-null    float64\n",
      " 13  REG1A                    306 non-null    float64\n",
      "dtypes: float64(6), int64(2), object(6)\n",
      "memory usage: 64.7+ KB\n"
     ]
    }
   ],
   "source": [
    "data.info()"
   ]
  },
  {
   "cell_type": "markdown",
   "metadata": {},
   "source": [
    "# Data Preprocessing and Data Analysis"
   ]
  },
  {
   "cell_type": "code",
   "execution_count": 8,
   "metadata": {},
   "outputs": [
    {
     "data": {
      "text/plain": [
       "sample_id                    0\n",
       "patient_cohort               0\n",
       "sample_origin                0\n",
       "age                          0\n",
       "sex                          0\n",
       "diagnosis                    0\n",
       "stage                      391\n",
       "benign_sample_diagnosis    382\n",
       "plasma_CA19_9              240\n",
       "creatinine                   0\n",
       "LYVE1                        0\n",
       "REG1B                        0\n",
       "TFF1                         0\n",
       "REG1A                      284\n",
       "dtype: int64"
      ]
     },
     "execution_count": 8,
     "metadata": {},
     "output_type": "execute_result"
    }
   ],
   "source": [
    "# Handling missing values\n",
    "data.isna().sum()"
   ]
  },
  {
   "cell_type": "code",
   "execution_count": 9,
   "metadata": {},
   "outputs": [
    {
     "data": {
      "text/plain": [
       "sample_id                   0.00\n",
       "patient_cohort              0.00\n",
       "sample_origin               0.00\n",
       "age                         0.00\n",
       "sex                         0.00\n",
       "diagnosis                   0.00\n",
       "stage                      66.27\n",
       "benign_sample_diagnosis    64.75\n",
       "plasma_CA19_9              40.68\n",
       "creatinine                  0.00\n",
       "LYVE1                       0.00\n",
       "REG1B                       0.00\n",
       "TFF1                        0.00\n",
       "REG1A                      48.14\n",
       "dtype: float64"
      ]
     },
     "execution_count": 9,
     "metadata": {},
     "output_type": "execute_result"
    }
   ],
   "source": [
    "# Ratio of missing values\n",
    "round(data.isna().sum()/len(data) * 100, 2)"
   ]
  },
  {
   "cell_type": "code",
   "execution_count": 12,
   "metadata": {},
   "outputs": [
    {
     "name": "stdout",
     "output_type": "stream",
     "text": [
      "   Column name Original column name                                                                                                                                                            Details\n",
      "13       REG1A          REG1A ng/ml  Urinary levels of a protein that may be associated with pancreas regeneration. Only assessed in 306 patients (one goal of the study was to assess REG1B vs REG1A)\n"
     ]
    }
   ],
   "source": [
    "# Column: REG1A\n",
    "print(data_description.loc[ data_description['Column name'] == 'REG1A'].to_string())"
   ]
  },
  {
   "cell_type": "code",
   "execution_count": 13,
   "metadata": {},
   "outputs": [
    {
     "data": {
      "text/plain": [
       "0.000        7\n",
       "137.000      2\n",
       "64.821       2\n",
       "1262.000     1\n",
       "494.080      1\n",
       "            ..\n",
       "50.007       1\n",
       "75.094       1\n",
       "519.132      1\n",
       "431.409      1\n",
       "13200.000    1\n",
       "Name: REG1A, Length: 298, dtype: int64"
      ]
     },
     "execution_count": 13,
     "metadata": {},
     "output_type": "execute_result"
    }
   ],
   "source": [
    "data.REG1A.value_counts()"
   ]
  },
  {
   "cell_type": "code",
   "execution_count": 16,
   "metadata": {},
   "outputs": [],
   "source": [
    "import seaborn as sns\n",
    "import matplotlib.pyplot as plt"
   ]
  },
  {
   "cell_type": "code",
   "execution_count": 17,
   "metadata": {
    "scrolled": true
   },
   "outputs": [
    {
     "data": {
      "image/png": "[encoded data removed]",
      "text/plain": [
       "<Figure size 640x480 with 1 Axes>"
      ]
     },
     "metadata": {},
     "output_type": "display_data"
    }
   ],
   "source": [
    "sns.histplot(data.REG1A, kde = True, bins = 100)\n",
    "plt.show()"
   ]
  },
  {
   "cell_type": "code",
   "execution_count": 19,
   "metadata": {},
   "outputs": [
    {
     "data": {
      "text/plain": [
       "(735.2812222222221, 208.5385)"
      ]
     },
     "execution_count": 19,
     "metadata": {},
     "output_type": "execute_result"
    }
   ],
   "source": [
    "np.mean(data.REG1A), np.nanmedian(data.REG1A)"
   ]
  },
  {
   "cell_type": "code",
   "execution_count": 20,
   "metadata": {},
   "outputs": [
    {
     "data": {
      "text/plain": [
       "0.000        7\n",
       "137.000      2\n",
       "64.821       2\n",
       "1262.000     1\n",
       "494.080      1\n",
       "            ..\n",
       "50.007       1\n",
       "75.094       1\n",
       "519.132      1\n",
       "431.409      1\n",
       "13200.000    1\n",
       "Name: REG1A, Length: 298, dtype: int64"
      ]
     },
     "execution_count": 20,
     "metadata": {},
     "output_type": "execute_result"
    }
   ],
   "source": [
    "data.REG1A.value_counts()"
   ]
  },
  {
   "cell_type": "code",
   "execution_count": 21,
   "metadata": {},
   "outputs": [],
   "source": [
    "data['REG1A'].fillna(value = np.nanmedian(data['REG1A']), inplace=True)"
   ]
  },
  {
   "cell_type": "code",
   "execution_count": 22,
   "metadata": {},
   "outputs": [
    {
     "data": {
      "image/png": "[encoded data removed]",
      "text/plain": [
       "<Figure size 640x480 with 1 Axes>"
      ]
     },
     "metadata": {},
     "output_type": "display_data"
    }
   ],
   "source": [
    "sns.histplot(data.REG1A, kde = True, bins = 100)\n",
    "plt.show()"
   ]
  },
  {
   "cell_type": "code",
   "execution_count": 23,
   "metadata": {},
   "outputs": [
    {
     "name": "stderr",
     "output_type": "stream",
     "text": [
      "C:\\Users\\asus\\anaconda3\\lib\\site-packages\\seaborn\\_decorators.py:36: FutureWarning: Pass the following variable as a keyword arg: x. From version 0.12, the only valid positional argument will be `data`, and passing other arguments without an explicit keyword will result in an error or misinterpretation.\n",
      "  warnings.warn(\n"
     ]
    },
    {
     "data": {
      "image/png": "[encoded data removed]",
      "text/plain": [
       "<Figure size 640x480 with 1 Axes>"
      ]
     },
     "metadata": {},
     "output_type": "display_data"
    }
   ],
   "source": [
    "sns.boxplot(data.REG1A)\n",
    "plt.show()"
   ]
  },
  {
   "cell_type": "code",
   "execution_count": 28,
   "metadata": {},
   "outputs": [
    {
     "name": "stdout",
     "output_type": "stream",
     "text": [
      "     Column name Original column name                                                                                                                                                                                                                                                                         Details\n",
      "8  plasma_CA19_9   Plasma CA19-9 U/ml  Blood plasma levels of CA 19–9 monoclonal antibody that is often elevated in patients with pancreatic cancer. Only assessed in 350 patients (one goal of the study was to compare various CA 19-9 cutpoints from a blood sample to the model developed using urinary samples).\n"
     ]
    }
   ],
   "source": [
    "# Column: plasma_CA19_9\n",
    "print(data_description.loc[ data_description['Column name'] == 'plasma_CA19_9'].to_string())"
   ]
  },
  {
   "cell_type": "code",
   "execution_count": 29,
   "metadata": {},
   "outputs": [
    {
     "data": {
      "text/plain": [
       "11.0      8\n",
       "9.0       8\n",
       "7.0       6\n",
       "10.0      5\n",
       "4.0       5\n",
       "         ..\n",
       "263.0     1\n",
       "1913.0    1\n",
       "72.0      1\n",
       "32.0      1\n",
       "1488.0    1\n",
       "Name: plasma_CA19_9, Length: 266, dtype: int64"
      ]
     },
     "execution_count": 29,
     "metadata": {},
     "output_type": "execute_result"
    }
   ],
   "source": [
    "data.plasma_CA19_9.value_counts()"
   ]
  },
  {
   "cell_type": "code",
   "execution_count": 30,
   "metadata": {},
   "outputs": [
    {
     "data": {
      "image/png": "[encoded data removed]",
      "text/plain": [
       "<Figure size 640x480 with 1 Axes>"
      ]
     },
     "metadata": {},
     "output_type": "display_data"
    }
   ],
   "source": [
    "sns.histplot(data.plasma_CA19_9, kde = True, bins = 100)\n",
    "plt.show()"
   ]
  },
  {
   "cell_type": "code",
   "execution_count": 31,
   "metadata": {},
   "outputs": [
    {
     "name": "stderr",
     "output_type": "stream",
     "text": [
      "C:\\Users\\asus\\anaconda3\\lib\\site-packages\\seaborn\\_decorators.py:36: FutureWarning: Pass the following variable as a keyword arg: x. From version 0.12, the only valid positional argument will be `data`, and passing other arguments without an explicit keyword will result in an error or misinterpretation.\n",
      "  warnings.warn(\n"
     ]
    },
    {
     "data": {
      "image/png": "[encoded data removed]",
      "text/plain": [
       "<Figure size 640x480 with 1 Axes>"
      ]
     },
     "metadata": {},
     "output_type": "display_data"
    }
   ],
   "source": [
    "sns.boxplot(data.plasma_CA19_9)\n",
    "plt.show()"
   ]
  },
  {
   "cell_type": "code",
   "execution_count": 32,
   "metadata": {},
   "outputs": [
    {
     "data": {
      "text/plain": [
       "(654.0029437763428, 26.5)"
      ]
     },
     "execution_count": 32,
     "metadata": {},
     "output_type": "execute_result"
    }
   ],
   "source": [
    "np.mean(data.plasma_CA19_9), np.nanmedian(data.plasma_CA19_9) "
   ]
  },
  {
   "cell_type": "code",
   "execution_count": 33,
   "metadata": {},
   "outputs": [
    {
     "data": {
      "text/plain": [
       "11.0      8\n",
       "9.0       8\n",
       "7.0       6\n",
       "10.0      5\n",
       "4.0       5\n",
       "         ..\n",
       "263.0     1\n",
       "1913.0    1\n",
       "72.0      1\n",
       "32.0      1\n",
       "1488.0    1\n",
       "Name: plasma_CA19_9, Length: 266, dtype: int64"
      ]
     },
     "execution_count": 33,
     "metadata": {},
     "output_type": "execute_result"
    }
   ],
   "source": [
    "data.plasma_CA19_9.value_counts()"
   ]
  },
  {
   "cell_type": "code",
   "execution_count": 34,
   "metadata": {},
   "outputs": [],
   "source": [
    "data['plasma_CA19_9'].fillna(value = np.nanmedian(data['plasma_CA19_9']), inplace=True)"
   ]
  },
  {
   "cell_type": "code",
   "execution_count": 35,
   "metadata": {},
   "outputs": [
    {
     "data": {
      "image/png": "[encoded data removed]",
      "text/plain": [
       "<Figure size 640x480 with 1 Axes>"
      ]
     },
     "metadata": {},
     "output_type": "display_data"
    }
   ],
   "source": [
    "sns.histplot(data.plasma_CA19_9, kde = True, bins = 100)\n",
    "plt.show()"
   ]
  },
  {
   "cell_type": "code",
   "execution_count": 36,
   "metadata": {},
   "outputs": [
    {
     "name": "stderr",
     "output_type": "stream",
     "text": [
      "C:\\Users\\asus\\anaconda3\\lib\\site-packages\\seaborn\\_decorators.py:36: FutureWarning: Pass the following variable as a keyword arg: x. From version 0.12, the only valid positional argument will be `data`, and passing other arguments without an explicit keyword will result in an error or misinterpretation.\n",
      "  warnings.warn(\n"
     ]
    },
    {
     "data": {
      "image/png": "[encoded data removed]",
      "text/plain": [
       "<Figure size 640x480 with 1 Axes>"
      ]
     },
     "metadata": {},
     "output_type": "display_data"
    }
   ],
   "source": [
    "sns.boxplot(data.plasma_CA19_9)\n",
    "plt.show()"
   ]
  },
  {
   "cell_type": "code",
   "execution_count": 37,
   "metadata": {},
   "outputs": [
    {
     "data": {
      "text/plain": [
       "sample_id                    0\n",
       "patient_cohort               0\n",
       "sample_origin                0\n",
       "age                          0\n",
       "sex                          0\n",
       "diagnosis                    0\n",
       "stage                      391\n",
       "benign_sample_diagnosis    382\n",
       "plasma_CA19_9                0\n",
       "creatinine                   0\n",
       "LYVE1                        0\n",
       "REG1B                        0\n",
       "TFF1                         0\n",
       "REG1A                        0\n",
       "dtype: int64"
      ]
     },
     "execution_count": 37,
     "metadata": {},
     "output_type": "execute_result"
    }
   ],
   "source": [
    "data.isna().sum()"
   ]
  },
  {
   "cell_type": "code",
   "execution_count": 39,
   "metadata": {},
   "outputs": [
    {
     "name": "stdout",
     "output_type": "stream",
     "text": [
      "               Column name      Original column name                                                                    Details\n",
      "7  benign_sample_diagnosis  Benign Samples Diagnosis  For those with a benign, non-cancerous diagnosis, what was the diagnosis?\n"
     ]
    }
   ],
   "source": [
    "# Column : begin_sample_diagnosis\n",
    "print(data_description.loc[ data_description['Column name'] == 'benign_sample_diagnosis'].to_string())"
   ]
  },
  {
   "cell_type": "code",
   "execution_count": 40,
   "metadata": {},
   "outputs": [
    {
     "data": {
      "text/plain": [
       "Pancreatitis                                                    41\n",
       "Pancreatitis (Chronic)                                          35\n",
       "Gallstones                                                      21\n",
       "Pancreatitis (Alcohol-Chronic)                                  11\n",
       "Cholecystitis                                                    9\n",
       "Serous cystadenoma - NOS                                         7\n",
       "Choledocholiathiasis                                             6\n",
       "Abdominal Pain                                                   6\n",
       "Pancreatitis (Idiopathic)                                        4\n",
       "Pancreatitis (Alcohol-Chronic-Pseuodcyst)                        4\n",
       "Pancreatitis (Gallstone)                                         4\n",
       "Pancreatitis (Pseudocyst)                                        4\n",
       "Premalignant lesions-Mucinous cystadenoma-NOS                    3\n",
       "Pancreatitis (Autoimmune)                                        3\n",
       "Serous microcystic adenoma                                       3\n",
       "Cholecystitis (Chronic)                                          3\n",
       "Gallstones - Incidental                                          3\n",
       "Premalignant lesions-Villous adenoma-NOS                         2\n",
       "Pancreatitis (Chronic-Pseudocyst)                                2\n",
       "Gallstones                                                       2\n",
       "Cholecystitis (Chronic) Cholelithiasis                           2\n",
       "Premalignant lesions-Adenoma-NOS                                 2\n",
       "Gallbladder polyps                                               2\n",
       "Premalignant lesions-Tubulovillous adenoma-NOS                   1\n",
       "Pancreatitis (Hypertriglyceridemia)                              1\n",
       "Pancreato-jejunostomy Anastomoses Stricture                      1\n",
       "Pancreatitis (Chronic) Choledocholithiasis                       1\n",
       "Pancreatitis (Hereditary-Chronic)                                1\n",
       "Pancreatitis (Gallstone-Pseudocyst)                              1\n",
       "Pancreatitis (Gallstone-Alcohol-Pseudocyst)                      1\n",
       "Premalignant lesions-Mucinous cystadenocarcinoma-noninvasive     1\n",
       "Premalignant lesions-Tubular adenoma-NOS                         1\n",
       "Pancreatitis (Idiopathic)                                        1\n",
       "Pancreatitis (Acute)                                             1\n",
       "Pancreatitis (Chronic) (Later became PDAC)                       1\n",
       "Pancreatitis (Alcohol)                                           1\n",
       "Cholecystitis                                                    1\n",
       "Cholecystitis (Chronic) Cholesterolsis                           1\n",
       "Choledochal Cyst                                                 1\n",
       "Choledocholiathiasis                                             1\n",
       "Cholelithiasis with adenomyomatous hyperplasia                   1\n",
       "Duodenal Stricture                                               1\n",
       "Duodenitis                                                       1\n",
       "Gallbladder Porcelain                                            1\n",
       "Gastritis                                                        1\n",
       "Gastritis and Reflux                                             1\n",
       "Ill defined lesion in uncinate process                           1\n",
       "Ischaemic Common Bile Duct Stricture                             1\n",
       "Pancreatitis                                                     1\n",
       "Pancreatitis (Abscess)                                           1\n",
       "Biliary Stricture (Secondary to Stent)                           1\n",
       "Simple benign liver cyst                                         1\n",
       "Name: benign_sample_diagnosis, dtype: int64"
      ]
     },
     "execution_count": 40,
     "metadata": {},
     "output_type": "execute_result"
    }
   ],
   "source": [
    "data['benign_sample_diagnosis'].value_counts()"
   ]
  },
  {
   "cell_type": "code",
   "execution_count": 41,
   "metadata": {},
   "outputs": [
    {
     "data": {
      "text/html": [
       "<div>\n",
       "<style scoped>\n",
       "    .dataframe tbody tr th:only-of-type {\n",
       "        vertical-align: middle;\n",
       "    }\n",
       "\n",
       "    .dataframe tbody tr th {\n",
       "        vertical-align: top;\n",
       "    }\n",
       "\n",
       "    .dataframe thead th {\n",
       "        text-align: right;\n",
       "    }\n",
       "</style>\n",
       "<table border=\"1\" class=\"dataframe\">\n",
       "  <thead>\n",
       "    <tr style=\"text-align: right;\">\n",
       "      <th></th>\n",
       "      <th>sample_id</th>\n",
       "      <th>patient_cohort</th>\n",
       "      <th>sample_origin</th>\n",
       "      <th>age</th>\n",
       "      <th>sex</th>\n",
       "      <th>diagnosis</th>\n",
       "      <th>stage</th>\n",
       "      <th>benign_sample_diagnosis</th>\n",
       "      <th>plasma_CA19_9</th>\n",
       "      <th>creatinine</th>\n",
       "      <th>LYVE1</th>\n",
       "      <th>REG1B</th>\n",
       "      <th>TFF1</th>\n",
       "      <th>REG1A</th>\n",
       "    </tr>\n",
       "  </thead>\n",
       "  <tbody>\n",
       "    <tr>\n",
       "      <th>183</th>\n",
       "      <td>S271</td>\n",
       "      <td>Cohort2</td>\n",
       "      <td>BPTB</td>\n",
       "      <td>32</td>\n",
       "      <td>F</td>\n",
       "      <td>2</td>\n",
       "      <td>NaN</td>\n",
       "      <td>Abdominal Pain</td>\n",
       "      <td>12.0</td>\n",
       "      <td>1.16493</td>\n",
       "      <td>5.417692</td>\n",
       "      <td>21.135</td>\n",
       "      <td>445.72500</td>\n",
       "      <td>208.5385</td>\n",
       "    </tr>\n",
       "    <tr>\n",
       "      <th>184</th>\n",
       "      <td>S299</td>\n",
       "      <td>Cohort2</td>\n",
       "      <td>BPTB</td>\n",
       "      <td>59</td>\n",
       "      <td>F</td>\n",
       "      <td>2</td>\n",
       "      <td>NaN</td>\n",
       "      <td>Abdominal Pain</td>\n",
       "      <td>26.5</td>\n",
       "      <td>0.41847</td>\n",
       "      <td>0.526248</td>\n",
       "      <td>24.111</td>\n",
       "      <td>4.09000</td>\n",
       "      <td>208.5385</td>\n",
       "    </tr>\n",
       "    <tr>\n",
       "      <th>185</th>\n",
       "      <td>S308</td>\n",
       "      <td>Cohort2</td>\n",
       "      <td>BPTB</td>\n",
       "      <td>65</td>\n",
       "      <td>F</td>\n",
       "      <td>2</td>\n",
       "      <td>NaN</td>\n",
       "      <td>Abdominal Pain</td>\n",
       "      <td>26.5</td>\n",
       "      <td>0.36192</td>\n",
       "      <td>2.343091</td>\n",
       "      <td>12.957</td>\n",
       "      <td>0.02823</td>\n",
       "      <td>208.5385</td>\n",
       "    </tr>\n",
       "    <tr>\n",
       "      <th>186</th>\n",
       "      <td>S314</td>\n",
       "      <td>Cohort2</td>\n",
       "      <td>BPTB</td>\n",
       "      <td>39</td>\n",
       "      <td>F</td>\n",
       "      <td>2</td>\n",
       "      <td>NaN</td>\n",
       "      <td>Abdominal Pain</td>\n",
       "      <td>26.5</td>\n",
       "      <td>0.89349</td>\n",
       "      <td>0.736352</td>\n",
       "      <td>21.550</td>\n",
       "      <td>105.94300</td>\n",
       "      <td>208.5385</td>\n",
       "    </tr>\n",
       "    <tr>\n",
       "      <th>187</th>\n",
       "      <td>S315</td>\n",
       "      <td>Cohort2</td>\n",
       "      <td>BPTB</td>\n",
       "      <td>65</td>\n",
       "      <td>F</td>\n",
       "      <td>2</td>\n",
       "      <td>NaN</td>\n",
       "      <td>Abdominal Pain</td>\n",
       "      <td>13.0</td>\n",
       "      <td>0.37323</td>\n",
       "      <td>0.228904</td>\n",
       "      <td>13.977</td>\n",
       "      <td>7.36700</td>\n",
       "      <td>208.5385</td>\n",
       "    </tr>\n",
       "    <tr>\n",
       "      <th>...</th>\n",
       "      <td>...</td>\n",
       "      <td>...</td>\n",
       "      <td>...</td>\n",
       "      <td>...</td>\n",
       "      <td>...</td>\n",
       "      <td>...</td>\n",
       "      <td>...</td>\n",
       "      <td>...</td>\n",
       "      <td>...</td>\n",
       "      <td>...</td>\n",
       "      <td>...</td>\n",
       "      <td>...</td>\n",
       "      <td>...</td>\n",
       "      <td>...</td>\n",
       "    </tr>\n",
       "    <tr>\n",
       "      <th>386</th>\n",
       "      <td>S360</td>\n",
       "      <td>Cohort2</td>\n",
       "      <td>BPTB</td>\n",
       "      <td>49</td>\n",
       "      <td>F</td>\n",
       "      <td>2</td>\n",
       "      <td>NaN</td>\n",
       "      <td>Serous cystadenoma - NOS</td>\n",
       "      <td>20.0</td>\n",
       "      <td>0.71253</td>\n",
       "      <td>0.632433</td>\n",
       "      <td>22.602</td>\n",
       "      <td>494.58800</td>\n",
       "      <td>208.5385</td>\n",
       "    </tr>\n",
       "    <tr>\n",
       "      <th>387</th>\n",
       "      <td>S259</td>\n",
       "      <td>Cohort2</td>\n",
       "      <td>BPTB</td>\n",
       "      <td>53</td>\n",
       "      <td>F</td>\n",
       "      <td>2</td>\n",
       "      <td>NaN</td>\n",
       "      <td>Serous microcystic adenoma</td>\n",
       "      <td>21.0</td>\n",
       "      <td>0.45240</td>\n",
       "      <td>0.963804</td>\n",
       "      <td>21.320</td>\n",
       "      <td>78.29200</td>\n",
       "      <td>208.5385</td>\n",
       "    </tr>\n",
       "    <tr>\n",
       "      <th>388</th>\n",
       "      <td>S300</td>\n",
       "      <td>Cohort2</td>\n",
       "      <td>BPTB</td>\n",
       "      <td>74</td>\n",
       "      <td>F</td>\n",
       "      <td>2</td>\n",
       "      <td>NaN</td>\n",
       "      <td>Serous microcystic adenoma</td>\n",
       "      <td>13.0</td>\n",
       "      <td>0.12441</td>\n",
       "      <td>0.000498</td>\n",
       "      <td>1.295</td>\n",
       "      <td>42.66700</td>\n",
       "      <td>208.5385</td>\n",
       "    </tr>\n",
       "    <tr>\n",
       "      <th>389</th>\n",
       "      <td>S302</td>\n",
       "      <td>Cohort2</td>\n",
       "      <td>BPTB</td>\n",
       "      <td>69</td>\n",
       "      <td>M</td>\n",
       "      <td>2</td>\n",
       "      <td>NaN</td>\n",
       "      <td>Serous microcystic adenoma</td>\n",
       "      <td>26.5</td>\n",
       "      <td>0.13572</td>\n",
       "      <td>0.000543</td>\n",
       "      <td>19.427</td>\n",
       "      <td>2.57800</td>\n",
       "      <td>208.5385</td>\n",
       "    </tr>\n",
       "    <tr>\n",
       "      <th>390</th>\n",
       "      <td>S288</td>\n",
       "      <td>Cohort2</td>\n",
       "      <td>BPTB</td>\n",
       "      <td>63</td>\n",
       "      <td>F</td>\n",
       "      <td>2</td>\n",
       "      <td>NaN</td>\n",
       "      <td>Simple benign liver cyst</td>\n",
       "      <td>26.5</td>\n",
       "      <td>0.58812</td>\n",
       "      <td>0.928816</td>\n",
       "      <td>29.334</td>\n",
       "      <td>1.87700</td>\n",
       "      <td>208.5385</td>\n",
       "    </tr>\n",
       "  </tbody>\n",
       "</table>\n",
       "<p>208 rows × 14 columns</p>\n",
       "</div>"
      ],
      "text/plain": [
       "    sample_id patient_cohort sample_origin  age sex  diagnosis stage  \\\n",
       "183      S271        Cohort2          BPTB   32   F          2   NaN   \n",
       "184      S299        Cohort2          BPTB   59   F          2   NaN   \n",
       "185      S308        Cohort2          BPTB   65   F          2   NaN   \n",
       "186      S314        Cohort2          BPTB   39   F          2   NaN   \n",
       "187      S315        Cohort2          BPTB   65   F          2   NaN   \n",
       "..        ...            ...           ...  ...  ..        ...   ...   \n",
       "386      S360        Cohort2          BPTB   49   F          2   NaN   \n",
       "387      S259        Cohort2          BPTB   53   F          2   NaN   \n",
       "388      S300        Cohort2          BPTB   74   F          2   NaN   \n",
       "389      S302        Cohort2          BPTB   69   M          2   NaN   \n",
       "390      S288        Cohort2          BPTB   63   F          2   NaN   \n",
       "\n",
       "        benign_sample_diagnosis  plasma_CA19_9  creatinine     LYVE1   REG1B  \\\n",
       "183             Abdominal Pain            12.0     1.16493  5.417692  21.135   \n",
       "184             Abdominal Pain            26.5     0.41847  0.526248  24.111   \n",
       "185             Abdominal Pain            26.5     0.36192  2.343091  12.957   \n",
       "186             Abdominal Pain            26.5     0.89349  0.736352  21.550   \n",
       "187             Abdominal Pain            13.0     0.37323  0.228904  13.977   \n",
       "..                          ...            ...         ...       ...     ...   \n",
       "386    Serous cystadenoma - NOS           20.0     0.71253  0.632433  22.602   \n",
       "387  Serous microcystic adenoma           21.0     0.45240  0.963804  21.320   \n",
       "388  Serous microcystic adenoma           13.0     0.12441  0.000498   1.295   \n",
       "389  Serous microcystic adenoma           26.5     0.13572  0.000543  19.427   \n",
       "390    Simple benign liver cyst           26.5     0.58812  0.928816  29.334   \n",
       "\n",
       "          TFF1     REG1A  \n",
       "183  445.72500  208.5385  \n",
       "184    4.09000  208.5385  \n",
       "185    0.02823  208.5385  \n",
       "186  105.94300  208.5385  \n",
       "187    7.36700  208.5385  \n",
       "..         ...       ...  \n",
       "386  494.58800  208.5385  \n",
       "387   78.29200  208.5385  \n",
       "388   42.66700  208.5385  \n",
       "389    2.57800  208.5385  \n",
       "390    1.87700  208.5385  \n",
       "\n",
       "[208 rows x 14 columns]"
      ]
     },
     "execution_count": 41,
     "metadata": {},
     "output_type": "execute_result"
    }
   ],
   "source": [
    "data.loc[ (data.benign_sample_diagnosis.isna() == False) ]"
   ]
  },
  {
   "cell_type": "code",
   "execution_count": 42,
   "metadata": {},
   "outputs": [
    {
     "data": {
      "text/plain": [
       "2    208\n",
       "Name: diagnosis, dtype: int64"
      ]
     },
     "execution_count": 42,
     "metadata": {},
     "output_type": "execute_result"
    }
   ],
   "source": [
    "data.loc[ (data.benign_sample_diagnosis.isna() == False), 'diagnosis'].value_counts()"
   ]
  },
  {
   "cell_type": "code",
   "execution_count": 44,
   "metadata": {},
   "outputs": [
    {
     "name": "stdout",
     "output_type": "stream",
     "text": [
      "  Column name Original column name                                                                                Details\n",
      "6       stage                Stage  For those with pancratic cancer, what stage was it? One of IA, IB, IIA, IIIB, III, IV\n"
     ]
    }
   ],
   "source": [
    "# Stage\n",
    "print(data_description.loc[ data_description['Column name'] == 'stage'].to_string())"
   ]
  },
  {
   "cell_type": "code",
   "execution_count": 45,
   "metadata": {},
   "outputs": [
    {
     "data": {
      "text/plain": [
       "III    76\n",
       "IIB    68\n",
       "IV     21\n",
       "IB     12\n",
       "IIA    11\n",
       "II      7\n",
       "IA      3\n",
       "I       1\n",
       "Name: stage, dtype: int64"
      ]
     },
     "execution_count": 45,
     "metadata": {},
     "output_type": "execute_result"
    }
   ],
   "source": [
    "data.stage.value_counts()"
   ]
  },
  {
   "cell_type": "code",
   "execution_count": 46,
   "metadata": {},
   "outputs": [
    {
     "data": {
      "text/plain": [
       "3    199\n",
       "Name: diagnosis, dtype: int64"
      ]
     },
     "execution_count": 46,
     "metadata": {},
     "output_type": "execute_result"
    }
   ],
   "source": [
    "data.loc[ (data.stage.isna() == False), 'diagnosis'].value_counts()"
   ]
  },
  {
   "cell_type": "code",
   "execution_count": 47,
   "metadata": {},
   "outputs": [],
   "source": [
    "# We consider dropping these columns, since we are not going to use them!\n",
    "data.drop(columns = ['benign_sample_diagnosis','stage'], inplace = True)"
   ]
  },
  {
   "cell_type": "code",
   "execution_count": 48,
   "metadata": {},
   "outputs": [
    {
     "data": {
      "text/plain": [
       "sample_id         0\n",
       "patient_cohort    0\n",
       "sample_origin     0\n",
       "age               0\n",
       "sex               0\n",
       "diagnosis         0\n",
       "plasma_CA19_9     0\n",
       "creatinine        0\n",
       "LYVE1             0\n",
       "REG1B             0\n",
       "TFF1              0\n",
       "REG1A             0\n",
       "dtype: int64"
      ]
     },
     "execution_count": 48,
     "metadata": {},
     "output_type": "execute_result"
    }
   ],
   "source": [
    "data.isna().sum()"
   ]
  },
  {
   "cell_type": "code",
   "execution_count": 49,
   "metadata": {},
   "outputs": [
    {
     "data": {
      "text/plain": [
       "0        S1\n",
       "1       S10\n",
       "2      S100\n",
       "3      S101\n",
       "4      S102\n",
       "       ... \n",
       "585    S549\n",
       "586    S558\n",
       "587    S560\n",
       "588    S583\n",
       "589    S590\n",
       "Name: sample_id, Length: 590, dtype: object"
      ]
     },
     "execution_count": 49,
     "metadata": {},
     "output_type": "execute_result"
    }
   ],
   "source": [
    "# Dropping sample_id column, since we are not going to use for the prediction task\n",
    "data.sample_id"
   ]
  },
  {
   "cell_type": "code",
   "execution_count": 50,
   "metadata": {},
   "outputs": [],
   "source": [
    "data.drop(columns = ['sample_id'], inplace=True)"
   ]
  },
  {
   "cell_type": "code",
   "execution_count": 51,
   "metadata": {},
   "outputs": [],
   "source": [
    "# Exploratory Data Analysis----------Univariate Analysis"
   ]
  },
  {
   "cell_type": "code",
   "execution_count": null,
   "metadata": {},
   "outputs": [],
   "source": []
  }
 ],
 "metadata": {
  "kernelspec": {
   "display_name": "Python 3 (ipykernel)",
   "language": "python",
   "name": "python3"
  },
  "language_info": {
   "codemirror_mode": {
    "name": "ipython",
    "version": 3
   },
   "file_extension": ".py",
   "mimetype": "text/x-python",
   "name": "python",
   "nbconvert_exporter": "python",
   "pygments_lexer": "ipython3",
   "version": "3.9.13"
  }
 },
 "nbformat": 4,
 "nbformat_minor": 2
}
